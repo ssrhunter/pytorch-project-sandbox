{
 "cells": [
  {
   "cell_type": "markdown",
   "metadata": {
    "id": "fu6G9Pd6NtoP"
   },
   "source": [
    "# Pytorch Model Deployment\n",
    "\n",
    "Author: Ross Hunter\n",
    "\n",
    "Date: 2025-10-07\n",
    "\n",
    "## Resources:\n",
    "\n",
    "Lesson Textbook:\n",
    "https://www.learnpytorch.io/09_pytorch_model_deployment/#0-getting-setup\n",
    "\n",
    "Github:\n",
    "https://github.com/mrdbourke/pytorch-deep-learning/blob/main/09_pytorch_model_deployment.ipynb\n",
    "\n",
    "Slides:\n",
    "https://github.com/mrdbourke/pytorch-deep-learning/blob/main/slides/09_pytorch_model_deployment.pdf"
   ]
  },
  {
   "cell_type": "markdown",
   "metadata": {
    "id": "NmhXQeijPEtC"
   },
   "source": [
    "## Setup"
   ]
  },
  {
   "cell_type": "code",
   "execution_count": 17,
   "metadata": {},
   "outputs": [
    {
     "name": "stdout",
     "output_type": "stream",
     "text": [
      "Operating System: Windows\n"
     ]
    }
   ],
   "source": [
    "import platform\n",
    "os_name = platform.system()\n",
    "print(f\"Operating System: {os_name}\")"
   ]
  },
  {
   "cell_type": "code",
   "execution_count": 18,
   "metadata": {
    "colab": {
     "base_uri": "https://localhost:8080/"
    },
    "id": "-iOvJazxPH9C",
    "outputId": "d0475183-0a58-4509-c48b-1417416fd140"
   },
   "outputs": [
    {
     "name": "stdout",
     "output_type": "stream",
     "text": [
      "torch version: 2.5.1\n",
      "torchvision version: 0.20.1\n"
     ]
    }
   ],
   "source": [
    "# For this notebook to run with updated APIs, we need torch 1.12+ and torchvision 0.13+\n",
    "try:\n",
    "    import torch\n",
    "    import torchvision\n",
    "    assert int(torch.__version__.split(\".\")[1]) >= 12 or int(torch.__version__.split(\".\")[0]) >= 2, \"torch version should be 1.12+\"\n",
    "    assert int(torchvision.__version__.split(\".\")[1]) >= 13 or int(torchvision.__version__.split(\".\")[0]) >= 1, \"torchvision version should be 0.13+\"\n",
    "    print(f\"torch version: {torch.__version__}\")\n",
    "    print(f\"torchvision version: {torchvision.__version__}\")\n",
    "except:    \n",
    "    print(f\"[INFO] torch/torchvision versions not as required, installing nightly versions.\")\n",
    "    if os_name == \"Windows\":\n",
    "        print(f\"Running commands for OS: : {os_name}\")\n",
    "        # TODO: add Windows version of the commands here.\n",
    "        # Base them on WSL Windows Linux Subsystem\n",
    "    else:\n",
    "        print(f\"Running commands for OS: {os_name}\")\n",
    "        !pip3 install -U torch torchvision torchaudio --extra-index-url https://download.pytorch.org/whl/cu113\n",
    "    import torch\n",
    "    import torchvision\n",
    "    print(f\"torch version: {torch.__version__}\")\n",
    "    print(f\"torchvision version: {torchvision.__version__}\")"
   ]
  },
  {
   "cell_type": "code",
   "execution_count": 19,
   "metadata": {
    "colab": {
     "base_uri": "https://localhost:8080/"
    },
    "id": "zbUoKjztQhuC",
    "outputId": "b082e095-a687-4816-919e-5932606184e8"
   },
   "outputs": [],
   "source": [
    "# Continue with regular imports\n",
    "import matplotlib.pyplot as plt\n",
    "#import torch\n",
    "#import torchvision\n",
    "\n",
    "from torch import nn\n",
    "from torchvision import transforms\n",
    "\n",
    "# Try to get torchinfo, install it if it doesn't work\n",
    "try:\n",
    "    from torchinfo import summary\n",
    "except:\n",
    "    print(\"[INFO] Couldn't find torchinfo... installing it.\")\n",
    "    if os_name == \"Windows\":\n",
    "        !conda install -q torchinfo\n",
    "    else:\n",
    "        !pip install -q torchinfo\n",
    "        from torchinfo import summary\n",
    "\n",
    "# Try to import the going_modular directory, download it from GitHub if it doesn't work\n",
    "try:\n",
    "    from going_modular.going_modular import data_setup, engine\n",
    "    from helper_functions import download_data, set_seeds, plot_loss_curves\n",
    "except:\n",
    "    # Get the going_modular scripts\n",
    "    print(\"[INFO] Couldn't find going_modular or helper_functions scripts... downloading them from GitHub.\")\n",
    "    if os_name == \"Windows\":\n",
    "        print(f\"Running commands for OS: : {os_name}\")\n",
    "    else:\n",
    "        print(f\"Running commands for OS: : {os_name}\")\n",
    "        !git clone https://github.com/mrdbourke/pytorch-deep-learning\n",
    "        !mv pytorch-deep-learning/going_modular .\n",
    "        !mv pytorch-deep-learning/helper_functions.py . # get the helper_functions.py script\n",
    "        !rm -rf pytorch-deep-learning\n",
    "    from going_modular.going_modular import data_setup, engine\n",
    "    from helper_functions import download_data, set_seeds, plot_loss_curves"
   ]
  },
  {
   "cell_type": "code",
   "execution_count": 20,
   "metadata": {
    "colab": {
     "base_uri": "https://localhost:8080/",
     "height": 35
    },
    "id": "nhsfKf8NR_da",
    "outputId": "3dc6001e-f186-4102-9ee6-1ab610d4818e"
   },
   "outputs": [
    {
     "data": {
      "text/plain": [
       "'cuda'"
      ]
     },
     "execution_count": 20,
     "metadata": {},
     "output_type": "execute_result"
    }
   ],
   "source": [
    "device = \"cuda\" if torch.cuda.is_available() else \"cpu\"\n",
    "device"
   ]
  },
  {
   "cell_type": "markdown",
   "metadata": {
    "id": "HO1EhxuwOqsC"
   },
   "source": [
    "## 1. Getting Data\n",
    "\n",
    "The dataset we're going to use for deploying a FoodVision Mini model:\n",
    "\n",
    "Pizza, steak, sushi dataset."
   ]
  },
  {
   "cell_type": "code",
   "execution_count": 21,
   "metadata": {
    "colab": {
     "base_uri": "https://localhost:8080/"
    },
    "id": "h_fq_e_zSUNT",
    "outputId": "ba47bed3-2fe9-47cc-9b32-b5a452ce0ad2"
   },
   "outputs": [
    {
     "name": "stdout",
     "output_type": "stream",
     "text": [
      "[INFO] data\\pizza_steak_sushi_20_percent directory exists, skipping download.\n"
     ]
    },
    {
     "data": {
      "text/plain": [
       "WindowsPath('data/pizza_steak_sushi_20_percent')"
      ]
     },
     "execution_count": 21,
     "metadata": {},
     "output_type": "execute_result"
    }
   ],
   "source": [
    "# Download pizza, steak, sushi images from GitHub\n",
    "data_20_percent_path = download_data(source=\"https://github.com/mrdbourke/pytorch-deep-learning/raw/main/data/pizza_steak_sushi_20_percent.zip\",\n",
    "                                     destination=\"pizza_steak_sushi_20_percent\")\n",
    "\n",
    "data_20_percent_path"
   ]
  },
  {
   "cell_type": "code",
   "execution_count": 22,
   "metadata": {
    "id": "xtpdiUPYSWL6"
   },
   "outputs": [],
   "source": [
    "# Setup directory paths to train and test images\n",
    "train_dir = data_20_percent_path / \"train\"\n",
    "test_dir = data_20_percent_path / \"test\""
   ]
  },
  {
   "cell_type": "markdown",
   "metadata": {
    "id": "TPFWy1q-Sifh"
   },
   "source": [
    "## 2 FoodVision Mini model deployment experiment outline\n",
    "\n",
    "### Questions\n",
    "1. What is my most ideal machine learning model deployment scenario?\n",
    "2. Where is my model going to go?\n",
    "3. How is my model going to function?\n",
    "\n",
    "**FoodVision Mini ideal use case:** A model that performs well and fast.\n",
    "* Performs with 95%+ accuracy\n",
    "* Fast: as close to real-time (or faster) (30FPS+ or 30ms latency)\n",
    "  * Latency = time for prediction to take place.\n",
    "\n",
    "Models: EffNetB2, ViT\n",
    "\n",
    "Get metrics on the models and compare them. Choose the best model for the use case.and\n",
    "\n",
    "Two experiments:\n",
    "1. EffNetB2 feature extractor ( just like in 07. PyTorch Experiment Tracking)\n",
    "2. ViT feature extractor (just like in 08. PyTorch Paper Replicating)\n",
    "\n",
    "\n"
   ]
  },
  {
   "cell_type": "markdown",
   "metadata": {
    "id": "sJzovi_Let-6"
   },
   "source": [
    "## 3. Creating an EffNetB2 feature extractor.\n",
    "\n",
    "Feature extractor - a term for a transfer learning model that has its base layers frozen and output layers (or head layers) customized to a certain problem.\n",
    "\n",
    "EffNetB2 pretrained model in PyTorch - https://docs.pytorch.org/vision/main/models/generated/torchvision.models.efficientnet_b2.html"
   ]
  },
  {
   "cell_type": "code",
   "execution_count": 23,
   "metadata": {
    "id": "Qw5UlPOfe2Ea"
   },
   "outputs": [],
   "source": [
    "import torchvision\n",
    "from torchinfo import summary\n",
    "from typing import Tuple\n",
    "\n",
    "def create_effnetb2_model(num_classes: int = 3, seed: int = 42) -> Tuple[torch.nn.Module, torchvision.transforms._presets.ImageClassification]:\n",
    "\n",
    "  # 1. Setup pretrained EffNetB2 weights\n",
    "  effnetb2_weights = torchvision.models.EfficientNet_B2_Weights.DEFAULT # DEFAULT == best available\n",
    "\n",
    "  # 2. Get EffNetB2 transforms - for getting our data into the same format that the original model was trained on.\n",
    "  effnetb2_transforms = effnetb2_weights.transforms()\n",
    "\n",
    "  # 3. Setup pretrained model instance. It's also possible to use weights=\"DEFAULT\" if you want to skip getting the weights in step #1\n",
    "  effnetb2 = torchvision.models.efficientnet_b2(weights=effnetb2_weights).to(device)\n",
    "\n",
    "  # 4. Freeze the base layers in the model (this will stop all layers from training)\n",
    "  for param in effnetb2.parameters():\n",
    "    param.requires_grad = False # prevent params from being updated by gradient descent in our training loop.\n",
    "\n",
    "  # 5. Set seeds for reproducibility\n",
    "  torch.manual_seed(seed)\n",
    "  torch.cuda.manual_seed(seed)\n",
    "\n",
    "  # update the classifier layer to make it trainable\n",
    "  effnetb2.classifier = nn.Sequential(\n",
    "    nn.Dropout(p=0.3, inplace=True),\n",
    "    nn.Linear(in_features = 1408, out_features=num_classes)\n",
    "  )\n",
    "\n",
    "  return effnetb2, effnetb2_transforms"
   ]
  },
  {
   "cell_type": "markdown",
   "metadata": {
    "id": "Imn_I2QuwDWS"
   },
   "source": [
    "Fine tuning: we wouldn't freeze all layers in the base model, we would tune some of them to our own custom data.\n",
    "\n",
    "Feature extractor: just leave the top layers trainable."
   ]
  },
  {
   "cell_type": "code",
   "execution_count": 24,
   "metadata": {
    "colab": {
     "base_uri": "https://localhost:8080/"
    },
    "id": "F-Lgw4ryo97a",
    "outputId": "88a54f82-1cf5-4a3d-ed06-f39e3249b52e"
   },
   "outputs": [],
   "source": [
    "effnetb2, effnetb2_transforms = create_effnetb2_model()"
   ]
  },
  {
   "cell_type": "code",
   "execution_count": 25,
   "metadata": {
    "colab": {
     "base_uri": "https://localhost:8080/"
    },
    "id": "nLrs4EgBxV6y",
    "outputId": "30650e17-2675-434c-b758-10548e1a065a"
   },
   "outputs": [
    {
     "data": {
      "text/plain": [
       "ImageClassification(\n",
       "    crop_size=[288]\n",
       "    resize_size=[288]\n",
       "    mean=[0.485, 0.456, 0.406]\n",
       "    std=[0.229, 0.224, 0.225]\n",
       "    interpolation=InterpolationMode.BICUBIC\n",
       ")"
      ]
     },
     "execution_count": 25,
     "metadata": {},
     "output_type": "execute_result"
    }
   ],
   "source": [
    "effnetb2_transforms"
   ]
  },
  {
   "cell_type": "code",
   "execution_count": 26,
   "metadata": {
    "colab": {
     "base_uri": "https://localhost:8080/"
    },
    "id": "oqsnLgl8sIDy",
    "outputId": "076a396b-4db5-43c2-f3ac-bd0cfa5b360a"
   },
   "outputs": [
    {
     "data": {
      "text/plain": [
       "Sequential(\n",
       "  (0): Dropout(p=0.3, inplace=True)\n",
       "  (1): Linear(in_features=1408, out_features=3, bias=True)\n",
       ")"
      ]
     },
     "execution_count": 26,
     "metadata": {},
     "output_type": "execute_result"
    }
   ],
   "source": [
    "effnetb2.classifier"
   ]
  },
  {
   "cell_type": "code",
   "execution_count": 27,
   "metadata": {
    "id": "DbTRsviEpmTa"
   },
   "outputs": [],
   "source": [
    "# Print EffNetB2 model summary (uncomment for full output)\n",
    "# summary(effnetb2,\n",
    "#        input_size=(1, 3, 244, 244),\n",
    "#        col_names=[\"input_size\", \"output_size\", \"num_params\", \"trainable\"],\n",
    "#        col_width=20,\n",
    "#        row_settings=[\"var_names\"])"
   ]
  },
  {
   "cell_type": "markdown",
   "metadata": {
    "id": "qyJCoH4WqJxa"
   },
   "source": [
    "### Creating DataLoaders for EffNetB2"
   ]
  },
  {
   "cell_type": "code",
   "execution_count": 28,
   "metadata": {
    "id": "AMqtvizjzi4p"
   },
   "outputs": [],
   "source": [
    "# Setup DataLoaders\n",
    "from going_modular.going_modular import data_setup\n",
    "\n",
    "train_dataloader_effnetb2, test_dataloader_effnetb2, class_names = data_setup.create_dataloaders(train_dir=train_dir, test_dir=test_dir, transform=effnetb2_transforms, batch_size=32)"
   ]
  },
  {
   "cell_type": "code",
   "execution_count": 29,
   "metadata": {
    "colab": {
     "base_uri": "https://localhost:8080/"
    },
    "id": "ZUybcxrG0kWp",
    "outputId": "db503fb1-29bb-4a3f-eca0-681d46cca5ec"
   },
   "outputs": [
    {
     "data": {
      "text/plain": [
       "(15, 5, ['pizza', 'steak', 'sushi'])"
      ]
     },
     "execution_count": 29,
     "metadata": {},
     "output_type": "execute_result"
    }
   ],
   "source": [
    "len(train_dataloader_effnetb2), len(test_dataloader_effnetb2), class_names"
   ]
  },
  {
   "cell_type": "markdown",
   "metadata": {
    "id": "AyCRKZcJ0xG6"
   },
   "source": [
    "### Training EffNetB2 feature extractor"
   ]
  },
  {
   "cell_type": "code",
   "execution_count": 30,
   "metadata": {
    "id": "7ACiN0p_1Arh"
   },
   "outputs": [],
   "source": [
    "from going_modular.going_modular.engine import train\n",
    "\n",
    "# Loss function\n",
    "loss_fn = nn.CrossEntropyLoss()\n",
    "\n",
    "# Optimizer NOTE 2025-10-07: I just realized that I used\n",
    "# the wrong lr (learning rate) value, 0.1. It should have\n",
    "# been 1e-3. That's why the results came out really bad,\n",
    "# it was overcorrecting on the optimizer step.\n",
    "optimizer = torch.optim.Adam(effnetb2.parameters(), lr=1e-3)\n",
    "\n",
    "# Training function (engine.py)\n",
    "# imported above"
   ]
  },
  {
   "cell_type": "code",
   "execution_count": 31,
   "metadata": {
    "colab": {
     "base_uri": "https://localhost:8080/",
     "height": 277,
     "referenced_widgets": [
      "97665146337c44d68cf1dce421d1aa17",
      "30ef8a40c9234e879c5620c7acaec363",
      "5c5fd90e943b4bb999fa40ad8011dcae",
      "2112016e671e48469654d4d684b791ba",
      "21f132c626f94b1488c6d4eeace26427",
      "c61c77e0c10140998752b2ecf30ad508",
      "4b6b455c90394bf18773879fa9d76a2d",
      "1b10605b0b7c48de8b897f4658874800",
      "636937be72ec4696b1de25e309bd486e",
      "63e540b207414a209b22e41cf27c0b42",
      "9abcbe3a4b6347ef81d947b143eee343"
     ]
    },
    "id": "motvvoCq1IYJ",
    "outputId": "8c13f791-09e4-4288-965f-d43e58c4b311"
   },
   "outputs": [
    {
     "data": {
      "application/vnd.jupyter.widget-view+json": {
       "model_id": "26c6263900ac47d7b61b77cefd46e0f5",
       "version_major": 2,
       "version_minor": 0
      },
      "text/plain": [
       "  0%|          | 0/10 [00:00<?, ?it/s]"
      ]
     },
     "metadata": {},
     "output_type": "display_data"
    },
    {
     "name": "stdout",
     "output_type": "stream",
     "text": [
      "Epoch: 1 | train_loss: 0.9832 | train_acc: 0.5729 | test_loss: 0.7374 | test_acc: 0.9347\n",
      "Epoch: 2 | train_loss: 0.7092 | train_acc: 0.8438 | test_loss: 0.5865 | test_acc: 0.9347\n",
      "Epoch: 3 | train_loss: 0.5852 | train_acc: 0.9000 | test_loss: 0.4871 | test_acc: 0.9563\n",
      "Epoch: 4 | train_loss: 0.4469 | train_acc: 0.9062 | test_loss: 0.4341 | test_acc: 0.9409\n",
      "Epoch: 5 | train_loss: 0.4216 | train_acc: 0.9125 | test_loss: 0.3886 | test_acc: 0.9290\n",
      "Epoch: 6 | train_loss: 0.4397 | train_acc: 0.8854 | test_loss: 0.3500 | test_acc: 0.9688\n",
      "Epoch: 7 | train_loss: 0.4297 | train_acc: 0.8667 | test_loss: 0.3251 | test_acc: 0.9563\n",
      "Epoch: 8 | train_loss: 0.3805 | train_acc: 0.9042 | test_loss: 0.3457 | test_acc: 0.9318\n",
      "Epoch: 9 | train_loss: 0.3748 | train_acc: 0.8896 | test_loss: 0.3122 | test_acc: 0.9256\n",
      "Epoch: 10 | train_loss: 0.3692 | train_acc: 0.8604 | test_loss: 0.2792 | test_acc: 0.9688\n"
     ]
    }
   ],
   "source": [
    "# Set seeds for reproducibility and train the model.\n",
    "set_seeds()\n",
    "training_results_v0 = train(model=effnetb2,\n",
    "      train_dataloader=train_dataloader_effnetb2,\n",
    "      test_dataloader=test_dataloader_effnetb2,\n",
    "      optimizer=optimizer,\n",
    "      loss_fn=loss_fn,\n",
    "      epochs=10,\n",
    "      device=device)"
   ]
  },
  {
   "cell_type": "code",
   "execution_count": 32,
   "metadata": {
    "colab": {
     "base_uri": "https://localhost:8080/"
    },
    "id": "QFG7st2Z5gSR",
    "outputId": "238fcba4-1297-4301-bc65-26b795bcc1a5"
   },
   "outputs": [
    {
     "data": {
      "text/plain": [
       "{'train_loss': [0.9832229693730672,\n",
       "  0.7091799815495808,\n",
       "  0.5852022806803385,\n",
       "  0.4469022144873937,\n",
       "  0.42164493203163145,\n",
       "  0.4397339701652527,\n",
       "  0.42968730330467225,\n",
       "  0.38051337997118634,\n",
       "  0.3748067071040471,\n",
       "  0.36915046274662017],\n",
       " 'train_acc': [0.5729166666666666,\n",
       "  0.84375,\n",
       "  0.9,\n",
       "  0.90625,\n",
       "  0.9125,\n",
       "  0.8854166666666666,\n",
       "  0.8666666666666667,\n",
       "  0.9041666666666667,\n",
       "  0.8895833333333333,\n",
       "  0.8604166666666667],\n",
       " 'test_loss': [0.7373863816261291,\n",
       "  0.5864576816558837,\n",
       "  0.48707672357559206,\n",
       "  0.4341265559196472,\n",
       "  0.388616019487381,\n",
       "  0.35001319646835327,\n",
       "  0.32508150339126585,\n",
       "  0.34569818079471587,\n",
       "  0.31218922734260557,\n",
       "  0.2792456090450287],\n",
       " 'test_acc': [0.934659090909091,\n",
       "  0.934659090909091,\n",
       "  0.95625,\n",
       "  0.940909090909091,\n",
       "  0.9289772727272727,\n",
       "  0.96875,\n",
       "  0.95625,\n",
       "  0.9318181818181819,\n",
       "  0.9255681818181818,\n",
       "  0.96875]}"
      ]
     },
     "execution_count": 32,
     "metadata": {},
     "output_type": "execute_result"
    }
   ],
   "source": [
    "training_results_v0"
   ]
  },
  {
   "cell_type": "markdown",
   "metadata": {
    "id": "oTU4W767Ad8S"
   },
   "source": [
    "** Note ** - Data augmentation can help prevent overfitting."
   ]
  },
  {
   "cell_type": "code",
   "execution_count": 33,
   "metadata": {
    "colab": {
     "base_uri": "https://localhost:8080/",
     "height": 641
    },
    "id": "Zefbh97s-NTC",
    "outputId": "e7cd0b7c-e35c-45f5-b5de-54a546e576e1"
   },
   "outputs": [
    {
     "data": {
      "image/png": "[encoded data removed]",
      "text/plain": [
       "<Figure size 1500x700 with 2 Axes>"
      ]
     },
     "metadata": {},
     "output_type": "display_data"
    }
   ],
   "source": [
    "plot_loss_curves(training_results_v0)"
   ]
  },
  {
   "cell_type": "markdown",
   "metadata": {
    "id": "hYJMddzgAlxq"
   },
   "source": [
    "### Saving EffNetB2 feature extractor"
   ]
  },
  {
   "cell_type": "code",
   "execution_count": 34,
   "metadata": {
    "colab": {
     "base_uri": "https://localhost:8080/"
    },
    "id": "DE1VYPoqAq4Y",
    "outputId": "ea85f24a-28d2-45f3-bb27-9d68d407f3da"
   },
   "outputs": [
    {
     "name": "stdout",
     "output_type": "stream",
     "text": [
      "[INFO] Saving model to: models\\09_pretrained_effnetb2_feature_extractor_pizza_steak_sushi_20_percent.pth\n"
     ]
    }
   ],
   "source": [
    "from going_modular.going_modular import utils\n",
    "\n",
    "# Save the model\n",
    "utils.save_model(model=effnetb2,\n",
    "                 target_dir=\"models\",\n",
    "                 model_name=\"09_pretrained_effnetb2_feature_extractor_pizza_steak_sushi_20_percent.pth\")"
   ]
  },
  {
   "cell_type": "markdown",
   "metadata": {
    "id": "hmZwasc6P--Z"
   },
   "source": [
    "### Inspecting the size of our EffNetB2 feature extractor\n",
    "\n",
    "* If the model is too large, we may not be able to store or run it on our target device."
   ]
  },
  {
   "cell_type": "code",
   "execution_count": 35,
   "metadata": {
    "colab": {
     "base_uri": "https://localhost:8080/"
    },
    "id": "RZqFhkdvSWEZ",
    "outputId": "7a04679a-5e53-45e1-c2c6-23f3a445fbaf"
   },
   "outputs": [
    {
     "name": "stdout",
     "output_type": "stream",
     "text": [
      "Pretrained model size in megabytes: 29.86\n"
     ]
    }
   ],
   "source": [
    "from pathlib import Path\n",
    "\n",
    "# Get the model size in bytes and convert to megabytes\n",
    "pretrained_effnetb2_model_size = Path(\"models/09_pretrained_effnetb2_feature_extractor_pizza_steak_sushi_20_percent.pth\").stat().st_size / (1024 * 1024)\n",
    "print(f\"Pretrained model size in megabytes: {round(pretrained_effnetb2_model_size, 2):.2f}\")"
   ]
  },
  {
   "cell_type": "markdown",
   "metadata": {
    "id": "PZL5HksQTQ15"
   },
   "source": [
    "### Collecting EffNetB2 Feature Extractor Stats"
   ]
  },
  {
   "cell_type": "code",
   "execution_count": 36,
   "metadata": {
    "colab": {
     "base_uri": "https://localhost:8080/"
    },
    "id": "43qR2tN4WO1i",
    "outputId": "fd2e6655-2e73-47d8-a1a2-abddf40862a5"
   },
   "outputs": [
    {
     "data": {
      "text/plain": [
       "7705221"
      ]
     },
     "execution_count": 36,
     "metadata": {},
     "output_type": "execute_result"
    }
   ],
   "source": [
    "# Count number of parameters in EffNetB2\n",
    "effnetb2_total_params = sum(torch.numel(param) for param in effnetb2.parameters())\n",
    "effnetb2_total_params"
   ]
  },
  {
   "cell_type": "code",
   "execution_count": 37,
   "metadata": {
    "colab": {
     "base_uri": "https://localhost:8080/"
    },
    "id": "NzHkzjg6W7lx",
    "outputId": "77ef7c8a-358c-4573-ff36-29defe725e0d"
   },
   "outputs": [
    {
     "data": {
      "text/plain": [
       "{'test_loss': 0.2792456090450287,\n",
       " 'test_acc': 0.96875,\n",
       " 'number_of_parameters': 7705221,\n",
       " 'model_size (MB)': 29.8638858795166}"
      ]
     },
     "execution_count": 37,
     "metadata": {},
     "output_type": "execute_result"
    }
   ],
   "source": [
    "# Create a dictionary with EffNetB2 statistics\n",
    "effnetb2_stats = {\"test_loss\": training_results_v0[\"test_loss\"][-1],\n",
    "                  \"test_acc\": training_results_v0[\"test_acc\"][-1],\n",
    "                  \"number_of_parameters\": effnetb2_total_params,\n",
    "                  \"model_size (MB)\": pretrained_effnetb2_model_size}\n",
    "effnetb2_stats"
   ]
  },
  {
   "cell_type": "markdown",
   "metadata": {
    "id": "0mmkPItzYg-B"
   },
   "source": [
    "## Creating a ViT feature extractor\n",
    "\n",
    "Instantiate the ViT model\n"
   ]
  },
  {
   "cell_type": "code",
   "execution_count": 38,
   "metadata": {
    "id": "jnNe_7s9gK9S"
   },
   "outputs": [],
   "source": [
    "import torchvision\n",
    "from torchinfo import summary\n",
    "from typing import Tuple\n",
    "\n",
    "def create_vit_model(num_classes: int = 3, seed: int = 42) -> Tuple[torch.nn.Module, torchvision.transforms._presets.ImageClassification]:\n",
    "\n",
    "  # 1. Setup pretrained model weights\n",
    "  model_weights = torchvision.models.ViT_B_16_Weights.DEFAULT # DEFAULT == best available\n",
    "\n",
    "  # 2. Get model transforms - for getting our data into the same format that the original model was trained on.\n",
    "  model_transforms = model_weights.transforms()\n",
    "\n",
    "  # 3. Setup pretrained model instance. It's also possible to use weights=\"DEFAULT\" if you want to skip getting the weights in step #1\n",
    "  model = torchvision.models.vit_b_16(weights=model_weights).to(device)\n",
    "\n",
    "  # 4. Freeze the base layers in the model (this will stop all layers from training)\n",
    "  for param in model.parameters():\n",
    "    param.requires_grad = False # prevent params from being updated by gradient descent in our training loop.\n",
    "\n",
    "  # 5. Set seeds for reproducibility\n",
    "  torch.manual_seed(seed)\n",
    "  torch.cuda.manual_seed(seed)\n",
    "\n",
    "  # update the classifier layer to make it trainable\n",
    "  model.heads = nn.Sequential(\n",
    "    # It appears as though the original ViT model didn't have a dropout layer.\n",
    "    nn.Linear(in_features = 768, out_features=num_classes, bias=True)\n",
    "  )\n",
    "\n",
    "  return model, model_transforms"
   ]
  },
  {
   "cell_type": "code",
   "execution_count": 39,
   "metadata": {
    "colab": {
     "base_uri": "https://localhost:8080/"
    },
    "id": "A0XmX25Oh8Gr",
    "outputId": "5ba426de-78dd-49cd-e2e6-1fcac6ed7bf7"
   },
   "outputs": [],
   "source": [
    "vitb16, vitb16_transforms = create_vit_model()"
   ]
  },
  {
   "cell_type": "markdown",
   "metadata": {
    "id": "LuPJexMmZCdx"
   },
   "source": [
    "### Creating DataLoaders for ViT"
   ]
  },
  {
   "cell_type": "code",
   "execution_count": 40,
   "metadata": {
    "id": "qZ-V9O5MidzD"
   },
   "outputs": [],
   "source": [
    "# Setup DataLoaders\n",
    "from going_modular.going_modular import data_setup\n",
    "\n",
    "train_dataloader_vitb16, test_dataloader_vitb16, class_names = data_setup.create_dataloaders(train_dir=train_dir, test_dir=test_dir, transform=vitb16_transforms, batch_size=32)"
   ]
  },
  {
   "cell_type": "code",
   "execution_count": 41,
   "metadata": {
    "colab": {
     "base_uri": "https://localhost:8080/"
    },
    "id": "4Y-lQqo6iudq",
    "outputId": "57a5a8f5-0655-4510-dc49-2ecdd6b5c2bc"
   },
   "outputs": [
    {
     "data": {
      "text/plain": [
       "(15, 5, ['pizza', 'steak', 'sushi'])"
      ]
     },
     "execution_count": 41,
     "metadata": {},
     "output_type": "execute_result"
    }
   ],
   "source": [
    "len(train_dataloader_vitb16), len(test_dataloader_vitb16), class_names"
   ]
  },
  {
   "cell_type": "markdown",
   "metadata": {
    "id": "7wcFPAiqd6Qk"
   },
   "source": [
    "### Training ViT feature extractor"
   ]
  },
  {
   "cell_type": "code",
   "execution_count": 42,
   "metadata": {
    "id": "WAytJAesi1ki"
   },
   "outputs": [],
   "source": [
    "from going_modular.going_modular.engine import train\n",
    "\n",
    "# Loss function\n",
    "loss_fn = nn.CrossEntropyLoss()\n",
    "\n",
    "# Optimizer\n",
    "optimizer = torch.optim.Adam(vitb16.parameters(), lr=1e-3)\n",
    "\n",
    "# Training function (engine.py)\n",
    "# imported above"
   ]
  },
  {
   "cell_type": "code",
   "execution_count": 43,
   "metadata": {
    "colab": {
     "base_uri": "https://localhost:8080/"
    },
    "id": "fix6CmGOlBui",
    "outputId": "dda4c2d5-14f9-41e6-e54c-ffadd7d94bba"
   },
   "outputs": [
    {
     "data": {
      "text/plain": [
       "VisionTransformer(\n",
       "  (conv_proj): Conv2d(3, 768, kernel_size=(16, 16), stride=(16, 16))\n",
       "  (encoder): Encoder(\n",
       "    (dropout): Dropout(p=0.0, inplace=False)\n",
       "    (layers): Sequential(\n",
       "      (encoder_layer_0): EncoderBlock(\n",
       "        (ln_1): LayerNorm((768,), eps=1e-06, elementwise_affine=True)\n",
       "        (self_attention): MultiheadAttention(\n",
       "          (out_proj): NonDynamicallyQuantizableLinear(in_features=768, out_features=768, bias=True)\n",
       "        )\n",
       "        (dropout): Dropout(p=0.0, inplace=False)\n",
       "        (ln_2): LayerNorm((768,), eps=1e-06, elementwise_affine=True)\n",
       "        (mlp): MLPBlock(\n",
       "          (0): Linear(in_features=768, out_features=3072, bias=True)\n",
       "          (1): GELU(approximate='none')\n",
       "          (2): Dropout(p=0.0, inplace=False)\n",
       "          (3): Linear(in_features=3072, out_features=768, bias=True)\n",
       "          (4): Dropout(p=0.0, inplace=False)\n",
       "        )\n",
       "      )\n",
       "      (encoder_layer_1): EncoderBlock(\n",
       "        (ln_1): LayerNorm((768,), eps=1e-06, elementwise_affine=True)\n",
       "        (self_attention): MultiheadAttention(\n",
       "          (out_proj): NonDynamicallyQuantizableLinear(in_features=768, out_features=768, bias=True)\n",
       "        )\n",
       "        (dropout): Dropout(p=0.0, inplace=False)\n",
       "        (ln_2): LayerNorm((768,), eps=1e-06, elementwise_affine=True)\n",
       "        (mlp): MLPBlock(\n",
       "          (0): Linear(in_features=768, out_features=3072, bias=True)\n",
       "          (1): GELU(approximate='none')\n",
       "          (2): Dropout(p=0.0, inplace=False)\n",
       "          (3): Linear(in_features=3072, out_features=768, bias=True)\n",
       "          (4): Dropout(p=0.0, inplace=False)\n",
       "        )\n",
       "      )\n",
       "      (encoder_layer_2): EncoderBlock(\n",
       "        (ln_1): LayerNorm((768,), eps=1e-06, elementwise_affine=True)\n",
       "        (self_attention): MultiheadAttention(\n",
       "          (out_proj): NonDynamicallyQuantizableLinear(in_features=768, out_features=768, bias=True)\n",
       "        )\n",
       "        (dropout): Dropout(p=0.0, inplace=False)\n",
       "        (ln_2): LayerNorm((768,), eps=1e-06, elementwise_affine=True)\n",
       "        (mlp): MLPBlock(\n",
       "          (0): Linear(in_features=768, out_features=3072, bias=True)\n",
       "          (1): GELU(approximate='none')\n",
       "          (2): Dropout(p=0.0, inplace=False)\n",
       "          (3): Linear(in_features=3072, out_features=768, bias=True)\n",
       "          (4): Dropout(p=0.0, inplace=False)\n",
       "        )\n",
       "      )\n",
       "      (encoder_layer_3): EncoderBlock(\n",
       "        (ln_1): LayerNorm((768,), eps=1e-06, elementwise_affine=True)\n",
       "        (self_attention): MultiheadAttention(\n",
       "          (out_proj): NonDynamicallyQuantizableLinear(in_features=768, out_features=768, bias=True)\n",
       "        )\n",
       "        (dropout): Dropout(p=0.0, inplace=False)\n",
       "        (ln_2): LayerNorm((768,), eps=1e-06, elementwise_affine=True)\n",
       "        (mlp): MLPBlock(\n",
       "          (0): Linear(in_features=768, out_features=3072, bias=True)\n",
       "          (1): GELU(approximate='none')\n",
       "          (2): Dropout(p=0.0, inplace=False)\n",
       "          (3): Linear(in_features=3072, out_features=768, bias=True)\n",
       "          (4): Dropout(p=0.0, inplace=False)\n",
       "        )\n",
       "      )\n",
       "      (encoder_layer_4): EncoderBlock(\n",
       "        (ln_1): LayerNorm((768,), eps=1e-06, elementwise_affine=True)\n",
       "        (self_attention): MultiheadAttention(\n",
       "          (out_proj): NonDynamicallyQuantizableLinear(in_features=768, out_features=768, bias=True)\n",
       "        )\n",
       "        (dropout): Dropout(p=0.0, inplace=False)\n",
       "        (ln_2): LayerNorm((768,), eps=1e-06, elementwise_affine=True)\n",
       "        (mlp): MLPBlock(\n",
       "          (0): Linear(in_features=768, out_features=3072, bias=True)\n",
       "          (1): GELU(approximate='none')\n",
       "          (2): Dropout(p=0.0, inplace=False)\n",
       "          (3): Linear(in_features=3072, out_features=768, bias=True)\n",
       "          (4): Dropout(p=0.0, inplace=False)\n",
       "        )\n",
       "      )\n",
       "      (encoder_layer_5): EncoderBlock(\n",
       "        (ln_1): LayerNorm((768,), eps=1e-06, elementwise_affine=True)\n",
       "        (self_attention): MultiheadAttention(\n",
       "          (out_proj): NonDynamicallyQuantizableLinear(in_features=768, out_features=768, bias=True)\n",
       "        )\n",
       "        (dropout): Dropout(p=0.0, inplace=False)\n",
       "        (ln_2): LayerNorm((768,), eps=1e-06, elementwise_affine=True)\n",
       "        (mlp): MLPBlock(\n",
       "          (0): Linear(in_features=768, out_features=3072, bias=True)\n",
       "          (1): GELU(approximate='none')\n",
       "          (2): Dropout(p=0.0, inplace=False)\n",
       "          (3): Linear(in_features=3072, out_features=768, bias=True)\n",
       "          (4): Dropout(p=0.0, inplace=False)\n",
       "        )\n",
       "      )\n",
       "      (encoder_layer_6): EncoderBlock(\n",
       "        (ln_1): LayerNorm((768,), eps=1e-06, elementwise_affine=True)\n",
       "        (self_attention): MultiheadAttention(\n",
       "          (out_proj): NonDynamicallyQuantizableLinear(in_features=768, out_features=768, bias=True)\n",
       "        )\n",
       "        (dropout): Dropout(p=0.0, inplace=False)\n",
       "        (ln_2): LayerNorm((768,), eps=1e-06, elementwise_affine=True)\n",
       "        (mlp): MLPBlock(\n",
       "          (0): Linear(in_features=768, out_features=3072, bias=True)\n",
       "          (1): GELU(approximate='none')\n",
       "          (2): Dropout(p=0.0, inplace=False)\n",
       "          (3): Linear(in_features=3072, out_features=768, bias=True)\n",
       "          (4): Dropout(p=0.0, inplace=False)\n",
       "        )\n",
       "      )\n",
       "      (encoder_layer_7): EncoderBlock(\n",
       "        (ln_1): LayerNorm((768,), eps=1e-06, elementwise_affine=True)\n",
       "        (self_attention): MultiheadAttention(\n",
       "          (out_proj): NonDynamicallyQuantizableLinear(in_features=768, out_features=768, bias=True)\n",
       "        )\n",
       "        (dropout): Dropout(p=0.0, inplace=False)\n",
       "        (ln_2): LayerNorm((768,), eps=1e-06, elementwise_affine=True)\n",
       "        (mlp): MLPBlock(\n",
       "          (0): Linear(in_features=768, out_features=3072, bias=True)\n",
       "          (1): GELU(approximate='none')\n",
       "          (2): Dropout(p=0.0, inplace=False)\n",
       "          (3): Linear(in_features=3072, out_features=768, bias=True)\n",
       "          (4): Dropout(p=0.0, inplace=False)\n",
       "        )\n",
       "      )\n",
       "      (encoder_layer_8): EncoderBlock(\n",
       "        (ln_1): LayerNorm((768,), eps=1e-06, elementwise_affine=True)\n",
       "        (self_attention): MultiheadAttention(\n",
       "          (out_proj): NonDynamicallyQuantizableLinear(in_features=768, out_features=768, bias=True)\n",
       "        )\n",
       "        (dropout): Dropout(p=0.0, inplace=False)\n",
       "        (ln_2): LayerNorm((768,), eps=1e-06, elementwise_affine=True)\n",
       "        (mlp): MLPBlock(\n",
       "          (0): Linear(in_features=768, out_features=3072, bias=True)\n",
       "          (1): GELU(approximate='none')\n",
       "          (2): Dropout(p=0.0, inplace=False)\n",
       "          (3): Linear(in_features=3072, out_features=768, bias=True)\n",
       "          (4): Dropout(p=0.0, inplace=False)\n",
       "        )\n",
       "      )\n",
       "      (encoder_layer_9): EncoderBlock(\n",
       "        (ln_1): LayerNorm((768,), eps=1e-06, elementwise_affine=True)\n",
       "        (self_attention): MultiheadAttention(\n",
       "          (out_proj): NonDynamicallyQuantizableLinear(in_features=768, out_features=768, bias=True)\n",
       "        )\n",
       "        (dropout): Dropout(p=0.0, inplace=False)\n",
       "        (ln_2): LayerNorm((768,), eps=1e-06, elementwise_affine=True)\n",
       "        (mlp): MLPBlock(\n",
       "          (0): Linear(in_features=768, out_features=3072, bias=True)\n",
       "          (1): GELU(approximate='none')\n",
       "          (2): Dropout(p=0.0, inplace=False)\n",
       "          (3): Linear(in_features=3072, out_features=768, bias=True)\n",
       "          (4): Dropout(p=0.0, inplace=False)\n",
       "        )\n",
       "      )\n",
       "      (encoder_layer_10): EncoderBlock(\n",
       "        (ln_1): LayerNorm((768,), eps=1e-06, elementwise_affine=True)\n",
       "        (self_attention): MultiheadAttention(\n",
       "          (out_proj): NonDynamicallyQuantizableLinear(in_features=768, out_features=768, bias=True)\n",
       "        )\n",
       "        (dropout): Dropout(p=0.0, inplace=False)\n",
       "        (ln_2): LayerNorm((768,), eps=1e-06, elementwise_affine=True)\n",
       "        (mlp): MLPBlock(\n",
       "          (0): Linear(in_features=768, out_features=3072, bias=True)\n",
       "          (1): GELU(approximate='none')\n",
       "          (2): Dropout(p=0.0, inplace=False)\n",
       "          (3): Linear(in_features=3072, out_features=768, bias=True)\n",
       "          (4): Dropout(p=0.0, inplace=False)\n",
       "        )\n",
       "      )\n",
       "      (encoder_layer_11): EncoderBlock(\n",
       "        (ln_1): LayerNorm((768,), eps=1e-06, elementwise_affine=True)\n",
       "        (self_attention): MultiheadAttention(\n",
       "          (out_proj): NonDynamicallyQuantizableLinear(in_features=768, out_features=768, bias=True)\n",
       "        )\n",
       "        (dropout): Dropout(p=0.0, inplace=False)\n",
       "        (ln_2): LayerNorm((768,), eps=1e-06, elementwise_affine=True)\n",
       "        (mlp): MLPBlock(\n",
       "          (0): Linear(in_features=768, out_features=3072, bias=True)\n",
       "          (1): GELU(approximate='none')\n",
       "          (2): Dropout(p=0.0, inplace=False)\n",
       "          (3): Linear(in_features=3072, out_features=768, bias=True)\n",
       "          (4): Dropout(p=0.0, inplace=False)\n",
       "        )\n",
       "      )\n",
       "    )\n",
       "    (ln): LayerNorm((768,), eps=1e-06, elementwise_affine=True)\n",
       "  )\n",
       "  (heads): Sequential(\n",
       "    (0): Linear(in_features=768, out_features=3, bias=True)\n",
       "  )\n",
       ")"
      ]
     },
     "execution_count": 43,
     "metadata": {},
     "output_type": "execute_result"
    }
   ],
   "source": [
    "vitb16"
   ]
  },
  {
   "cell_type": "code",
   "execution_count": 44,
   "metadata": {
    "colab": {
     "base_uri": "https://localhost:8080/",
     "height": 388,
     "referenced_widgets": [
      "fbb199ca11914fb1a4a02339418f8c3b",
      "e4b43f638c1343458a771dca71e1294c",
      "fd2dd7af9da849a9b3f777ab4f4b5422",
      "508b7b520c2d45f4b161e24b6bbc7d57",
      "161b4b2ea2e94554819c30e562c216b4",
      "edcd739363514303982d337b57ab22a3",
      "fc5393be2fd04a6a84d1ffe25ee06add",
      "52fc3d1dc97c403fb3c1094f0ac314a0",
      "b34b72fda41f44b4b8fd6135b67bc2d8",
      "c9e66c35ed3343e0b5f85d172e764a76",
      "921c0fc4ae734bd9a00da07647cc5c4a"
     ]
    },
    "id": "qRnaW7OSi486",
    "outputId": "a3a226f6-fe49-40ab-dd53-37b28730c9f6"
   },
   "outputs": [
    {
     "data": {
      "application/vnd.jupyter.widget-view+json": {
       "model_id": "35f13ff49208461f9ba3c9d8bfdb1f29",
       "version_major": 2,
       "version_minor": 0
      },
      "text/plain": [
       "  0%|          | 0/10 [00:00<?, ?it/s]"
      ]
     },
     "metadata": {},
     "output_type": "display_data"
    },
    {
     "name": "stdout",
     "output_type": "stream",
     "text": [
      "Epoch: 1 | train_loss: 0.5952 | train_acc: 0.8063 | test_loss: 0.2576 | test_acc: 0.9352\n",
      "Epoch: 2 | train_loss: 0.2045 | train_acc: 0.9417 | test_loss: 0.1341 | test_acc: 0.9722\n",
      "Epoch: 3 | train_loss: 0.1820 | train_acc: 0.9229 | test_loss: 0.1062 | test_acc: 0.9784\n",
      "Epoch: 4 | train_loss: 0.1599 | train_acc: 0.9604 | test_loss: 0.1034 | test_acc: 0.9631\n",
      "Epoch: 5 | train_loss: 0.1070 | train_acc: 0.9688 | test_loss: 0.0972 | test_acc: 0.9722\n",
      "Epoch: 6 | train_loss: 0.0918 | train_acc: 0.9750 | test_loss: 0.0853 | test_acc: 0.9784\n",
      "Epoch: 7 | train_loss: 0.1316 | train_acc: 0.9479 | test_loss: 0.0801 | test_acc: 0.9722\n",
      "Epoch: 8 | train_loss: 0.0740 | train_acc: 0.9854 | test_loss: 0.0850 | test_acc: 0.9722\n",
      "Epoch: 9 | train_loss: 0.0811 | train_acc: 0.9917 | test_loss: 0.0781 | test_acc: 0.9659\n",
      "Epoch: 10 | train_loss: 0.0582 | train_acc: 0.9917 | test_loss: 0.0707 | test_acc: 0.9722\n"
     ]
    }
   ],
   "source": [
    "vitb16_training_results_v0 = train(model=vitb16,\n",
    "      train_dataloader=train_dataloader_vitb16,\n",
    "      test_dataloader=test_dataloader_vitb16,\n",
    "      optimizer=optimizer,\n",
    "      loss_fn=loss_fn,\n",
    "      epochs=10,\n",
    "      device=device)"
   ]
  },
  {
   "cell_type": "code",
   "execution_count": 45,
   "metadata": {
    "id": "TYfANwcX5irb"
   },
   "outputs": [
    {
     "data": {
      "image/png": "[encoded data removed]",
      "text/plain": [
       "<Figure size 1500x700 with 2 Axes>"
      ]
     },
     "metadata": {},
     "output_type": "display_data"
    }
   ],
   "source": [
    "plot_loss_curves(vitb16_training_results_v0)"
   ]
  },
  {
   "cell_type": "markdown",
   "metadata": {
    "id": "vPV1i5nsd-NQ"
   },
   "source": [
    "### Saving ViT feature extractor"
   ]
  },
  {
   "cell_type": "code",
   "execution_count": 46,
   "metadata": {
    "id": "_ybZu82n510S"
   },
   "outputs": [
    {
     "name": "stdout",
     "output_type": "stream",
     "text": [
      "[INFO] Saving model to: models\\09_pretrained_vitb16_feature_extractor_pizza_steak_sushi_20_percent.pth\n"
     ]
    }
   ],
   "source": [
    "from going_modular.going_modular import utils\n",
    "\n",
    "# Save the model\n",
    "utils.save_model(model=vitb16,\n",
    "                 target_dir=\"models\",\n",
    "                 model_name=\"09_pretrained_vitb16_feature_extractor_pizza_steak_sushi_20_percent.pth\")"
   ]
  },
  {
   "cell_type": "markdown",
   "metadata": {
    "id": "bxAhD_SreDso"
   },
   "source": [
    "### Inspecting the size of ViT feature extractor"
   ]
  },
  {
   "cell_type": "code",
   "execution_count": 47,
   "metadata": {
    "id": "J85CyTa-6Ku7"
   },
   "outputs": [
    {
     "name": "stdout",
     "output_type": "stream",
     "text": [
      "Pretrained model size in megabytes: 327.37\n"
     ]
    }
   ],
   "source": [
    "from pathlib import Path\n",
    "\n",
    "# Get the model size in bytes and convert to megabytes\n",
    "pretrained_vitb16_model_size = Path(\"models/09_pretrained_vitb16_feature_extractor_pizza_steak_sushi_20_percent.pth\").stat().st_size / (1024 * 1024)\n",
    "print(f\"Pretrained model size in megabytes: {round(pretrained_vitb16_model_size, 2):.2f}\")"
   ]
  },
  {
   "cell_type": "markdown",
   "metadata": {
    "id": "DTE9NKUeeNCC"
   },
   "source": [
    "### Collecting ViT feature extractor stats"
   ]
  },
  {
   "cell_type": "code",
   "execution_count": 48,
   "metadata": {
    "id": "O2Zz79-teQwg"
   },
   "outputs": [
    {
     "data": {
      "text/plain": [
       "85800963"
      ]
     },
     "execution_count": 48,
     "metadata": {},
     "output_type": "execute_result"
    }
   ],
   "source": [
    "# Count number of parameters in vitb16\n",
    "vitb16_total_params = sum(torch.numel(param) for param in vitb16.parameters())\n",
    "vitb16_total_params"
   ]
  },
  {
   "cell_type": "code",
   "execution_count": 49,
   "metadata": {
    "id": "uE3XL4mB6tQg"
   },
   "outputs": [
    {
     "data": {
      "text/plain": [
       "{'test_loss': 0.07071373825892806,\n",
       " 'test_acc': 0.972159090909091,\n",
       " 'number_of_parameters': 85800963,\n",
       " 'model_size (MB)': 327.3714771270752}"
      ]
     },
     "execution_count": 49,
     "metadata": {},
     "output_type": "execute_result"
    }
   ],
   "source": [
    "# Create a dictionary with vitb16 statistics\n",
    "vitb16_stats = {\"test_loss\": vitb16_training_results_v0[\"test_loss\"][-1],\n",
    "                  \"test_acc\": vitb16_training_results_v0[\"test_acc\"][-1],\n",
    "                  \"number_of_parameters\": vitb16_total_params,\n",
    "                  \"model_size (MB)\": pretrained_vitb16_model_size}\n",
    "vitb16_stats"
   ]
  },
  {
   "cell_type": "markdown",
   "metadata": {
    "id": "fQKMUL-x7KCy"
   },
   "source": [
    "## Making predictions with our trained models and timing them\n",
    "\n",
    "loop over the test data and keep track of the time per prediction so we can average it at the end and get the average time per prediction for each model."
   ]
  },
  {
   "cell_type": "code",
   "execution_count": 50,
   "metadata": {
    "id": "uIOoWGH1Kavd"
   },
   "outputs": [
    {
     "name": "stdout",
     "output_type": "stream",
     "text": [
      "EffNetB2 average prediction time: 0.02815257708231608\n"
     ]
    }
   ],
   "source": [
    "from going_modular.going_modular.engine import test_step\n",
    "import time\n",
    "\n",
    "# prep data into batches of 1 for real world test simulation\n",
    "# Setup DataLoader\n",
    "from going_modular.going_modular import data_setup\n",
    "dataloader_effnetb2_train, dataloader_effnetb2_production, class_names = data_setup.create_dataloaders(train_dir=train_dir, test_dir=test_dir, transform=effnetb2_transforms, batch_size=1)\n",
    "\n",
    "effnetb2_prediction_times = []\n",
    "\n",
    "# Loop over data and get prediction times for effnetb2\n",
    "effnetb2.eval()\n",
    "with torch.inference_mode():\n",
    "  for X, y in dataloader_effnetb2_production:\n",
    "    start_time = time.time()\n",
    "    X, y = X.to(device), y.to(device)\n",
    "    raw_logits = effnetb2(X)\n",
    "    test_pred_labels = raw_logits.argmax(dim=1)\n",
    "    end_time = time.time()\n",
    "    computation_time = end_time - start_time\n",
    "    effnetb2_prediction_times.append(computation_time)\n",
    "\n",
    "effnetb2_average_prediction_time = sum(effnetb2_prediction_times) / len(effnetb2_prediction_times)\n",
    "print(f\"EffNetB2 average prediction time: {effnetb2_average_prediction_time}\")"
   ]
  },
  {
   "cell_type": "code",
   "execution_count": 51,
   "metadata": {
    "id": "TP3sIYcpRWen"
   },
   "outputs": [
    {
     "name": "stdout",
     "output_type": "stream",
     "text": [
      "ViT average prediction time: 0.023979458808898926\n"
     ]
    }
   ],
   "source": [
    "# Loop over data and get prediction time for vit\n",
    "import time\n",
    "\n",
    "# Setup DataLoader\n",
    "from going_modular.going_modular import data_setup\n",
    "dataloader_vit_train, dataloader_vit_production, class_names = data_setup.create_dataloaders(train_dir=train_dir, test_dir=test_dir, transform=vitb16_transforms, batch_size=1)\n",
    "\n",
    "vit_prediction_times = []\n",
    "\n",
    "vitb16.eval()\n",
    "with torch.inference_mode():\n",
    "  for X, y in dataloader_vit_production:\n",
    "    start_time = time.time()\n",
    "    X, y = X.to(device), y.to(device)\n",
    "    raw_logits = vitb16(X)\n",
    "    test_pred_labels = raw_logits.argmax(dim=1)\n",
    "    end_time = time.time()\n",
    "    computation_time = end_time - start_time\n",
    "    vit_prediction_times.append(computation_time)\n",
    "\n",
    "vit_average_prediction_time = sum(vit_prediction_times) / len(vit_prediction_times)\n",
    "print(f\"ViT average prediction time: {vit_average_prediction_time}\")"
   ]
  },
  {
   "cell_type": "code",
   "execution_count": 52,
   "metadata": {
    "id": "SbbEjN4ySiZ1"
   },
   "outputs": [
    {
     "name": "stdout",
     "output_type": "stream",
     "text": [
      "EffNetB2 # of samples: 150\n",
      "ViT # of samples: 150\n",
      "EffNetB2 average prediction time: 0.028\n",
      "ViT average prediction time: 0.024\n"
     ]
    }
   ],
   "source": [
    "print(f\"EffNetB2 # of samples: {len(dataloader_effnetb2_production)}\")\n",
    "print(f\"ViT # of samples: {len(dataloader_vit_production)}\")\n",
    "print(f\"EffNetB2 average prediction time: {round(effnetb2_average_prediction_time, 3)}\")\n",
    "print(f\"ViT average prediction time: {round(vit_average_prediction_time, 3)}\")"
   ]
  },
  {
   "cell_type": "markdown",
   "metadata": {
    "id": "_2I7MApaSqYF"
   },
   "source": [
    "### Make a `pred_and_store()` function\n",
    "\n",
    "Steps: to create `pred_and_store()`\n",
    "\n",
    "1. Create a function that takes a list of paths and a trained PyTorch, a series of transforms, a list of target class names, and a target device.\n",
    "2. Create an empty list (can return a full list of all predictions later).\n",
    "3. Loop through the target input paths (the rest of the steps will take place inside the loop).\n",
    "4. Create an empty dictionary for each sample (prediction statistics will go in here).\n",
    "5. Get the sample path and ground trugh class from the filepath.\n",
    "6. Start the prediction timer\n",
    "7. Open the image using `PIL.Image.open(path)`\n",
    "8. Transform the image to be usable with a given model.\n",
    "9. Prepare the model for inference by sending it to the target device and turning on `eval()` mode.\n",
    "10. Turn on `torch.inference_mode()` and pass the target transformed image to the model and perform forward pass + calculate prediction probabilities + prediction class.\n",
    "11. Add the prediction probability + prediction class to empty dictionary from step 4.\n",
    "12. End the prediction timer started in step 6 and add the time to the prediction dictionary.\n",
    "13. See if the predicted class matches the ground truth class.\n",
    "14. Append the updated prediction dictionary to the empty list of predictions we created in step 2.\n",
    "15. Return the list of prediction dictionaries."
   ]
  },
  {
   "cell_type": "code",
   "execution_count": 53,
   "metadata": {
    "id": "VtpSubKLZ2Fd"
   },
   "outputs": [
    {
     "data": {
      "text/plain": [
       "WindowsPath('data/pizza_steak_sushi_20_percent/test')"
      ]
     },
     "execution_count": 53,
     "metadata": {},
     "output_type": "execute_result"
    }
   ],
   "source": [
    "test_dir"
   ]
  },
  {
   "cell_type": "code",
   "execution_count": 54,
   "metadata": {
    "id": "Np0QbYtxUkC9"
   },
   "outputs": [],
   "source": [
    "# from pathlib import Path\n",
    "\n",
    "# # Get all test data paths\n",
    "# test_data_paths = list(Path(test_dir).glob(\"*/*.jpg\"))\n",
    "# test_data_paths[:1]\n",
    "\n",
    "# # Create an empty dictionary for each sample (prediction statistics will go in here).\n",
    "# str(test_data_paths[0]).split(\"/\")[-2]"
   ]
  },
  {
   "cell_type": "code",
   "execution_count": 55,
   "metadata": {
    "id": "pER04FifUqrG"
   },
   "outputs": [],
   "source": [
    "# take in: a list of paths (images)\n",
    "# a trained PyTorch\n",
    "# a series of transforms\n",
    "# a list of target class names\n",
    "# a target device\n",
    "import pathlib\n",
    "from tqdm.auto import tqdm\n",
    "from typing import List, Dict\n",
    "from PIL import Image\n",
    "\n",
    "# Get all test data paths\n",
    "# test_data_paths = list(Path(test_dir).glob(\"*/*.jpg\"))\n",
    "\n",
    "def pred_and_store(image_list: List[pathlib.Path],\n",
    "                   model: torch.nn.Module,\n",
    "                   transform: torchvision.transforms,\n",
    "                   class_names: List[str],\n",
    "                   device: str = \"cuda\" if torch.cuda.is_available() else \"cpu\") -> List[Dict]:\n",
    "\n",
    "  prediction_list = []\n",
    "\n",
    "  for path in tqdm(test_data_paths):\n",
    "    # Create an empty dictionary for each sample (prediction statistics will go in here).\n",
    "    prediction_dict = {}\n",
    "    # Get the sample path and ground truth class from the filepath.\n",
    "    full_sample_path = str(path)\n",
    "    truth_class_name = path.parent.stem    \n",
    "\n",
    "    # Start the prediction timer\n",
    "    start_time = time.time() # could also use `timer()`\n",
    "\n",
    "    # Open the image using PIL.Image.open(path)\n",
    "    sample_image = Image.open(full_sample_path)\n",
    "\n",
    "    # Transform the image to be usable with a given model. Unsqueeze at the 0th dimension to add a dimension (working with single image instead of a batch so add a dimension because our model was trined on batches and is used to that tensor shape)\n",
    "    transformed_image = transform(sample_image).unsqueeze(dim=0).to(device)\n",
    "\n",
    "    # Prepare the model for inference by sending it to the target device and turning on eval() mode.\n",
    "    model = model.to(device)\n",
    "    model.eval()\n",
    "\n",
    "    # Turn on torch.inference_mode() and pass the target transformed image to the model and perform forward pass + calculate prediction probabilities + prediction class.\n",
    "    with torch.inference_mode():\n",
    "      raw_logit = model(transformed_image)\n",
    "      pred_prob = torch.softmax(raw_logit, dim=1) # turn the logit into prediction probability\n",
    "      pred_label = torch.argmax(pred_prob, dim=1) # get the pred index with the max value\n",
    "      pred_class = class_names[pred_label.cpu()] # the python variables are on CPU so do the comparison on CPU.\n",
    "\n",
    "    # Add the prediction probability + prediction class to empty dictionary from step 4.\n",
    "    prediction_dict[\"prediction_probability\"] = round(pred_prob.unsqueeze(0).max().cpu().item(), 4) # convert the tensor to an int.\n",
    "    prediction_dict[\"prediction_class\"] = pred_class\n",
    "\n",
    "    # End the prediction timer started in step 6 and add the time to the prediction dictionary.\n",
    "    end_time = time.time()\n",
    "    computation_time = end_time - start_time\n",
    "    prediction_dict[\"time_for_pred\"] = round(computation_time, 4)\n",
    "\n",
    "    # See if the predicted class matches the ground truth class.\n",
    "    prediction_dict[\"correct\"] = truth_class_name == pred_class\n",
    "\n",
    "    # Append the updated prediction dictionary to the empty list of predictions we created in step 2.\n",
    "    prediction_list.append(prediction_dict)\n",
    "\n",
    "  # Return the list of prediction dictionaries.\n",
    "  return prediction_list"
   ]
  },
  {
   "cell_type": "markdown",
   "metadata": {},
   "source": [
    "### Get prediction stats for the EffNetB2 model"
   ]
  },
  {
   "cell_type": "code",
   "execution_count": 56,
   "metadata": {},
   "outputs": [
    {
     "data": {
      "application/vnd.jupyter.widget-view+json": {
       "model_id": "01752a32773544f2a053af79621a29e2",
       "version_major": 2,
       "version_minor": 0
      },
      "text/plain": [
       "  0%|          | 0/150 [00:00<?, ?it/s]"
      ]
     },
     "metadata": {},
     "output_type": "display_data"
    }
   ],
   "source": [
    "test_data_paths = list(Path(test_dir).glob(\"*/*.jpg\"))\n",
    "\n",
    "effnetb2_full_pred_stats = pred_and_store(test_data_paths,\n",
    "                   effnetb2,\n",
    "                   effnetb2_transforms,\n",
    "                   class_names,\n",
    "                   device)"
   ]
  },
  {
   "cell_type": "code",
   "execution_count": 57,
   "metadata": {},
   "outputs": [
    {
     "data": {
      "text/plain": [
       "[{'prediction_probability': 0.9948,\n",
       "  'prediction_class': 'pizza',\n",
       "  'time_for_pred': 0.0425,\n",
       "  'correct': True},\n",
       " {'prediction_probability': 0.4761,\n",
       "  'prediction_class': 'pizza',\n",
       "  'time_for_pred': 0.039,\n",
       "  'correct': True}]"
      ]
     },
     "execution_count": 57,
     "metadata": {},
     "output_type": "execute_result"
    }
   ],
   "source": [
    "effnetb2_full_pred_stats[:2]"
   ]
  },
  {
   "cell_type": "code",
   "execution_count": 58,
   "metadata": {},
   "outputs": [
    {
     "data": {
      "text/html": [
       "<div>\n",
       "<style scoped>\n",
       "    .dataframe tbody tr th:only-of-type {\n",
       "        vertical-align: middle;\n",
       "    }\n",
       "\n",
       "    .dataframe tbody tr th {\n",
       "        vertical-align: top;\n",
       "    }\n",
       "\n",
       "    .dataframe thead th {\n",
       "        text-align: right;\n",
       "    }\n",
       "</style>\n",
       "<table border=\"1\" class=\"dataframe\">\n",
       "  <thead>\n",
       "    <tr style=\"text-align: right;\">\n",
       "      <th></th>\n",
       "      <th>prediction_probability</th>\n",
       "      <th>prediction_class</th>\n",
       "      <th>time_for_pred</th>\n",
       "      <th>correct</th>\n",
       "    </tr>\n",
       "  </thead>\n",
       "  <tbody>\n",
       "    <tr>\n",
       "      <th>0</th>\n",
       "      <td>0.9948</td>\n",
       "      <td>pizza</td>\n",
       "      <td>0.0425</td>\n",
       "      <td>True</td>\n",
       "    </tr>\n",
       "    <tr>\n",
       "      <th>1</th>\n",
       "      <td>0.4761</td>\n",
       "      <td>pizza</td>\n",
       "      <td>0.0390</td>\n",
       "      <td>True</td>\n",
       "    </tr>\n",
       "    <tr>\n",
       "      <th>2</th>\n",
       "      <td>0.9919</td>\n",
       "      <td>pizza</td>\n",
       "      <td>0.0390</td>\n",
       "      <td>True</td>\n",
       "    </tr>\n",
       "    <tr>\n",
       "      <th>3</th>\n",
       "      <td>0.7047</td>\n",
       "      <td>pizza</td>\n",
       "      <td>0.0435</td>\n",
       "      <td>True</td>\n",
       "    </tr>\n",
       "    <tr>\n",
       "      <th>4</th>\n",
       "      <td>0.7635</td>\n",
       "      <td>pizza</td>\n",
       "      <td>0.0370</td>\n",
       "      <td>True</td>\n",
       "    </tr>\n",
       "  </tbody>\n",
       "</table>\n",
       "</div>"
      ],
      "text/plain": [
       "   prediction_probability prediction_class  time_for_pred  correct\n",
       "0                  0.9948            pizza         0.0425     True\n",
       "1                  0.4761            pizza         0.0390     True\n",
       "2                  0.9919            pizza         0.0390     True\n",
       "3                  0.7047            pizza         0.0435     True\n",
       "4                  0.7635            pizza         0.0370     True"
      ]
     },
     "execution_count": 58,
     "metadata": {},
     "output_type": "execute_result"
    }
   ],
   "source": [
    "# Turn the test_pred_dicts into a DataFrame\n",
    "import pandas as pd\n",
    "effnetb2_test_pred_df = pd.DataFrame(effnetb2_full_pred_stats)\n",
    "effnetb2_test_pred_df.head()"
   ]
  },
  {
   "cell_type": "code",
   "execution_count": 59,
   "metadata": {},
   "outputs": [
    {
     "data": {
      "text/plain": [
       "correct\n",
       "True     145\n",
       "False      5\n",
       "Name: count, dtype: int64"
      ]
     },
     "execution_count": 59,
     "metadata": {},
     "output_type": "execute_result"
    }
   ],
   "source": [
    "# Check number of correct predictions\n",
    "effnetb2_test_pred_df.correct.value_counts()"
   ]
  },
  {
   "cell_type": "code",
   "execution_count": 60,
   "metadata": {},
   "outputs": [
    {
     "name": "stdout",
     "output_type": "stream",
     "text": [
      "effnetb2 average time per prediction: 0.0353\n"
     ]
    }
   ],
   "source": [
    "# Find the average time per prediction\n",
    "effnetb2_average_time_per_prediction = round(effnetb2_test_pred_df.time_for_pred.mean(), 4)\n",
    "print(f\"effnetb2 average time per prediction: {effnetb2_average_time_per_prediction}\")"
   ]
  },
  {
   "cell_type": "code",
   "execution_count": 61,
   "metadata": {},
   "outputs": [],
   "source": [
    "effnetb2_stats[\"time_per_pred_gpu\"] = float(effnetb2_average_time_per_prediction)"
   ]
  },
  {
   "cell_type": "code",
   "execution_count": 62,
   "metadata": {},
   "outputs": [
    {
     "data": {
      "text/plain": [
       "{'test_loss': 0.2792456090450287,\n",
       " 'test_acc': 0.96875,\n",
       " 'number_of_parameters': 7705221,\n",
       " 'model_size (MB)': 29.8638858795166,\n",
       " 'time_per_pred_gpu': 0.0353}"
      ]
     },
     "execution_count": 62,
     "metadata": {},
     "output_type": "execute_result"
    }
   ],
   "source": [
    "effnetb2_stats"
   ]
  },
  {
   "cell_type": "code",
   "execution_count": null,
   "metadata": {},
   "outputs": [],
   "source": []
  },
  {
   "cell_type": "markdown",
   "metadata": {},
   "source": [
    "### Get prediction stats for the ViT (vitb16) model"
   ]
  },
  {
   "cell_type": "code",
   "execution_count": 63,
   "metadata": {
    "id": "HiMhfXmkm24e"
   },
   "outputs": [
    {
     "data": {
      "application/vnd.jupyter.widget-view+json": {
       "model_id": "548fd4f6ff1f4512a55454e01e242908",
       "version_major": 2,
       "version_minor": 0
      },
      "text/plain": [
       "  0%|          | 0/150 [00:00<?, ?it/s]"
      ]
     },
     "metadata": {},
     "output_type": "display_data"
    }
   ],
   "source": [
    "test_data_paths = list(Path(test_dir).glob(\"*/*.jpg\"))\n",
    "\n",
    "vitb16_full_pred_stats = pred_and_store(test_data_paths,\n",
    "                   vitb16,\n",
    "                   vitb16_transforms,\n",
    "                   class_names,\n",
    "                   device) # could hard code \"cpu\""
   ]
  },
  {
   "cell_type": "code",
   "execution_count": 64,
   "metadata": {
    "id": "pEoto_O8ncml"
   },
   "outputs": [
    {
     "data": {
      "text/plain": [
       "[{'prediction_probability': 0.999,\n",
       "  'prediction_class': 'pizza',\n",
       "  'time_for_pred': 0.0605,\n",
       "  'correct': True},\n",
       " {'prediction_probability': 0.9971,\n",
       "  'prediction_class': 'pizza',\n",
       "  'time_for_pred': 0.058,\n",
       "  'correct': True}]"
      ]
     },
     "execution_count": 64,
     "metadata": {},
     "output_type": "execute_result"
    }
   ],
   "source": [
    "vitb16_full_pred_stats[:2]"
   ]
  },
  {
   "cell_type": "code",
   "execution_count": 65,
   "metadata": {
    "id": "QHeynzu2nhmc"
   },
   "outputs": [
    {
     "data": {
      "text/html": [
       "<div>\n",
       "<style scoped>\n",
       "    .dataframe tbody tr th:only-of-type {\n",
       "        vertical-align: middle;\n",
       "    }\n",
       "\n",
       "    .dataframe tbody tr th {\n",
       "        vertical-align: top;\n",
       "    }\n",
       "\n",
       "    .dataframe thead th {\n",
       "        text-align: right;\n",
       "    }\n",
       "</style>\n",
       "<table border=\"1\" class=\"dataframe\">\n",
       "  <thead>\n",
       "    <tr style=\"text-align: right;\">\n",
       "      <th></th>\n",
       "      <th>prediction_probability</th>\n",
       "      <th>prediction_class</th>\n",
       "      <th>time_for_pred</th>\n",
       "      <th>correct</th>\n",
       "    </tr>\n",
       "  </thead>\n",
       "  <tbody>\n",
       "    <tr>\n",
       "      <th>0</th>\n",
       "      <td>0.9990</td>\n",
       "      <td>pizza</td>\n",
       "      <td>0.0605</td>\n",
       "      <td>True</td>\n",
       "    </tr>\n",
       "    <tr>\n",
       "      <th>1</th>\n",
       "      <td>0.9971</td>\n",
       "      <td>pizza</td>\n",
       "      <td>0.0580</td>\n",
       "      <td>True</td>\n",
       "    </tr>\n",
       "    <tr>\n",
       "      <th>2</th>\n",
       "      <td>0.9991</td>\n",
       "      <td>pizza</td>\n",
       "      <td>0.0605</td>\n",
       "      <td>True</td>\n",
       "    </tr>\n",
       "    <tr>\n",
       "      <th>3</th>\n",
       "      <td>0.9894</td>\n",
       "      <td>pizza</td>\n",
       "      <td>0.0545</td>\n",
       "      <td>True</td>\n",
       "    </tr>\n",
       "    <tr>\n",
       "      <th>4</th>\n",
       "      <td>0.9797</td>\n",
       "      <td>pizza</td>\n",
       "      <td>0.0570</td>\n",
       "      <td>True</td>\n",
       "    </tr>\n",
       "  </tbody>\n",
       "</table>\n",
       "</div>"
      ],
      "text/plain": [
       "   prediction_probability prediction_class  time_for_pred  correct\n",
       "0                  0.9990            pizza         0.0605     True\n",
       "1                  0.9971            pizza         0.0580     True\n",
       "2                  0.9991            pizza         0.0605     True\n",
       "3                  0.9894            pizza         0.0545     True\n",
       "4                  0.9797            pizza         0.0570     True"
      ]
     },
     "execution_count": 65,
     "metadata": {},
     "output_type": "execute_result"
    }
   ],
   "source": [
    "# Turn the test_pred_dicts into a DataFrame\n",
    "import pandas as pd\n",
    "vitb16_test_pred_df = pd.DataFrame(vitb16_full_pred_stats)\n",
    "vitb16_test_pred_df.head()"
   ]
  },
  {
   "cell_type": "code",
   "execution_count": 66,
   "metadata": {},
   "outputs": [
    {
     "data": {
      "text/plain": [
       "correct\n",
       "True     146\n",
       "False      4\n",
       "Name: count, dtype: int64"
      ]
     },
     "execution_count": 66,
     "metadata": {},
     "output_type": "execute_result"
    }
   ],
   "source": [
    "# Check number of correct predictions\n",
    "vitb16_test_pred_df.correct.value_counts()"
   ]
  },
  {
   "cell_type": "code",
   "execution_count": 67,
   "metadata": {},
   "outputs": [
    {
     "name": "stdout",
     "output_type": "stream",
     "text": [
      "vitb16 average time per prediction: 0.0344\n"
     ]
    }
   ],
   "source": [
    "# Find the average time per prediction\n",
    "vitb16_average_time_per_prediction = round(vitb16_test_pred_df.time_for_pred.mean(), 4)\n",
    "print(f\"vitb16 average time per prediction: {vitb16_average_time_per_prediction}\")"
   ]
  },
  {
   "cell_type": "code",
   "execution_count": 68,
   "metadata": {},
   "outputs": [],
   "source": [
    "vitb16_stats[\"time_per_pred_gpu\"] = float(vitb16_average_time_per_prediction)"
   ]
  },
  {
   "cell_type": "code",
   "execution_count": 69,
   "metadata": {},
   "outputs": [
    {
     "data": {
      "text/plain": [
       "{'test_loss': 0.07071373825892806,\n",
       " 'test_acc': 0.972159090909091,\n",
       " 'number_of_parameters': 85800963,\n",
       " 'model_size (MB)': 327.3714771270752,\n",
       " 'time_per_pred_gpu': 0.0344}"
      ]
     },
     "execution_count": 69,
     "metadata": {},
     "output_type": "execute_result"
    }
   ],
   "source": [
    "vitb16_stats"
   ]
  },
  {
   "cell_type": "markdown",
   "metadata": {},
   "source": [
    "## Comparing model results, prediction time, and size"
   ]
  },
  {
   "cell_type": "code",
   "execution_count": 70,
   "metadata": {},
   "outputs": [
    {
     "data": {
      "text/html": [
       "<div>\n",
       "<style scoped>\n",
       "    .dataframe tbody tr th:only-of-type {\n",
       "        vertical-align: middle;\n",
       "    }\n",
       "\n",
       "    .dataframe tbody tr th {\n",
       "        vertical-align: top;\n",
       "    }\n",
       "\n",
       "    .dataframe thead th {\n",
       "        text-align: right;\n",
       "    }\n",
       "</style>\n",
       "<table border=\"1\" class=\"dataframe\">\n",
       "  <thead>\n",
       "    <tr style=\"text-align: right;\">\n",
       "      <th></th>\n",
       "      <th>test_loss</th>\n",
       "      <th>test_acc</th>\n",
       "      <th>number_of_parameters</th>\n",
       "      <th>model_size (MB)</th>\n",
       "      <th>time_per_pred_gpu</th>\n",
       "      <th>model</th>\n",
       "    </tr>\n",
       "  </thead>\n",
       "  <tbody>\n",
       "    <tr>\n",
       "      <th>0</th>\n",
       "      <td>0.279246</td>\n",
       "      <td>96.88</td>\n",
       "      <td>7705221</td>\n",
       "      <td>29.863886</td>\n",
       "      <td>0.0353</td>\n",
       "      <td>EffNetB2</td>\n",
       "    </tr>\n",
       "    <tr>\n",
       "      <th>1</th>\n",
       "      <td>0.070714</td>\n",
       "      <td>97.22</td>\n",
       "      <td>85800963</td>\n",
       "      <td>327.371477</td>\n",
       "      <td>0.0344</td>\n",
       "      <td>ViT</td>\n",
       "    </tr>\n",
       "  </tbody>\n",
       "</table>\n",
       "</div>"
      ],
      "text/plain": [
       "   test_loss  test_acc  number_of_parameters  model_size (MB)  \\\n",
       "0   0.279246     96.88               7705221        29.863886   \n",
       "1   0.070714     97.22              85800963       327.371477   \n",
       "\n",
       "   time_per_pred_gpu     model  \n",
       "0             0.0353  EffNetB2  \n",
       "1             0.0344       ViT  "
      ]
     },
     "execution_count": 70,
     "metadata": {},
     "output_type": "execute_result"
    }
   ],
   "source": [
    "# Add column for model names\n",
    "df = pd.DataFrame([effnetb2_stats, vitb16_stats])\n",
    "\n",
    "# Add column for model names\n",
    "df[\"model\"] = [\"EffNetB2\",\"ViT\"]\n",
    "\n",
    "# Convert accuracy to percentages\n",
    "df[\"test_acc\"] = round(df[\"test_acc\"] * 100, 2)\n",
    "\n",
    "df"
   ]
  },
  {
   "cell_type": "code",
   "execution_count": 71,
   "metadata": {},
   "outputs": [
    {
     "data": {
      "text/html": [
       "<div>\n",
       "<style scoped>\n",
       "    .dataframe tbody tr th:only-of-type {\n",
       "        vertical-align: middle;\n",
       "    }\n",
       "\n",
       "    .dataframe tbody tr th {\n",
       "        vertical-align: top;\n",
       "    }\n",
       "\n",
       "    .dataframe thead th {\n",
       "        text-align: right;\n",
       "    }\n",
       "</style>\n",
       "<table border=\"1\" class=\"dataframe\">\n",
       "  <thead>\n",
       "    <tr style=\"text-align: right;\">\n",
       "      <th></th>\n",
       "      <th>test_loss</th>\n",
       "      <th>test_acc</th>\n",
       "      <th>number_of_parameters</th>\n",
       "      <th>model_size (MB)</th>\n",
       "      <th>time_per_pred_gpu</th>\n",
       "    </tr>\n",
       "  </thead>\n",
       "  <tbody>\n",
       "    <tr>\n",
       "      <th>ViT to EffNetB2 ratios</th>\n",
       "      <td>0.253231</td>\n",
       "      <td>1.003509</td>\n",
       "      <td>11.135432</td>\n",
       "      <td>10.962119</td>\n",
       "      <td>0.974504</td>\n",
       "    </tr>\n",
       "  </tbody>\n",
       "</table>\n",
       "</div>"
      ],
      "text/plain": [
       "                        test_loss  test_acc  number_of_parameters  \\\n",
       "ViT to EffNetB2 ratios   0.253231  1.003509             11.135432   \n",
       "\n",
       "                        model_size (MB)  time_per_pred_gpu  \n",
       "ViT to EffNetB2 ratios        10.962119           0.974504  "
      ]
     },
     "execution_count": 71,
     "metadata": {},
     "output_type": "execute_result"
    }
   ],
   "source": [
    "# Compare ViT to EffNetB2 across different characteristics\n",
    "pd.DataFrame(data=(df.set_index(\"model\").loc[\"ViT\"] / df.set_index(\"model\").loc[\"EffNetB2\"]),\n",
    "    columns=[\"ViT to EffNetB2 ratios\"]).T"
   ]
  },
  {
   "cell_type": "markdown",
   "metadata": {},
   "source": [
    "### Visualizing the speed vs. performace tradeoff\n",
    "\n",
    "So, we've compared our EffNetB2 and ViT feature extractor model, now let's visualize the comparison with a speed vs. performance plot.\n",
    "\n",
    "We can do so with matplotlib:\n",
    "    1. Create a scatter plot from the comparison DataFrame to compare EffNetB2 and ViT across test accuracy and prediction time.\n",
    "    2. Add titles and labels to make our plot look nice.\n",
    "    3. Annotate the samples on the scatter plot so we know what's going on.\n",
    "    4. Create a legend based on the model sizes (`model_size` (MB))."
   ]
  },
  {
   "cell_type": "code",
   "execution_count": 72,
   "metadata": {},
   "outputs": [
    {
     "data": {
      "image/png": "[encoded data removed]",
      "text/plain": [
       "<Figure size 1200x800 with 1 Axes>"
      ]
     },
     "metadata": {},
     "output_type": "display_data"
    }
   ],
   "source": [
    "# 1. Create a plot from model comparison DataFrame\n",
    "import matplotlib.pyplot as plt\n",
    "fig, ax = plt.subplots(figsize=(12, 8))\n",
    "scatter = ax.scatter(data=df,\n",
    "                     x=\"time_per_pred_gpu\",\n",
    "                     y=\"test_acc\",\n",
    "                     c=[\"blue\", \"orange\"],\n",
    "                     s=\"model_size (MB)\")\n",
    "ax.set_title(\"FoodVision Mini Inference Speed vs Performance\", fontsize=18)\n",
    "ax.set_xlabel(\"Prediction time per image (seconds)\", fontsize=14)\n",
    "ax.set_ylabel(\"Test accuracy (%)\", fontsize=14)\n",
    "ax.tick_params(axis=\"both\", labelsize=12)\n",
    "ax.grid(True)\n",
    "\n",
    "for index, row in df.iterrows():\n",
    "    ax.annotate(text=row[\"model\"],\n",
    "               xy=(row[\"time_per_pred_gpu\"], row[\"test_acc\"]),\n",
    "               size=12)\n",
    "\n",
    "handles, labels = scatter.legend_elements(prop=\"sizes\", alpha=0.5)\n",
    "model_size_legend = ax.legend(handles,\n",
    "                             labels,\n",
    "                             loc=\"upper right\",\n",
    "                             title=\"Model size (MB)\",\n",
    "                              fontsize=12)\n",
    "plt.savefig(\"09-foodvision-mini-inference-speed-vs-performance.png\")"
   ]
  },
  {
   "cell_type": "markdown",
   "metadata": {},
   "source": [
    "## Brining FoodVision Mini to life by creating a Gradio demo\n",
    "\n",
    "We've chosen to deploy EffNetB2 as it fulfills our criteria the best.\n",
    "\n",
    "Gradio is the fastest way to demo your machine learning model with a friendly web interface so that anyone can use it, anywhere!\n",
    "https://www.gradio.app/\n",
    "\n"
   ]
  },
  {
   "cell_type": "markdown",
   "metadata": {},
   "source": [
    "## Creating a function to map our inputs and outputs"
   ]
  },
  {
   "cell_type": "code",
   "execution_count": 73,
   "metadata": {},
   "outputs": [
    {
     "data": {
      "text/plain": [
       "device(type='cpu')"
      ]
     },
     "execution_count": 73,
     "metadata": {},
     "output_type": "execute_result"
    }
   ],
   "source": [
    "# Put our model on the CPU\n",
    "effnetb2 = effnetb2.to(\"cpu\")\n",
    "\n",
    "# Check the device\n",
    "next(iter(effnetb2.parameters())).device"
   ]
  },
  {
   "cell_type": "code",
   "execution_count": 74,
   "metadata": {},
   "outputs": [],
   "source": [
    "from typing import Tuple, Dict\n",
    "\n",
    "def predict(img) -> Tuple[Dict, float]:\n",
    "    # Start a timer\n",
    "    start_time = time.time()\n",
    "    \n",
    "    # Transform the input image for use with EffNetB2\n",
    "    image_with_transform = effnetb2_transforms(img).unsqueeze(0) # unsqueeze to add a batch dimension\n",
    "    \n",
    "    # Put model into eval mode, make prediction\n",
    "    effnetb2.eval()\n",
    "    with torch.inference_mode():\n",
    "        pred_probs = torch.softmax(effnetb2(image_with_transform), dim=1) # turn the logit into prediction probability        \n",
    "        pred_label = torch.argmax(pred_probs, dim=1) # get the pred index with the max value\n",
    "        pred_class = class_names[pred_label.cpu()]\n",
    "        \n",
    "    # Create a prediction label and prediction probability dictionary\n",
    "    pred_labels_and_probs = {class_names[i]: float(pred_probs[0][i]) for i in range(len(class_names))}\n",
    "\n",
    "    # Calculate pred time\n",
    "    end_time = time.time()\n",
    "    prediction_time = round(end_time - start_time, 4)\n",
    "    \n",
    "    # Return pred dict and pred time\n",
    "    return pred_labels_and_probs, prediction_time"
   ]
  },
  {
   "cell_type": "code",
   "execution_count": 75,
   "metadata": {},
   "outputs": [
    {
     "name": "stdout",
     "output_type": "stream",
     "text": [
      "[INFO] Predicting on image at path: data\\pizza_steak_sushi_20_percent\\test\\sushi\\715227.jpg\n",
      "\n",
      "{'pizza': 0.1690986007452011, 'steak': 0.08635904639959335, 'sushi': 0.7445423007011414}\n",
      "0.1285\n"
     ]
    }
   ],
   "source": [
    "import random\n",
    "from PIL import Image\n",
    "\n",
    "# Get a list of all test image filepaths\n",
    "test_data_paths = list(Path(test_dir).glob(\"*/*.jpg\"))\n",
    "test_data_paths[0]\n",
    "\n",
    "random_image_path = random.sample(test_data_paths, k=1)[0]\n",
    "random_image_path\n",
    "\n",
    "image = Image.open(random_image_path)\n",
    "print(f\"[INFO] Predicting on image at path: {random_image_path}\\n\")\n",
    "\n",
    "pred_dict, pred_time = predict(img=image)\n",
    "print(pred_dict)\n",
    "print(pred_time)"
   ]
  },
  {
   "cell_type": "markdown",
   "metadata": {},
   "source": [
    "### Creating a list of example images"
   ]
  },
  {
   "cell_type": "code",
   "execution_count": 76,
   "metadata": {},
   "outputs": [
    {
     "data": {
      "text/plain": [
       "[['data\\\\pizza_steak_sushi_20_percent\\\\test\\\\sushi\\\\3365273.jpg'],\n",
       " ['data\\\\pizza_steak_sushi_20_percent\\\\test\\\\pizza\\\\724290.jpg'],\n",
       " ['data\\\\pizza_steak_sushi_20_percent\\\\test\\\\steak\\\\1882831.jpg']]"
      ]
     },
     "execution_count": 76,
     "metadata": {},
     "output_type": "execute_result"
    }
   ],
   "source": [
    "#Create a list of example input to our Gradio demo\n",
    "example_list = [[str(filepath)] for filepath in random.sample(test_data_paths, k=3)]\n",
    "example_list"
   ]
  },
  {
   "cell_type": "markdown",
   "metadata": {},
   "source": [
    "### Build a Gradio Interface\n",
    "\n",
    "Use `gr.Interface()` - https://www.gradio.app/docs/gradio/interface"
   ]
  },
  {
   "cell_type": "code",
   "execution_count": 77,
   "metadata": {},
   "outputs": [],
   "source": [
    "#!pip install gradio"
   ]
  },
  {
   "cell_type": "code",
   "execution_count": 78,
   "metadata": {},
   "outputs": [],
   "source": [
    "import gradio as gr\n",
    "\n",
    "title = \"FoodVision Mini\"\n",
    "description = \"An efficient model for recognizing photos of pizza, steak, and sushi.\"\n",
    "article = \"Created at 09 PyTorch Model Deployment\"\n",
    "\n",
    "demo = gr.Interface(fn=predict, \n",
    "                    inputs=gr.Image(type=\"pil\"), \n",
    "                    outputs=[gr.Label(num_top_classes=3, label=\"Predictions\"),\n",
    "                            gr.Number(label=\"Prediction time(s)\")],\n",
    "                   examples=example_list,\n",
    "                   title=title,\n",
    "                   description=description,\n",
    "                   article=article)\n",
    "# demo.launch()"
   ]
  },
  {
   "cell_type": "markdown",
   "metadata": {},
   "source": [
    "## What is Hugging Face Spaces?\n",
    "\n",
    "> Hugging Face Spaces make it easy for you to create and deploy ML-powered demos in minutes.\n",
    "\n",
    "Hugging Face Spaces is like the Github of the ML world. Great for sharing your projects with the rest of the world and building up a portfolio.\n",
    "\n",
    "> Note: There are many other places we could upload and host our Gradio app such as, Google Cloud, AWS (Amazon Web Services) or other cloud vendors, however, we're going to use Hugging Face Spaces due to the ease of use and wide adoption by the machine learning community."
   ]
  },
  {
   "cell_type": "markdown",
   "metadata": {},
   "source": [
    "### Deployed Gradio app structure\n",
    "\n",
    "Spaces stores your code inside a Git repository. Supports git and git-lfs.\n",
    "\n",
    "```\n",
    "demos/\n",
    "└── foodvision_mini/\n",
    "    ├── 09_pretrained_effnetb2_feature_extractor_pizza_steak_sushi_20_percent.pth\n",
    "    ├── app.py\n",
    "    ├── examples/\n",
    "    │   ├── example_1.jpg\n",
    "    │   ├── example_2.jpg\n",
    "    │   └── example_3.jpg\n",
    "    ├── model.py\n",
    "    └── requirements.txt\n",
    "```"
   ]
  },
  {
   "cell_type": "markdown",
   "metadata": {},
   "source": [
    "### Create the Gradio project structure for deployment to Hugging Face"
   ]
  },
  {
   "cell_type": "code",
   "execution_count": 87,
   "metadata": {},
   "outputs": [
    {
     "name": "stdout",
     "output_type": "stream",
     "text": [
      "[INFO] Copying data\\pizza_steak_sushi_20_percent\\test\\sushi\\592799.jpg to demos\\foodvision_mini\\examples\\592799.jpg\n",
      "[INFO] Copying data\\pizza_steak_sushi_20_percent\\test\\steak\\3622237.jpg to demos\\foodvision_mini\\examples\\3622237.jpg\n",
      "[INFO] Copying data\\pizza_steak_sushi_20_percent\\test\\pizza\\2582289.jpg to demos\\foodvision_mini\\examples\\2582289.jpg\n",
      "[INFO] Copying models\\09_pretrained_effnetb2_feature_extractor_pizza_steak_sushi_20_percent.pth to demos\\foodvision_mini\\09_pretrained_effnetb2_feature_extractor_pizza_steak_sushi_20_percent.pth\n",
      "[INFO] Finished copying models\\09_pretrained_effnetb2_feature_extractor_pizza_steak_sushi_20_percent.pth to demos\\foodvision_mini\\09_pretrained_effnetb2_feature_extractor_pizza_steak_sushi_20_percent.pth\n"
     ]
    }
   ],
   "source": [
    "import shutil\n",
    "from pathlib import Path\n",
    "import platform\n",
    "import os\n",
    "\n",
    "os_name = platform.system()\n",
    "# print(f\"Operating System: {os_name}\")\n",
    "\n",
    "foodvision_mini_demo_path = Path(\"demos/foodvision_mini/\")\n",
    "foodvision_mini_demo_examples_path = Path(\"demos/foodvision_mini/examples\")\n",
    "\n",
    "# Create the /demos/foodvision_mini/ path.\n",
    "if foodvision_mini_demo_path.exists():\n",
    "    shutil.rmtree(foodvision_mini_demo_path)\n",
    "    foodvision_mini_demo_path.mkdir(parents=True,\n",
    "                                   exist_ok=True)    \n",
    "else:\n",
    "    foodvision_mini_demo_path.mkdir(parents=True,\n",
    "                                    exist_ok=True)\n",
    "# Make the rest of the directory structure\n",
    "foodvision_mini_demo_examples_path.mkdir(parents=True, exist_ok=True)\n",
    "# Copy the example files into the examples path.\n",
    "foodvision_mini_examples = [Path('data/pizza_steak_sushi_20_percent/test/sushi/592799.jpg'),\n",
    "                            Path('data/pizza_steak_sushi_20_percent/test/steak/3622237.jpg'),\n",
    "                            Path('data/pizza_steak_sushi_20_percent/test/pizza/2582289.jpg')]\n",
    "\n",
    "for example in foodvision_mini_examples:\n",
    "    destination = foodvision_mini_demo_examples_path / example.name\n",
    "    print(f\"[INFO] Copying {example} to {destination}\")\n",
    "    shutil.copy2(src=example, dst=destination) # copy2 attempts to preserve file meta data.\n",
    "\n",
    "# Create a list of lists for use in the Gradio script. It is going to require a list of lists that is based in the examples/ path dir.\n",
    "example_list = [[\"examples/\" + example] for example in os.listdir(foodvision_mini_demo_examples_path)]\n",
    "\n",
    "# Copy the model file into foodvision_mini_demo_path\n",
    "try:    \n",
    "    effnetb2_model_source_path = Path(\"models/09_pretrained_effnetb2_feature_extractor_pizza_steak_sushi_20_percent.pth\")\n",
    "    effnetb2_model_dest_path = foodvision_mini_demo_path / effnetb2_model_source_path.name\n",
    "    print(f\"[INFO] Copying {effnetb2_model_source_path} to {effnetb2_model_dest_path}\")\n",
    "    shutil.copy2(src=effnetb2_model_source_path , dst=effnetb2_model_dest_path)\n",
    "    print(f\"[INFO] Finished copying {effnetb2_model_source_path} to {effnetb2_model_dest_path}\")\n",
    "except:\n",
    "    print(f\"[ERROR] Error copying {effnetb2_model_source_path} to {effnetb2_model_dest_path}\")\n",
    "    print(f\"[INFO] Model {effnetb2_model_source_path} exists?: {os.path.exists(effnetb2_model_dest_path)}\")\n"
   ]
  },
  {
   "cell_type": "code",
   "execution_count": 85,
   "metadata": {},
   "outputs": [],
   "source": [
    "# Copy the model file into foodvision_mini_demo_path\n",
    "# effnetb2_model_source_path = Path(\"models/09_pretrained_effnetb2_feature_extractor_pizza_steak_sushi_20_percent.pth\")\n",
    "# effnetb2_model_dest_path = foodvision_mini_demo_path / effnetb2_model_source_path.name\n",
    "# effnetb2_model_dest_path"
   ]
  },
  {
   "cell_type": "code",
   "execution_count": 88,
   "metadata": {},
   "outputs": [
    {
     "name": "stdout",
     "output_type": "stream",
     "text": [
      "Overwriting demos/foodvision_mini/model.py\n"
     ]
    }
   ],
   "source": [
    "%%writefile demos/foodvision_mini/model.py\n",
    "\n",
    "import torch\n",
    "from torch import nn\n",
    "import torchvision\n",
    "# from torchinfo import summary\n",
    "from typing import Tuple\n",
    "\n",
    "def create_effnetb2_model(num_classes: int = 3, seed: int = 42, device: str = \"cpu\") -> Tuple[torch.nn.Module, torchvision.transforms._presets.ImageClassification]:\n",
    "\n",
    "  # 1. Setup pretrained EffNetB2 weights\n",
    "  effnetb2_weights = torchvision.models.EfficientNet_B2_Weights.DEFAULT # DEFAULT == best available\n",
    "\n",
    "  # 2. Get EffNetB2 transforms - for getting our data into the same format that the original model was trained on.\n",
    "  effnetb2_transforms = effnetb2_weights.transforms()\n",
    "\n",
    "  # 3. Setup pretrained model instance. It's also possible to use weights=\"DEFAULT\" if you want to skip getting the weights in step #1\n",
    "  effnetb2 = torchvision.models.efficientnet_b2(weights=effnetb2_weights).to(device)\n",
    "\n",
    "  # 4. Freeze the base layers in the model (this will stop all layers from training)\n",
    "  for param in effnetb2.parameters():\n",
    "    param.requires_grad = False # prevent params from being updated by gradient descent in our training loop.\n",
    "\n",
    "  # 5. Set seeds for reproducibility\n",
    "  torch.manual_seed(seed)\n",
    "  torch.cuda.manual_seed(seed)\n",
    "\n",
    "  # update the classifier layer to make it trainable\n",
    "  effnetb2.classifier = nn.Sequential(\n",
    "    nn.Dropout(p=0.3, inplace=True),\n",
    "    nn.Linear(in_features = 1408, out_features=num_classes)\n",
    "  )\n",
    "\n",
    "  return effnetb2, effnetb2_transforms"
   ]
  },
  {
   "cell_type": "code",
   "execution_count": 92,
   "metadata": {},
   "outputs": [],
   "source": [
    "# Test to make sure the file saved properly\n",
    "#from demos.foodvision_mini import model\n",
    "#effnetb2_model_test, effnetb2_transforms_test = model.create_effnetb2_model()\n",
    "#effnetb2_model_test\n"
   ]
  },
  {
   "cell_type": "markdown",
   "metadata": {},
   "source": [
    "## Turning FoodVision Mini Gradio app into a Python script (`app.py`)\n",
    "\n",
    "The `app.py` file will have four major parts:\n",
    "1. Imports and class names setup\n",
    "2. Model and transforms preparation\n",
    "3. Predict function (`predict()`)\n",
    "4. Gradio app - our Gradio interface + launch command"
   ]
  },
  {
   "cell_type": "code",
   "execution_count": 2,
   "metadata": {},
   "outputs": [
    {
     "name": "stdout",
     "output_type": "stream",
     "text": [
      "Writing demos/foodvision_mini/app.py\n"
     ]
    }
   ],
   "source": [
    "%%writefile demos/foodvision_mini/app.py\n",
    "# create app.py\n",
    "\n",
    "# import model.py and set up model\n",
    "import gradio as gr\n",
    "import os\n",
    "import torch\n",
    "\n",
    "from model import create_effnetb2_model\n",
    "from timeit import default_timer as timer\n",
    "import time\n",
    "from typing import Tuple, Dict\n",
    "\n",
    "class_names = [\"pizza\", \"steak\", \"sushi\"]\n",
    "\n",
    "# model creation code\n",
    "# Put our model on the CPU\n",
    "effnetb2_model, effnetb2_transforms = create_effnetb2_model()\n",
    "effnetb2_model = effnetb2_model.to(\"cpu\")\n",
    "\n",
    "# Load saved weights (trained model)\n",
    "effnetb2_model.load_state_dict(\n",
    "    torch.load(\n",
    "        f=\"09_pretrained_effnetb2_feature_extractor_pizza_steak_sushi_20_percent.pth\",\n",
    "        map_location=torch.device(\"cpu\") # load the model to the CPU. It was trained on GPU so it may try to default to that.\n",
    "    )\n",
    ")\n",
    "\n",
    "# the prediction function\n",
    "def predict(img) -> Tuple[Dict, float]:\n",
    "    # Start a timer\n",
    "    start_time = time.time()\n",
    "    \n",
    "    # Transform the input image for use with EffNetB2\n",
    "    image_with_transform = effnetb2_transforms(img).unsqueeze(0) # unsqueeze to add a batch dimension\n",
    "    \n",
    "    # Put model into eval mode, make prediction\n",
    "    effnetb2.eval()\n",
    "    with torch.inference_mode():\n",
    "        pred_probs = torch.softmax(effnetb2(image_with_transform), dim=1) # turn the logit into prediction probability        \n",
    "        pred_label = torch.argmax(pred_probs, dim=1) # get the pred index with the max value\n",
    "        pred_class = class_names[pred_label.cpu()]\n",
    "        \n",
    "    # Create a prediction label and prediction probability dictionary\n",
    "    pred_labels_and_probs = {class_names[i]: float(pred_probs[0][i]) for i in range(len(class_names))}\n",
    "\n",
    "    # Calculate pred time\n",
    "    end_time = time.time()\n",
    "    prediction_time = round(end_time - start_time, 4)\n",
    "    \n",
    "    # Return pred dict and pred time\n",
    "    return pred_labels_and_probs, prediction_time\n",
    "\n",
    "\n",
    "# Include Gradio app code\n",
    "title = \"FoodVision Mini\"\n",
    "description = \"An efficient model for recognizing photos of pizza, steak, and sushi.\"\n",
    "article = \"Created at 09 PyTorch Model Deployment\"\n",
    "\n",
    "# a way to get the example list\n",
    "#Create a list of example input to our Gradio demo\n",
    "example_list = [[\"examples/\" + example] for example in os.listdir(\"examples\")]\n",
    "\n",
    "demo = gr.Interface(fn=predict, \n",
    "                    inputs=gr.Image(type=\"pil\"), \n",
    "                    outputs=[gr.Label(num_top_classes=3, label=\"Predictions\"),\n",
    "                            gr.Number(label=\"Prediction time(s)\")],\n",
    "                   examples=example_list,\n",
    "                   title=title,\n",
    "                   description=description,\n",
    "                   article=article)\n",
    "demo.launch(debug=False,\n",
    "           share=True)\n"
   ]
  },
  {
   "cell_type": "markdown",
   "metadata": {},
   "source": [
    "### Create a requirements.txt file\n",
    "\n",
    "* `torch`\n",
    "* `torchvision`\n",
    "* `gradio`"
   ]
  },
  {
   "cell_type": "code",
   "execution_count": 2,
   "metadata": {},
   "outputs": [
    {
     "data": {
      "text/plain": [
       "'2.5.1'"
      ]
     },
     "execution_count": 2,
     "metadata": {},
     "output_type": "execute_result"
    }
   ],
   "source": [
    "import torch\n",
    "torch.__version__"
   ]
  },
  {
   "cell_type": "code",
   "execution_count": 3,
   "metadata": {},
   "outputs": [
    {
     "data": {
      "text/plain": [
       "'5.49.1'"
      ]
     },
     "execution_count": 3,
     "metadata": {},
     "output_type": "execute_result"
    }
   ],
   "source": [
    "import gradio\n",
    "gradio.__version__"
   ]
  },
  {
   "cell_type": "code",
   "execution_count": 4,
   "metadata": {},
   "outputs": [
    {
     "data": {
      "text/plain": [
       "'0.20.1'"
      ]
     },
     "execution_count": 4,
     "metadata": {},
     "output_type": "execute_result"
    }
   ],
   "source": [
    "import torchvision\n",
    "torchvision.__version__"
   ]
  },
  {
   "cell_type": "code",
   "execution_count": 8,
   "metadata": {},
   "outputs": [
    {
     "name": "stdout",
     "output_type": "stream",
     "text": [
      "Overwriting demos/foodvision_mini/requirements.txt\n"
     ]
    }
   ],
   "source": [
    "%%writefile demos/foodvision_mini/requirements.txt\n",
    "torch==2.5.1\n",
    "torchvision==0.20.1\n",
    "gradio==5.49.1"
   ]
  },
  {
   "cell_type": "code",
   "execution_count": null,
   "metadata": {},
   "outputs": [],
   "source": [
    "# Change into the foodvision_mini directory and create an archive\n",
    "# Useful if we were working on Google Colab\n",
    "# !cd demos/foodvision_mini && zip -r ../foodvision_mini.zip * -x \"*.pyc\" \"*.ipynb\" \"*__pycache__*\" \"*ipynb_checkpoints*\"\n",
    "# try:\n",
    "#     from google.colab import files\n",
    "#     files.download(\"demos/foodvision_mini.zip\")\n",
    "# except:\n",
    "#     print(f\"Not running in Google Colab, can't use google.colab.files.download(), please download manually.\""
   ]
  },
  {
   "cell_type": "markdown",
   "metadata": {},
   "source": [
    "## Creating FoodVision Big\n",
    "\n",
    "Lesson Textbook:\n",
    "https://www.learnpytorch.io/09_pytorch_model_deployment/#0-getting-setup"
   ]
  },
  {
   "cell_type": "code",
   "execution_count": 21,
   "metadata": {},
   "outputs": [],
   "source": [
    "import torch\n",
    "import torchvision\n",
    "from torchinfo import summary\n",
    "from typing import Tuple\n",
    "from torch import nn\n",
    "\n",
    "device = \"cuda\" if torch.cuda.is_available() else \"cpu\""
   ]
  },
  {
   "cell_type": "code",
   "execution_count": 22,
   "metadata": {},
   "outputs": [],
   "source": [
    "def create_effnetb2_model(num_classes: int = 3, seed: int = 42) -> Tuple[torch.nn.Module, torchvision.transforms._presets.ImageClassification]:\n",
    "\n",
    "  # 1. Setup pretrained EffNetB2 weights\n",
    "  effnetb2_weights = torchvision.models.EfficientNet_B2_Weights.DEFAULT # DEFAULT == best available\t\n",
    "\n",
    "  # 2. Get EffNetB2 transforms - for getting our data into the same format that the original model was trained on.\n",
    "  effnetb2_transforms = effnetb2_weights.transforms()\n",
    "\n",
    "  # 3. Setup pretrained model instance. It's also possible to use weights=\"DEFAULT\" if you want to skip getting the weights in step #1\n",
    "  effnetb2 = torchvision.models.efficientnet_b2(weights=effnetb2_weights).to(device)\n",
    "\n",
    "  # 4. Freeze the base layers in the model (this will stop all layers from training)\n",
    "  for param in effnetb2.parameters():\n",
    "    param.requires_grad = False # prevent params from being updated by gradient descent in our training loop.\n",
    "\n",
    "  # 5. Set seeds for reproducibility\n",
    "  torch.manual_seed(seed)\n",
    "  torch.cuda.manual_seed(seed)\n",
    "\n",
    "  # update the classifier layer to make it trainable\n",
    "  effnetb2.classifier = nn.Sequential(\n",
    "    nn.Dropout(p=0.3, inplace=True),\n",
    "    nn.Linear(in_features = 1408, out_features=num_classes)\n",
    "  )\n",
    "\n",
    "  return effnetb2, effnetb2_transforms"
   ]
  },
  {
   "cell_type": "code",
   "execution_count": 23,
   "metadata": {},
   "outputs": [],
   "source": [
    "# Set num classes to 101 for 101 class output.\n",
    "# Note: when dealing with 100,000+ images or a very large training set,\n",
    "# there can be a tendency for the model to overfit to the training data.\n",
    "# This is often demonstrated when a results graph shows \n",
    "# the training loss as being drastically lower than test loss.\n",
    "# One technique for dealing with overfitting is Regularization.\n",
    "# Ex. introduce data augmentation techniques, etc. TrivialAugment.\n",
    "# https://pytorch.org/blog/how-to-train-state-of-the-art-models-using-torchvision-latest-primitives/\n",
    "effnetb2_food101, effnetb2_transforms = create_effnetb2_model(num_classes=101)\n",
    "\n",
    "# summary(effnetb2_food101,\n",
    "#         input_size=(1, 3, 244, 244),\n",
    "#         col_names=[\"input_size\", \"output_size\", \"num_params\", \"trainable\"],\n",
    "#         col_width=20,\n",
    "#         row_settings=[\"var_names\"])"
   ]
  },
  {
   "cell_type": "code",
   "execution_count": 24,
   "metadata": {},
   "outputs": [],
   "source": [
    "# Create training data transforms\n",
    "food_101_transforms = torchvision.transforms.Compose([\n",
    "    torchvision.transforms.TrivialAugmentWide(),\n",
    "    effnetb2_transforms\n",
    "])"
   ]
  },
  {
   "cell_type": "code",
   "execution_count": 25,
   "metadata": {},
   "outputs": [
    {
     "data": {
      "text/plain": [
       "Compose(\n",
       "    TrivialAugmentWide(num_magnitude_bins=31, interpolation=InterpolationMode.NEAREST, fill=None)\n",
       "    ImageClassification(\n",
       "    crop_size=[288]\n",
       "    resize_size=[288]\n",
       "    mean=[0.485, 0.456, 0.406]\n",
       "    std=[0.229, 0.224, 0.225]\n",
       "    interpolation=InterpolationMode.BICUBIC\n",
       ")\n",
       ")"
      ]
     },
     "execution_count": 25,
     "metadata": {},
     "output_type": "execute_result"
    }
   ],
   "source": [
    "food_101_transforms"
   ]
  },
  {
   "cell_type": "code",
   "execution_count": 26,
   "metadata": {},
   "outputs": [
    {
     "data": {
      "text/plain": [
       "ImageClassification(\n",
       "    crop_size=[288]\n",
       "    resize_size=[288]\n",
       "    mean=[0.485, 0.456, 0.406]\n",
       "    std=[0.229, 0.224, 0.225]\n",
       "    interpolation=InterpolationMode.BICUBIC\n",
       ")"
      ]
     },
     "execution_count": 26,
     "metadata": {},
     "output_type": "execute_result"
    }
   ],
   "source": [
    "# Testing data transform\n",
    "effnetb2_transforms"
   ]
  },
  {
   "cell_type": "markdown",
   "metadata": {},
   "source": [
    "### Getting data for FoodVision Big\n",
    "\n",
    "Get the Food101 dataset: https://docs.pytorch.org/vision/0.19/generated/torchvision.datasets.Food101.html"
   ]
  },
  {
   "cell_type": "code",
   "execution_count": 27,
   "metadata": {},
   "outputs": [],
   "source": [
    "from pathlib import Path\n",
    "data_dir = Path(\"data\")\n",
    "train_data = torchvision.datasets.Food101(root=data_dir, \n",
    "                                          split=\"train\", \n",
    "                                          transform=food_101_transforms,\n",
    "                                          download=True)\n",
    "test_data = torchvision.datasets.Food101(root=data_dir, \n",
    "                                          split=\"test\", \n",
    "                                          transform=effnetb2_transforms,\n",
    "                                          download=True)"
   ]
  },
  {
   "cell_type": "code",
   "execution_count": 28,
   "metadata": {},
   "outputs": [],
   "source": [
    "# Get Food101 class names\n",
    "food101_class_names = train_data.classes\n",
    "\n",
    "#food101_class_names"
   ]
  },
  {
   "cell_type": "code",
   "execution_count": 29,
   "metadata": {},
   "outputs": [],
   "source": [
    "# Let's create a subset of the Food101 dataset.\n",
    "# We want our first few expiriments to run as quickly as possible.\n",
    "# Our prototype works great but now we are upgrading to a bigger set of classes.\n",
    "# Let's make a subset of 20% of the data from the Food101 dataset.\n",
    "# Research Paper - https://data.vision.ee.ethz.ch/cvl/datasets_extra/food-101/static/bossard_eccv14_food-101.pdf\n",
    "# Short term goal: Beat the original Food101 paper result of 56.40% accuracy\n",
    "# Beat this result using modern deep learning techniques and only 20% of the data.\n"
   ]
  },
  {
   "cell_type": "code",
   "execution_count": 30,
   "metadata": {},
   "outputs": [],
   "source": [
    "# Link - https://docs.pytorch.org/docs/stable/data.html#torch.utils.data.random_split\n",
    "from torch.utils.data import random_split\n",
    "\n",
    "def split_dataset(dataset:torchvision.datasets, # type: ignore\n",
    "                  split_size:float=0.2,\n",
    "                  seed:int=42):\n",
    "\t\"\"\"\n",
    "\tFor splitting the bigger dataset down to 20% (default) of the total size. split_dataset uses torch.utils.data.random_split() to randomly select samples from the total set.\n",
    "\t\"\"\"\n",
    "\t# Create split lengths based on original dataset length.\n",
    "\tlength_1 = int(len(dataset) * split_size) # type: ignore # defaults to 20% dataset\n",
    "\tlength_2 = len(dataset) - length_1  # type: ignore # remaining length\n",
    "  \n",
    "\t# Print out info\n",
    "\tprint(f\"[INFO] Splitting dataset of length {len(dataset)} into splits of size: {length_1} and {length_2}\") # type: ignore\n",
    "  \n",
    "\t# Create splits with given random seed\n",
    "\trandom_split_1, random_split_2 = torch.utils.data.random_split(dataset, # type: ignore\n",
    "                                                                 lengths=[length_1, length_2],\n",
    "                                                                 generator=torch.manual_seed(seed))\n",
    "\treturn random_split_1, random_split_2"
   ]
  },
  {
   "cell_type": "code",
   "execution_count": 31,
   "metadata": {},
   "outputs": [
    {
     "name": "stdout",
     "output_type": "stream",
     "text": [
      "[INFO] Splitting dataset of length 75750 into splits of size: 15150 and 60600\n",
      "[INFO] Splitting dataset of length 25250 into splits of size: 5050 and 20200\n"
     ]
    }
   ],
   "source": [
    "train_data_food101_20_percent, _ = split_dataset(dataset=train_data,  # type: ignore\n",
    "                                                 split_size=0.2)\n",
    "\n",
    "test_data_food101_20_percent, _ = split_dataset(dataset=test_data,  # type: ignore\n",
    "                                                split_size=0.2)"
   ]
  },
  {
   "cell_type": "code",
   "execution_count": 32,
   "metadata": {},
   "outputs": [
    {
     "data": {
      "text/plain": [
       "(15150, 5050)"
      ]
     },
     "execution_count": 32,
     "metadata": {},
     "output_type": "execute_result"
    }
   ],
   "source": [
    "len(train_data_food101_20_percent), len(test_data_food101_20_percent) "
   ]
  },
  {
   "cell_type": "markdown",
   "metadata": {},
   "source": [
    "### Create Dataloaders"
   ]
  },
  {
   "cell_type": "code",
   "execution_count": 33,
   "metadata": {},
   "outputs": [],
   "source": [
    "# Setup DataLoaders\n",
    "import os\n",
    "from going_modular.going_modular import data_setup\n",
    "from torch.utils.data import DataLoader\n",
    "\n",
    "NUM_WORKERS = 2 # this value is very experimental and the best value will differ greatly based on the hardware you are using.\n",
    "BATCH_SIZE = 32\n",
    "\n",
    "food101_train_dataloader = DataLoader(dataset=train_data_food101_20_percent, batch_size=BATCH_SIZE, shuffle=True, num_workers=NUM_WORKERS)\n",
    "food101_test_dataloader = DataLoader(dataset=test_data_food101_20_percent, batch_size=BATCH_SIZE, num_workers=NUM_WORKERS)"
   ]
  },
  {
   "cell_type": "code",
   "execution_count": 34,
   "metadata": {},
   "outputs": [
    {
     "data": {
      "text/plain": [
       "(474, 158)"
      ]
     },
     "execution_count": 34,
     "metadata": {},
     "output_type": "execute_result"
    }
   ],
   "source": [
    "len(food101_train_dataloader), len(food101_test_dataloader)"
   ]
  },
  {
   "cell_type": "code",
   "execution_count": 35,
   "metadata": {},
   "outputs": [
    {
     "data": {
      "text/plain": [
       "'8.1.5'"
      ]
     },
     "execution_count": 35,
     "metadata": {},
     "output_type": "execute_result"
    }
   ],
   "source": [
    "import ipywidgets\n",
    "ipywidgets.__version__"
   ]
  },
  {
   "cell_type": "code",
   "execution_count": 36,
   "metadata": {},
   "outputs": [
    {
     "data": {
      "application/vnd.jupyter.widget-view+json": {
       "model_id": "66a863a673824ec5b38a0a53eda79fe1",
       "version_major": 2,
       "version_minor": 0
      },
      "text/plain": [
       "  0%|          | 0/5 [00:00<?, ?it/s]"
      ]
     },
     "metadata": {},
     "output_type": "display_data"
    },
    {
     "name": "stdout",
     "output_type": "stream",
     "text": [
      "Epoch: 1 | train_loss: 3.6434 | train_acc: 0.2749 | test_loss: 2.7828 | test_acc: 0.4871\n",
      "Epoch: 2 | train_loss: 2.8603 | train_acc: 0.4425 | test_loss: 2.4732 | test_acc: 0.5379\n",
      "Epoch: 3 | train_loss: 2.6505 | train_acc: 0.4871 | test_loss: 2.3669 | test_acc: 0.5594\n",
      "Epoch: 4 | train_loss: 2.5453 | train_acc: 0.5120 | test_loss: 2.3042 | test_acc: 0.5741\n",
      "Epoch: 5 | train_loss: 2.4935 | train_acc: 0.5230 | test_loss: 2.2807 | test_acc: 0.5821\n"
     ]
    }
   ],
   "source": [
    "from going_modular.going_modular.engine import train\n",
    "from helper_functions import set_seeds\n",
    "### setup model training loop. 5 epochs could be enough?\n",
    "device = \"cuda\" if torch.cuda.is_available() else \"cpu\"\n",
    "\n",
    "### Create loss function and optimizer\n",
    "# label_smoothing helps prevent the model from overfitting on the target data.\n",
    "# Because neural networks are so powerful, they have the potential to overfit to a certain class.\n",
    "loss_fn = torch.nn.CrossEntropyLoss(label_smoothing=0.1)\n",
    "optimizer = torch.optim.Adam(params=effnetb2_food101.parameters(), lr=1e-3)\n",
    "\n",
    "# Set seeds for reproducibility and train the model.\n",
    "set_seeds()\n",
    "training_results_v0 = train(model=effnetb2_food101,\n",
    "      train_dataloader=food101_train_dataloader,\n",
    "      test_dataloader=food101_test_dataloader,\n",
    "      optimizer=optimizer,\n",
    "      loss_fn=loss_fn,\n",
    "      epochs=5,\n",
    "      device=device) # type: ignore"
   ]
  },
  {
   "cell_type": "code",
   "execution_count": 19,
   "metadata": {},
   "outputs": [],
   "source": [
    "#!nvidia-smi"
   ]
  },
  {
   "cell_type": "code",
   "execution_count": 37,
   "metadata": {},
   "outputs": [
    {
     "data": {
      "image/png": "[encoded data removed]",
      "text/plain": [
       "<Figure size 1500x700 with 2 Axes>"
      ]
     },
     "metadata": {},
     "output_type": "display_data"
    }
   ],
   "source": [
    "### Inspecting loss curves of FoodVision Big Model\n",
    "from helper_functions import plot_loss_curves\n",
    "\n",
    "plot_loss_curves(training_results_v0)"
   ]
  },
  {
   "cell_type": "markdown",
   "metadata": {},
   "source": [
    "### Save and load FoodVision Big model"
   ]
  },
  {
   "cell_type": "code",
   "execution_count": 38,
   "metadata": {},
   "outputs": [
    {
     "name": "stdout",
     "output_type": "stream",
     "text": [
      "[INFO] Saving model to: models\\09_pretrained_effnetb2_feature_extractor_food101_20_percent.pth\n"
     ]
    }
   ],
   "source": [
    "from going_modular.going_modular import utils\n",
    "\n",
    "# Create a model path\n",
    "effnetb2_food101_model_path = \"09_pretrained_effnetb2_feature_extractor_food101_20_percent.pth\"\n",
    "\n",
    "# Save FoodVision Big model\n",
    "utils.save_model(model=effnetb2_food101, target_dir=\"models/\", model_name=effnetb2_food101_model_path)\n"
   ]
  },
  {
   "cell_type": "code",
   "execution_count": 39,
   "metadata": {},
   "outputs": [
    {
     "name": "stderr",
     "output_type": "stream",
     "text": [
      "C:\\Users\\rossd\\AppData\\Local\\Temp\\ipykernel_20104\\1044447943.py:5: FutureWarning: You are using `torch.load` with `weights_only=False` (the current default value), which uses the default pickle module implicitly. It is possible to construct malicious pickle data which will execute arbitrary code during unpickling (See https://github.com/pytorch/pytorch/blob/main/SECURITY.md#untrusted-models for more details). In a future release, the default value for `weights_only` will be flipped to `True`. This limits the functions that could be executed during unpickling. Arbitrary objects will no longer be allowed to be loaded via this mode unless they are explicitly allowlisted by the user via `torch.serialization.add_safe_globals`. We recommend you start setting `weights_only=True` for any use case where you don't have full control of the loaded file. Please open an issue on GitHub for any issues related to this experimental feature.\n",
      "  loaded_effnetb2_food101.load_state_dict(torch.load(\"models/09_pretrained_effnetb2_feature_extractor_food101_20_percent.pth\"))\n"
     ]
    },
    {
     "data": {
      "text/plain": [
       "<All keys matched successfully>"
      ]
     },
     "execution_count": 39,
     "metadata": {},
     "output_type": "execute_result"
    }
   ],
   "source": [
    "# Create Food101 compatible EffNetB2 instance\n",
    "loaded_effnetb2_food101, effnetb2_transforms = create_effnetb2_model(num_classes=101)\n",
    "\n",
    "# Load the saved model's state_dict()\n",
    "loaded_effnetb2_food101.load_state_dict(torch.load(\"models/09_pretrained_effnetb2_feature_extractor_food101_20_percent.pth\"))"
   ]
  },
  {
   "cell_type": "markdown",
   "metadata": {},
   "source": [
    "### "
   ]
  },
  {
   "cell_type": "markdown",
   "metadata": {},
   "source": [
    "## Turning our FoodVision Big model to a deployable app\n",
    "\n",
    "Outline:\n"
   ]
  },
  {
   "cell_type": "code",
   "execution_count": 40,
   "metadata": {},
   "outputs": [],
   "source": [
    "from pathlib import Path\n",
    "\n",
    "foodvision_big_demo_path = Path(\"demos/foodvision_big/\")\n",
    "foodvision_big_demo_path.mkdir(parents=True,\n",
    "                               exist_ok=True)\n",
    "\n",
    "(foodvision_big_demo_path / \"examples\").mkdir(parents=True,\n",
    "                                              exist_ok=True)\n"
   ]
  },
  {
   "cell_type": "code",
   "execution_count": 44,
   "metadata": {},
   "outputs": [],
   "source": [
    "#!dir demos\\\\foodvision_big"
   ]
  },
  {
   "cell_type": "code",
   "execution_count": 51,
   "metadata": {},
   "outputs": [],
   "source": [
    "### Downloading an example image and moving it to the examples directory\n",
    "import urllib.request\n",
    "from PIL import Image\n",
    "from io import BytesIO\n",
    "\n",
    "image_url = \"https://upload.wikimedia.org/wikipedia/commons/9/91/Pizza-3007395.jpg\"\n",
    "local_filename = \"pizza_example.jpg\"\n",
    "save_path = foodvision_big_demo_path / \"examples\"\n",
    "\n",
    "headers = {\"User-Agent\": \"Mozilla/5.0 (Windows NT 10.0; Win64; x64)\"}\n",
    "req = urllib.request.Request(image_url, headers=headers)\n",
    "\n",
    "with urllib.request.urlopen(req) as response:\n",
    "    image_data = response.read()\n",
    "\n",
    "image = Image.open(BytesIO(image_data))\t\n",
    "image.save(fp=(save_path / local_filename))\n"
   ]
  },
  {
   "cell_type": "code",
   "execution_count": 56,
   "metadata": {},
   "outputs": [
    {
     "name": "stdout",
     "output_type": "stream",
     "text": [
      "[INFO] Copying models\\09_pretrained_effnetb2_feature_extractor_food101_20_percent.pth to demos\\foodvision_big\\09_pretrained_effnetb2_feature_extractor_food101_20_percent.pth\n",
      "[INFO] Finished copying models\\09_pretrained_effnetb2_feature_extractor_food101_20_percent.pth to demos\\foodvision_big\\09_pretrained_effnetb2_feature_extractor_food101_20_percent.pth\n"
     ]
    }
   ],
   "source": [
    "### Copy the model to the deployment directory\n",
    "import shutil\n",
    "\n",
    "try:    \n",
    "    effnetb2_food101_source_path = Path(\"models/09_pretrained_effnetb2_feature_extractor_food101_20_percent.pth\")\n",
    "    effnetb2_food101_dest_path = Path(foodvision_big_demo_path / effnetb2_food101_source_path.name)\n",
    "    print(f\"[INFO] Copying {effnetb2_food101_source_path} to {effnetb2_food101_dest_path}\")\n",
    "    shutil.copy2(src=effnetb2_food101_source_path, dst=effnetb2_food101_dest_path)\n",
    "    print(f\"[INFO] Finished copying {effnetb2_food101_source_path} to {effnetb2_food101_dest_path}\")\n",
    "except Exception as ex:\n",
    "    print(f\"[ERROR] Error copying {effnetb2_food101_source_path} to {effnetb2_food101_dest_path}\") #type: ignore\n",
    "    print(f\"[INFO] Model {effnetb2_food101_source_path} exists?: {os.path.exists(effnetb2_food101_source_path)}\") #type: ignore\n",
    "    print(f\"Exception {ex}\")"
   ]
  },
  {
   "cell_type": "code",
   "execution_count": 57,
   "metadata": {},
   "outputs": [
    {
     "data": {
      "text/plain": [
       "WindowsPath('demos/foodvision_big/class_names.txt')"
      ]
     },
     "execution_count": 57,
     "metadata": {},
     "output_type": "execute_result"
    }
   ],
   "source": [
    "### Create a class names text file from the class names array\n",
    "foodvision_big_class_names_path = foodvision_big_demo_path / \"class_names.txt\"\n",
    "foodvision_big_class_names_path\n"
   ]
  },
  {
   "cell_type": "code",
   "execution_count": 58,
   "metadata": {},
   "outputs": [
    {
     "name": "stdout",
     "output_type": "stream",
     "text": [
      "[INFO] Saving Food101 class names to demos\\foodvision_big\\class_names.txt\n"
     ]
    }
   ],
   "source": [
    "with open(foodvision_big_class_names_path, \"w\") as file:\n",
    "    print(f\"[INFO] Saving Food101 class names to {foodvision_big_class_names_path}\")\n",
    "    file.write(\"\\n\".join(food101_class_names)) # New line per class"
   ]
  },
  {
   "cell_type": "code",
   "execution_count": 59,
   "metadata": {},
   "outputs": [
    {
     "data": {
      "text/plain": [
       "['apple_pie', 'baby_back_ribs', 'baklava', 'beef_carpaccio', 'beef_tartare']"
      ]
     },
     "execution_count": 59,
     "metadata": {},
     "output_type": "execute_result"
    }
   ],
   "source": [
    "# Open Food101 class names file and read each line into a list\n",
    "with open(foodvision_big_class_names_path, \"r\") as file:\n",
    "    food101_class_names_loaded = [food.strip() for food in file.readlines()]\n",
    "    \n",
    "food101_class_names_loaded[:5]"
   ]
  },
  {
   "cell_type": "markdown",
   "metadata": {},
   "source": [
    "### Create model.py"
   ]
  },
  {
   "cell_type": "code",
   "execution_count": 68,
   "metadata": {},
   "outputs": [
    {
     "name": "stdout",
     "output_type": "stream",
     "text": [
      "Overwriting demos/foodvision_big/model.py\n"
     ]
    }
   ],
   "source": [
    "%%writefile demos/foodvision_big/model.py\n",
    "\n",
    "import torch\n",
    "from torch import nn\n",
    "import torchvision\n",
    "# from torchinfo import summary\n",
    "from typing import Tuple\n",
    "\n",
    "def create_effnetb2_model(num_classes: int = 3, seed: int = 42, device: str = \"cpu\") -> Tuple[torch.nn.Module, torchvision.transforms._presets.ImageClassification]:\n",
    "\n",
    "  # 1. Setup pretrained EffNetB2 weights\n",
    "  effnetb2_weights = torchvision.models.EfficientNet_B2_Weights.DEFAULT # DEFAULT == best available\n",
    "\n",
    "  # 2. Get EffNetB2 transforms - for getting our data into the same format that the original model was trained on.\n",
    "  effnetb2_transforms = effnetb2_weights.transforms()\n",
    "\n",
    "  # 3. Setup pretrained model instance. It's also possible to use weights=\"DEFAULT\" if you want to skip getting the weights in step #1\n",
    "  effnetb2 = torchvision.models.efficientnet_b2(weights=effnetb2_weights).to(device)\n",
    "\n",
    "  # 4. Freeze the base layers in the model (this will stop all layers from training)\n",
    "  for param in effnetb2.parameters():\n",
    "    param.requires_grad = False # prevent params from being updated by gradient descent in our training loop.\n",
    "\n",
    "  # 5. Set seeds for reproducibility\n",
    "  torch.manual_seed(seed)\n",
    "  torch.cuda.manual_seed(seed)\n",
    "\n",
    "  # update the classifier layer to make it trainable\n",
    "  effnetb2.classifier = nn.Sequential(\n",
    "    nn.Dropout(p=0.3, inplace=True),\n",
    "    nn.Linear(in_features = 1408, out_features=num_classes)\n",
    "  )\n",
    "\n",
    "  return effnetb2, effnetb2_transforms"
   ]
  },
  {
   "cell_type": "markdown",
   "metadata": {},
   "source": [
    "### Create app.py"
   ]
  },
  {
   "cell_type": "code",
   "execution_count": 72,
   "metadata": {},
   "outputs": [
    {
     "name": "stdout",
     "output_type": "stream",
     "text": [
      "Overwriting demos/foodvision_big/app.py\n"
     ]
    }
   ],
   "source": [
    "%%writefile demos/foodvision_big/app.py\n",
    "\n",
    "# import model.py and set up model\n",
    "import gradio as gr\n",
    "import os\n",
    "import torch\n",
    "\n",
    "from model import create_effnetb2_model\n",
    "from timeit import default_timer as timer\n",
    "import time\n",
    "from typing import Tuple, Dict\n",
    "\n",
    "# Open Food101 class names file and read each line into a list\n",
    "class_names_path = \"class_names.txt\"\n",
    "with open(class_names_path, \"r\") as file:\n",
    "    class_names = [food_name.strip() for food_name in file.readlines()]\n",
    "\n",
    "# model creation code\n",
    "# Put our model on the CPU\n",
    "effnetb2_model, effnetb2_transforms = create_effnetb2_model(num_classes=101)\n",
    "effnetb2_model = effnetb2_model.to(\"cpu\")\n",
    "\n",
    "# Load saved weights (trained model)\n",
    "effnetb2_model.load_state_dict(\n",
    "    torch.load(\n",
    "        f=\"09_pretrained_effnetb2_feature_extractor_food101_20_percent.pth\",\n",
    "        map_location=torch.device(\"cpu\") # load the model to the CPU. It was trained on GPU so it may try to default to that.\n",
    "    )\n",
    ")\n",
    "\n",
    "# the prediction function\n",
    "def predict(img) -> Tuple[Dict, float]:\n",
    "    # Start a timer\n",
    "    start_time = time.time()\n",
    "    \n",
    "    # Transform the input image for use with EffNetB2\n",
    "    image_with_transform = effnetb2_transforms(img).unsqueeze(0) # unsqueeze to add a batch dimension\n",
    "    \n",
    "    # Put model into eval mode, make prediction\n",
    "    effnetb2_model.eval()\n",
    "    with torch.inference_mode():\n",
    "        pred_probs = torch.softmax(effnetb2_model(image_with_transform), dim=1) # turn the logit into prediction probability        \n",
    "        pred_label = torch.argmax(pred_probs, dim=1) # get the pred index with the max value\n",
    "        pred_class = class_names[pred_label.cpu()]\n",
    "        \n",
    "    # Create a prediction label and prediction probability dictionary\n",
    "    pred_labels_and_probs = {class_names[i]: float(pred_probs[0][i]) for i in range(len(class_names))}\n",
    "\n",
    "    # Calculate pred time\n",
    "    end_time = time.time()\n",
    "    prediction_time = round(end_time - start_time, 4)\n",
    "    \n",
    "    # Return pred dict and pred time\n",
    "    return pred_labels_and_probs, prediction_time\n",
    "\n",
    "\n",
    "# Include Gradio app code\n",
    "title = \"FoodVision Big 🍔\"\n",
    "description = \"An efficient model for recognizing photos of 101 different foods.\"\n",
    "article = \"Created at 09 PyTorch Model Deployment\"\n",
    "\n",
    "# a way to get the example list\n",
    "# Create a list of example input to our Gradio demo\n",
    "example_list = [[\"examples/\" + example] for example in os.listdir(\"examples\")]\n",
    "\n",
    "demo = gr.Interface(fn=predict, \n",
    "                    inputs=gr.Image(type=\"pil\"), \n",
    "                    outputs=[gr.Label(num_top_classes=5, label=\"Predictions\"),\n",
    "                            gr.Number(label=\"Prediction time(s)\")],\n",
    "                   examples=example_list,\n",
    "                   title=title,\n",
    "                   description=description,\n",
    "                   article=article)\n",
    "demo.launch(debug=False)"
   ]
  },
  {
   "cell_type": "markdown",
   "metadata": {},
   "source": [
    "### Create the requirements.txt file"
   ]
  },
  {
   "cell_type": "code",
   "execution_count": 70,
   "metadata": {},
   "outputs": [
    {
     "name": "stdout",
     "output_type": "stream",
     "text": [
      "Overwriting demos/foodvision_big/requirements.txt\n"
     ]
    }
   ],
   "source": [
    "%%writefile demos/foodvision_big/requirements.txt\n",
    "torch==2.5.1\n",
    "torchvision==0.20.1\n",
    "gradio==5.49.1"
   ]
  },
  {
   "cell_type": "markdown",
   "metadata": {},
   "source": [
    "### Deploy the app to Hugging Face Spaces"
   ]
  },
  {
   "cell_type": "code",
   "execution_count": null,
   "metadata": {},
   "outputs": [],
   "source": []
  }
 ],
 "metadata": {
  "accelerator": "GPU",
  "colab": {
   "gpuType": "T4",
   "provenance": []
  },
  "kernelspec": {
   "display_name": "pytorch-sandbox",
   "language": "python",
   "name": "python3"
  },
  "language_info": {
   "codemirror_mode": {
    "name": "ipython",
    "version": 3
   },
   "file_extension": ".py",
   "mimetype": "text/x-python",
   "name": "python",
   "nbconvert_exporter": "python",
   "pygments_lexer": "ipython3",
   "version": "3.10.18"
  },
  "widgets": {
   "application/vnd.jupyter.widget-state+json": {
    "161b4b2ea2e94554819c30e562c216b4": {
     "model_module": "@jupyter-widgets/base",
     "model_module_version": "1.2.0",
     "model_name": "LayoutModel",
     "state": {
      "_model_module": "@jupyter-widgets/base",
      "_model_module_version": "1.2.0",
      "_model_name": "LayoutModel",
      "_view_count": null,
      "_view_module": "@jupyter-widgets/base",
      "_view_module_version": "1.2.0",
      "_view_name": "LayoutView",
      "align_content": null,
      "align_items": null,
      "align_self": null,
      "border": null,
      "bottom": null,
      "display": null,
      "flex": null,
      "flex_flow": null,
      "grid_area": null,
      "grid_auto_columns": null,
      "grid_auto_flow": null,
      "grid_auto_rows": null,
      "grid_column": null,
      "grid_gap": null,
      "grid_row": null,
      "grid_template_areas": null,
      "grid_template_columns": null,
      "grid_template_rows": null,
      "height": null,
      "justify_content": null,
      "justify_items": null,
      "left": null,
      "margin": null,
      "max_height": null,
      "max_width": null,
      "min_height": null,
      "min_width": null,
      "object_fit": null,
      "object_position": null,
      "order": null,
      "overflow": null,
      "overflow_x": null,
      "overflow_y": null,
      "padding": null,
      "right": null,
      "top": null,
      "visibility": null,
      "width": null
     }
    },
    "1b10605b0b7c48de8b897f4658874800": {
     "model_module": "@jupyter-widgets/base",
     "model_module_version": "1.2.0",
     "model_name": "LayoutModel",
     "state": {
      "_model_module": "@jupyter-widgets/base",
      "_model_module_version": "1.2.0",
      "_model_name": "LayoutModel",
      "_view_count": null,
      "_view_module": "@jupyter-widgets/base",
      "_view_module_version": "1.2.0",
      "_view_name": "LayoutView",
      "align_content": null,
      "align_items": null,
      "align_self": null,
      "border": null,
      "bottom": null,
      "display": null,
      "flex": null,
      "flex_flow": null,
      "grid_area": null,
      "grid_auto_columns": null,
      "grid_auto_flow": null,
      "grid_auto_rows": null,
      "grid_column": null,
      "grid_gap": null,
      "grid_row": null,
      "grid_template_areas": null,
      "grid_template_columns": null,
      "grid_template_rows": null,
      "height": null,
      "justify_content": null,
      "justify_items": null,
      "left": null,
      "margin": null,
      "max_height": null,
      "max_width": null,
      "min_height": null,
      "min_width": null,
      "object_fit": null,
      "object_position": null,
      "order": null,
      "overflow": null,
      "overflow_x": null,
      "overflow_y": null,
      "padding": null,
      "right": null,
      "top": null,
      "visibility": null,
      "width": null
     }
    },
    "2112016e671e48469654d4d684b791ba": {
     "model_module": "@jupyter-widgets/controls",
     "model_module_version": "1.5.0",
     "model_name": "HTMLModel",
     "state": {
      "_dom_classes": [],
      "_model_module": "@jupyter-widgets/controls",
      "_model_module_version": "1.5.0",
      "_model_name": "HTMLModel",
      "_view_count": null,
      "_view_module": "@jupyter-widgets/controls",
      "_view_module_version": "1.5.0",
      "_view_name": "HTMLView",
      "description": "",
      "description_tooltip": null,
      "layout": "IPY_MODEL_63e540b207414a209b22e41cf27c0b42",
      "placeholder": "​",
      "style": "IPY_MODEL_9abcbe3a4b6347ef81d947b143eee343",
      "value": " 10/10 [27:34&lt;00:00, 164.57s/it]"
     }
    },
    "21f132c626f94b1488c6d4eeace26427": {
     "model_module": "@jupyter-widgets/base",
     "model_module_version": "1.2.0",
     "model_name": "LayoutModel",
     "state": {
      "_model_module": "@jupyter-widgets/base",
      "_model_module_version": "1.2.0",
      "_model_name": "LayoutModel",
      "_view_count": null,
      "_view_module": "@jupyter-widgets/base",
      "_view_module_version": "1.2.0",
      "_view_name": "LayoutView",
      "align_content": null,
      "align_items": null,
      "align_self": null,
      "border": null,
      "bottom": null,
      "display": null,
      "flex": null,
      "flex_flow": null,
      "grid_area": null,
      "grid_auto_columns": null,
      "grid_auto_flow": null,
      "grid_auto_rows": null,
      "grid_column": null,
      "grid_gap": null,
      "grid_row": null,
      "grid_template_areas": null,
      "grid_template_columns": null,
      "grid_template_rows": null,
      "height": null,
      "justify_content": null,
      "justify_items": null,
      "left": null,
      "margin": null,
      "max_height": null,
      "max_width": null,
      "min_height": null,
      "min_width": null,
      "object_fit": null,
      "object_position": null,
      "order": null,
      "overflow": null,
      "overflow_x": null,
      "overflow_y": null,
      "padding": null,
      "right": null,
      "top": null,
      "visibility": null,
      "width": null
     }
    },
    "30ef8a40c9234e879c5620c7acaec363": {
     "model_module": "@jupyter-widgets/controls",
     "model_module_version": "1.5.0",
     "model_name": "HTMLModel",
     "state": {
      "_dom_classes": [],
      "_model_module": "@jupyter-widgets/controls",
      "_model_module_version": "1.5.0",
      "_model_name": "HTMLModel",
      "_view_count": null,
      "_view_module": "@jupyter-widgets/controls",
      "_view_module_version": "1.5.0",
      "_view_name": "HTMLView",
      "description": "",
      "description_tooltip": null,
      "layout": "IPY_MODEL_c61c77e0c10140998752b2ecf30ad508",
      "placeholder": "​",
      "style": "IPY_MODEL_4b6b455c90394bf18773879fa9d76a2d",
      "value": "100%"
     }
    },
    "4b6b455c90394bf18773879fa9d76a2d": {
     "model_module": "@jupyter-widgets/controls",
     "model_module_version": "1.5.0",
     "model_name": "DescriptionStyleModel",
     "state": {
      "_model_module": "@jupyter-widgets/controls",
      "_model_module_version": "1.5.0",
      "_model_name": "DescriptionStyleModel",
      "_view_count": null,
      "_view_module": "@jupyter-widgets/base",
      "_view_module_version": "1.2.0",
      "_view_name": "StyleView",
      "description_width": ""
     }
    },
    "508b7b520c2d45f4b161e24b6bbc7d57": {
     "model_module": "@jupyter-widgets/controls",
     "model_module_version": "1.5.0",
     "model_name": "HTMLModel",
     "state": {
      "_dom_classes": [],
      "_model_module": "@jupyter-widgets/controls",
      "_model_module_version": "1.5.0",
      "_model_name": "HTMLModel",
      "_view_count": null,
      "_view_module": "@jupyter-widgets/controls",
      "_view_module_version": "1.5.0",
      "_view_name": "HTMLView",
      "description": "",
      "description_tooltip": null,
      "layout": "IPY_MODEL_c9e66c35ed3343e0b5f85d172e764a76",
      "placeholder": "​",
      "style": "IPY_MODEL_921c0fc4ae734bd9a00da07647cc5c4a",
      "value": " 0/10 [00:52&lt;?, ?it/s]"
     }
    },
    "52fc3d1dc97c403fb3c1094f0ac314a0": {
     "model_module": "@jupyter-widgets/base",
     "model_module_version": "1.2.0",
     "model_name": "LayoutModel",
     "state": {
      "_model_module": "@jupyter-widgets/base",
      "_model_module_version": "1.2.0",
      "_model_name": "LayoutModel",
      "_view_count": null,
      "_view_module": "@jupyter-widgets/base",
      "_view_module_version": "1.2.0",
      "_view_name": "LayoutView",
      "align_content": null,
      "align_items": null,
      "align_self": null,
      "border": null,
      "bottom": null,
      "display": null,
      "flex": null,
      "flex_flow": null,
      "grid_area": null,
      "grid_auto_columns": null,
      "grid_auto_flow": null,
      "grid_auto_rows": null,
      "grid_column": null,
      "grid_gap": null,
      "grid_row": null,
      "grid_template_areas": null,
      "grid_template_columns": null,
      "grid_template_rows": null,
      "height": null,
      "justify_content": null,
      "justify_items": null,
      "left": null,
      "margin": null,
      "max_height": null,
      "max_width": null,
      "min_height": null,
      "min_width": null,
      "object_fit": null,
      "object_position": null,
      "order": null,
      "overflow": null,
      "overflow_x": null,
      "overflow_y": null,
      "padding": null,
      "right": null,
      "top": null,
      "visibility": null,
      "width": null
     }
    },
    "5c5fd90e943b4bb999fa40ad8011dcae": {
     "model_module": "@jupyter-widgets/controls",
     "model_module_version": "1.5.0",
     "model_name": "FloatProgressModel",
     "state": {
      "_dom_classes": [],
      "_model_module": "@jupyter-widgets/controls",
      "_model_module_version": "1.5.0",
      "_model_name": "FloatProgressModel",
      "_view_count": null,
      "_view_module": "@jupyter-widgets/controls",
      "_view_module_version": "1.5.0",
      "_view_name": "ProgressView",
      "bar_style": "success",
      "description": "",
      "description_tooltip": null,
      "layout": "IPY_MODEL_1b10605b0b7c48de8b897f4658874800",
      "max": 10,
      "min": 0,
      "orientation": "horizontal",
      "style": "IPY_MODEL_636937be72ec4696b1de25e309bd486e",
      "value": 10
     }
    },
    "636937be72ec4696b1de25e309bd486e": {
     "model_module": "@jupyter-widgets/controls",
     "model_module_version": "1.5.0",
     "model_name": "ProgressStyleModel",
     "state": {
      "_model_module": "@jupyter-widgets/controls",
      "_model_module_version": "1.5.0",
      "_model_name": "ProgressStyleModel",
      "_view_count": null,
      "_view_module": "@jupyter-widgets/base",
      "_view_module_version": "1.2.0",
      "_view_name": "StyleView",
      "bar_color": null,
      "description_width": ""
     }
    },
    "63e540b207414a209b22e41cf27c0b42": {
     "model_module": "@jupyter-widgets/base",
     "model_module_version": "1.2.0",
     "model_name": "LayoutModel",
     "state": {
      "_model_module": "@jupyter-widgets/base",
      "_model_module_version": "1.2.0",
      "_model_name": "LayoutModel",
      "_view_count": null,
      "_view_module": "@jupyter-widgets/base",
      "_view_module_version": "1.2.0",
      "_view_name": "LayoutView",
      "align_content": null,
      "align_items": null,
      "align_self": null,
      "border": null,
      "bottom": null,
      "display": null,
      "flex": null,
      "flex_flow": null,
      "grid_area": null,
      "grid_auto_columns": null,
      "grid_auto_flow": null,
      "grid_auto_rows": null,
      "grid_column": null,
      "grid_gap": null,
      "grid_row": null,
      "grid_template_areas": null,
      "grid_template_columns": null,
      "grid_template_rows": null,
      "height": null,
      "justify_content": null,
      "justify_items": null,
      "left": null,
      "margin": null,
      "max_height": null,
      "max_width": null,
      "min_height": null,
      "min_width": null,
      "object_fit": null,
      "object_position": null,
      "order": null,
      "overflow": null,
      "overflow_x": null,
      "overflow_y": null,
      "padding": null,
      "right": null,
      "top": null,
      "visibility": null,
      "width": null
     }
    },
    "921c0fc4ae734bd9a00da07647cc5c4a": {
     "model_module": "@jupyter-widgets/controls",
     "model_module_version": "1.5.0",
     "model_name": "DescriptionStyleModel",
     "state": {
      "_model_module": "@jupyter-widgets/controls",
      "_model_module_version": "1.5.0",
      "_model_name": "DescriptionStyleModel",
      "_view_count": null,
      "_view_module": "@jupyter-widgets/base",
      "_view_module_version": "1.2.0",
      "_view_name": "StyleView",
      "description_width": ""
     }
    },
    "97665146337c44d68cf1dce421d1aa17": {
     "model_module": "@jupyter-widgets/controls",
     "model_module_version": "1.5.0",
     "model_name": "HBoxModel",
     "state": {
      "_dom_classes": [],
      "_model_module": "@jupyter-widgets/controls",
      "_model_module_version": "1.5.0",
      "_model_name": "HBoxModel",
      "_view_count": null,
      "_view_module": "@jupyter-widgets/controls",
      "_view_module_version": "1.5.0",
      "_view_name": "HBoxView",
      "box_style": "",
      "children": [
       "IPY_MODEL_30ef8a40c9234e879c5620c7acaec363",
       "IPY_MODEL_5c5fd90e943b4bb999fa40ad8011dcae",
       "IPY_MODEL_2112016e671e48469654d4d684b791ba"
      ],
      "layout": "IPY_MODEL_21f132c626f94b1488c6d4eeace26427"
     }
    },
    "9abcbe3a4b6347ef81d947b143eee343": {
     "model_module": "@jupyter-widgets/controls",
     "model_module_version": "1.5.0",
     "model_name": "DescriptionStyleModel",
     "state": {
      "_model_module": "@jupyter-widgets/controls",
      "_model_module_version": "1.5.0",
      "_model_name": "DescriptionStyleModel",
      "_view_count": null,
      "_view_module": "@jupyter-widgets/base",
      "_view_module_version": "1.2.0",
      "_view_name": "StyleView",
      "description_width": ""
     }
    },
    "b34b72fda41f44b4b8fd6135b67bc2d8": {
     "model_module": "@jupyter-widgets/controls",
     "model_module_version": "1.5.0",
     "model_name": "ProgressStyleModel",
     "state": {
      "_model_module": "@jupyter-widgets/controls",
      "_model_module_version": "1.5.0",
      "_model_name": "ProgressStyleModel",
      "_view_count": null,
      "_view_module": "@jupyter-widgets/base",
      "_view_module_version": "1.2.0",
      "_view_name": "StyleView",
      "bar_color": null,
      "description_width": ""
     }
    },
    "c61c77e0c10140998752b2ecf30ad508": {
     "model_module": "@jupyter-widgets/base",
     "model_module_version": "1.2.0",
     "model_name": "LayoutModel",
     "state": {
      "_model_module": "@jupyter-widgets/base",
      "_model_module_version": "1.2.0",
      "_model_name": "LayoutModel",
      "_view_count": null,
      "_view_module": "@jupyter-widgets/base",
      "_view_module_version": "1.2.0",
      "_view_name": "LayoutView",
      "align_content": null,
      "align_items": null,
      "align_self": null,
      "border": null,
      "bottom": null,
      "display": null,
      "flex": null,
      "flex_flow": null,
      "grid_area": null,
      "grid_auto_columns": null,
      "grid_auto_flow": null,
      "grid_auto_rows": null,
      "grid_column": null,
      "grid_gap": null,
      "grid_row": null,
      "grid_template_areas": null,
      "grid_template_columns": null,
      "grid_template_rows": null,
      "height": null,
      "justify_content": null,
      "justify_items": null,
      "left": null,
      "margin": null,
      "max_height": null,
      "max_width": null,
      "min_height": null,
      "min_width": null,
      "object_fit": null,
      "object_position": null,
      "order": null,
      "overflow": null,
      "overflow_x": null,
      "overflow_y": null,
      "padding": null,
      "right": null,
      "top": null,
      "visibility": null,
      "width": null
     }
    },
    "c9e66c35ed3343e0b5f85d172e764a76": {
     "model_module": "@jupyter-widgets/base",
     "model_module_version": "1.2.0",
     "model_name": "LayoutModel",
     "state": {
      "_model_module": "@jupyter-widgets/base",
      "_model_module_version": "1.2.0",
      "_model_name": "LayoutModel",
      "_view_count": null,
      "_view_module": "@jupyter-widgets/base",
      "_view_module_version": "1.2.0",
      "_view_name": "LayoutView",
      "align_content": null,
      "align_items": null,
      "align_self": null,
      "border": null,
      "bottom": null,
      "display": null,
      "flex": null,
      "flex_flow": null,
      "grid_area": null,
      "grid_auto_columns": null,
      "grid_auto_flow": null,
      "grid_auto_rows": null,
      "grid_column": null,
      "grid_gap": null,
      "grid_row": null,
      "grid_template_areas": null,
      "grid_template_columns": null,
      "grid_template_rows": null,
      "height": null,
      "justify_content": null,
      "justify_items": null,
      "left": null,
      "margin": null,
      "max_height": null,
      "max_width": null,
      "min_height": null,
      "min_width": null,
      "object_fit": null,
      "object_position": null,
      "order": null,
      "overflow": null,
      "overflow_x": null,
      "overflow_y": null,
      "padding": null,
      "right": null,
      "top": null,
      "visibility": null,
      "width": null
     }
    },
    "e4b43f638c1343458a771dca71e1294c": {
     "model_module": "@jupyter-widgets/controls",
     "model_module_version": "1.5.0",
     "model_name": "HTMLModel",
     "state": {
      "_dom_classes": [],
      "_model_module": "@jupyter-widgets/controls",
      "_model_module_version": "1.5.0",
      "_model_name": "HTMLModel",
      "_view_count": null,
      "_view_module": "@jupyter-widgets/controls",
      "_view_module_version": "1.5.0",
      "_view_name": "HTMLView",
      "description": "",
      "description_tooltip": null,
      "layout": "IPY_MODEL_edcd739363514303982d337b57ab22a3",
      "placeholder": "​",
      "style": "IPY_MODEL_fc5393be2fd04a6a84d1ffe25ee06add",
      "value": "  0%"
     }
    },
    "edcd739363514303982d337b57ab22a3": {
     "model_module": "@jupyter-widgets/base",
     "model_module_version": "1.2.0",
     "model_name": "LayoutModel",
     "state": {
      "_model_module": "@jupyter-widgets/base",
      "_model_module_version": "1.2.0",
      "_model_name": "LayoutModel",
      "_view_count": null,
      "_view_module": "@jupyter-widgets/base",
      "_view_module_version": "1.2.0",
      "_view_name": "LayoutView",
      "align_content": null,
      "align_items": null,
      "align_self": null,
      "border": null,
      "bottom": null,
      "display": null,
      "flex": null,
      "flex_flow": null,
      "grid_area": null,
      "grid_auto_columns": null,
      "grid_auto_flow": null,
      "grid_auto_rows": null,
      "grid_column": null,
      "grid_gap": null,
      "grid_row": null,
      "grid_template_areas": null,
      "grid_template_columns": null,
      "grid_template_rows": null,
      "height": null,
      "justify_content": null,
      "justify_items": null,
      "left": null,
      "margin": null,
      "max_height": null,
      "max_width": null,
      "min_height": null,
      "min_width": null,
      "object_fit": null,
      "object_position": null,
      "order": null,
      "overflow": null,
      "overflow_x": null,
      "overflow_y": null,
      "padding": null,
      "right": null,
      "top": null,
      "visibility": null,
      "width": null
     }
    },
    "fbb199ca11914fb1a4a02339418f8c3b": {
     "model_module": "@jupyter-widgets/controls",
     "model_module_version": "1.5.0",
     "model_name": "HBoxModel",
     "state": {
      "_dom_classes": [],
      "_model_module": "@jupyter-widgets/controls",
      "_model_module_version": "1.5.0",
      "_model_name": "HBoxModel",
      "_view_count": null,
      "_view_module": "@jupyter-widgets/controls",
      "_view_module_version": "1.5.0",
      "_view_name": "HBoxView",
      "box_style": "",
      "children": [
       "IPY_MODEL_e4b43f638c1343458a771dca71e1294c",
       "IPY_MODEL_fd2dd7af9da849a9b3f777ab4f4b5422",
       "IPY_MODEL_508b7b520c2d45f4b161e24b6bbc7d57"
      ],
      "layout": "IPY_MODEL_161b4b2ea2e94554819c30e562c216b4"
     }
    },
    "fc5393be2fd04a6a84d1ffe25ee06add": {
     "model_module": "@jupyter-widgets/controls",
     "model_module_version": "1.5.0",
     "model_name": "DescriptionStyleModel",
     "state": {
      "_model_module": "@jupyter-widgets/controls",
      "_model_module_version": "1.5.0",
      "_model_name": "DescriptionStyleModel",
      "_view_count": null,
      "_view_module": "@jupyter-widgets/base",
      "_view_module_version": "1.2.0",
      "_view_name": "StyleView",
      "description_width": ""
     }
    },
    "fd2dd7af9da849a9b3f777ab4f4b5422": {
     "model_module": "@jupyter-widgets/controls",
     "model_module_version": "1.5.0",
     "model_name": "FloatProgressModel",
     "state": {
      "_dom_classes": [],
      "_model_module": "@jupyter-widgets/controls",
      "_model_module_version": "1.5.0",
      "_model_name": "FloatProgressModel",
      "_view_count": null,
      "_view_module": "@jupyter-widgets/controls",
      "_view_module_version": "1.5.0",
      "_view_name": "ProgressView",
      "bar_style": "danger",
      "description": "",
      "description_tooltip": null,
      "layout": "IPY_MODEL_52fc3d1dc97c403fb3c1094f0ac314a0",
      "max": 10,
      "min": 0,
      "orientation": "horizontal",
      "style": "IPY_MODEL_b34b72fda41f44b4b8fd6135b67bc2d8",
      "value": 0
     }
    }
   }
  }
 },
 "nbformat": 4,
 "nbformat_minor": 4
}
