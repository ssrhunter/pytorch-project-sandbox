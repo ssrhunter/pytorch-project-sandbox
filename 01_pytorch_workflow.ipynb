{
  "nbformat": 4,
  "nbformat_minor": 0,
  "metadata": {
    "colab": {
      "provenance": [],
      "toc_visible": true,
      "gpuType": "T4"
    },
    "kernelspec": {
      "name": "python3",
      "display_name": "Python 3"
    },
    "language_info": {
      "name": "python"
    },
    "accelerator": "GPU"
  },
  "cells": [
    {
      "cell_type": "markdown",
      "source": [
        "# PyTorch Workflow\n",
        "\n",
        "Let's explore an example PyTorch end-to-end workflow\n",
        "\n",
        "Resources:\n",
        "* Ground truth notebook  -\n",
        "* Book version of the notebook -\n",
        "* Ask a question -\n"
      ],
      "metadata": {
        "id": "vQVilCAHUuQY"
      }
    },
    {
      "cell_type": "code",
      "source": [
        "what_were_covering = {1: \"data (prepare and load)\",\n",
        "                      2: \"build model\",\n",
        "                      3: \"fitting the model to data (training)\",\n",
        "                      4: \"making predictions and evaluating a model (inference)\",\n",
        "                      5: \"saving and loading a model\",\n",
        "                      6: \"putting it all together\"}\n",
        "what_were_covering\n"
      ],
      "metadata": {
        "colab": {
          "base_uri": "https://localhost:8080/"
        },
        "id": "dRk1sN4i0Q-l",
        "outputId": "05b41900-3198-4371-c076-33b70c437d9f"
      },
      "execution_count": null,
      "outputs": [
        {
          "output_type": "execute_result",
          "data": {
            "text/plain": [
              "{1: 'data (prepare and load)',\n",
              " 2: 'build model',\n",
              " 3: 'fitting the model to data (training)',\n",
              " 4: 'making predictions and evaluating a model (inference)',\n",
              " 5: 'saving and loading a model',\n",
              " 6: 'putting it all together'}"
            ]
          },
          "metadata": {},
          "execution_count": 68
        }
      ]
    },
    {
      "cell_type": "code",
      "source": [
        "import torch\n",
        "from torch import nn # nn contains all of PyTorch's building blocks for neural networks.\n",
        "import matplotlib.pyplot as plt\n",
        "\n",
        "# Check PyTorch version\n",
        "torch.__version__"
      ],
      "metadata": {
        "colab": {
          "base_uri": "https://localhost:8080/",
          "height": 35
        },
        "id": "WrCS3OQ-040g",
        "outputId": "91ff1761-7714-43c1-82a2-b54414e1d07d"
      },
      "execution_count": null,
      "outputs": [
        {
          "output_type": "execute_result",
          "data": {
            "text/plain": [
              "'2.8.0+cu126'"
            ],
            "application/vnd.google.colaboratory.intrinsic+json": {
              "type": "string"
            }
          },
          "metadata": {},
          "execution_count": 69
        }
      ]
    },
    {
      "cell_type": "markdown",
      "source": [
        "## 1. Data (preparing and loading)\n",
        "\n",
        "Data can be almost anything... in machine learning.\n",
        "\n",
        "* Excel spreadsheet\n",
        "* Images of any kind\n",
        "* Videos (YouTube has lots of data...)\n",
        "* Audio like songs or podcasts\n",
        "* DNA\n",
        "* Text\n",
        "\n",
        "Machine learning is a game of two parts:\n",
        "1. Get data into a numerical representation.\n",
        "2. Build a model to learn patterns in that numerical representation.\n",
        "\n",
        "To showcase this, let's create some *known* data using the linear regression formula.\n",
        "\n",
        "We'll use a linear regression formula to make a straight line with known parameters.\n",
        "\n",
        "Y = a + bX\n"
      ],
      "metadata": {
        "id": "Y8AoY7zV1qNW"
      }
    },
    {
      "cell_type": "code",
      "source": [
        "# Create *known* parameters\n",
        "weight = 0.7\n",
        "bias = 0.3\n",
        "\n",
        "# Create some data\n",
        "start = 0\n",
        "end = 1\n",
        "step = 0.02\n",
        "X = torch.arange(start, end, step).unsqueeze(dim=1) # typically X refers to a matrix or tensor in ML.\n",
        "y = weight * X + bias # this is the function we are using.\n",
        "X[:10], y[:10] #, len(X), len(y). get the first ten"
      ],
      "metadata": {
        "colab": {
          "base_uri": "https://localhost:8080/"
        },
        "id": "FSkkoZ_G2nRL",
        "outputId": "673bdc50-9be6-42c3-e4df-f2daafb843ee"
      },
      "execution_count": null,
      "outputs": [
        {
          "output_type": "execute_result",
          "data": {
            "text/plain": [
              "(tensor([[0.0000],\n",
              "         [0.0200],\n",
              "         [0.0400],\n",
              "         [0.0600],\n",
              "         [0.0800],\n",
              "         [0.1000],\n",
              "         [0.1200],\n",
              "         [0.1400],\n",
              "         [0.1600],\n",
              "         [0.1800]]),\n",
              " tensor([[0.3000],\n",
              "         [0.3140],\n",
              "         [0.3280],\n",
              "         [0.3420],\n",
              "         [0.3560],\n",
              "         [0.3700],\n",
              "         [0.3840],\n",
              "         [0.3980],\n",
              "         [0.4120],\n",
              "         [0.4260]]))"
            ]
          },
          "metadata": {},
          "execution_count": 70
        }
      ]
    },
    {
      "cell_type": "code",
      "source": [
        "len(X), len(y)"
      ],
      "metadata": {
        "colab": {
          "base_uri": "https://localhost:8080/"
        },
        "id": "TJ9c3kiP4Lo0",
        "outputId": "d806b1e1-6ca9-4175-a833-1fa9c970130b"
      },
      "execution_count": null,
      "outputs": [
        {
          "output_type": "execute_result",
          "data": {
            "text/plain": [
              "(50, 50)"
            ]
          },
          "metadata": {},
          "execution_count": 71
        }
      ]
    },
    {
      "cell_type": "markdown",
      "source": [
        "### Splitting data into training and test sets (one of the most important concepts in machine learning in general)\n",
        "\n",
        "Let's create a training and test set for our data.\n",
        "Training 80%\n",
        "Test 20%"
      ],
      "metadata": {
        "id": "-49BcyL85WxU"
      }
    },
    {
      "cell_type": "code",
      "source": [
        "# Create a train/test split\n",
        "train_split = int(0.8 * len(X)) # 80% of the samples, which is 40 in this case\n",
        "X_train, y_train = X[:train_split], y[:train_split] # get the first 40 of each\n",
        "X_test, y_test = X[train_split:], y[train_split:] # from index 40 and up which is the last 10\n",
        "\n",
        "len(X_train), len(y_train), len(X_test), len(y_test)\n"
      ],
      "metadata": {
        "colab": {
          "base_uri": "https://localhost:8080/"
        },
        "id": "BVQrqhyt5sjV",
        "outputId": "e72946a8-e920-428a-ae1b-8a51c5353657"
      },
      "execution_count": null,
      "outputs": [
        {
          "output_type": "execute_result",
          "data": {
            "text/plain": [
              "(40, 40, 10, 10)"
            ]
          },
          "metadata": {},
          "execution_count": 72
        }
      ]
    },
    {
      "cell_type": "markdown",
      "source": [
        "How might we better visualize our data?\n",
        "\n",
        "This is where the data explorer's motto comes in!\n",
        "\n",
        "\"Visualize, visualize, visualize!\""
      ],
      "metadata": {
        "id": "RAUdMRb_BV-9"
      }
    },
    {
      "cell_type": "code",
      "source": [
        "# Function for plotting data\n",
        "def plot_predictions(train_data=X_train,\n",
        "                     train_labels=y_train,\n",
        "                     test_data=X_test,\n",
        "                     test_labels=y_test,\n",
        "                     predictions=None):\n",
        "  \"\"\"\n",
        "  Plots training data, test data and compares predictions.\n",
        "  \"\"\"\n",
        "  plt.figure(figsize=(10, 7))\n",
        "\n",
        "  # Plot training data in blue\n",
        "  plt.scatter(train_data, train_labels, c=\"b\", s=4, label=\"Training data\")\n",
        "\n",
        "  # Plot test data in green\n",
        "  plt.scatter(test_data, test_labels, c=\"g\", s=4, label=\"Testing data\")\n",
        "\n",
        "  # Are there predictions?\n",
        "  if predictions is not None:\n",
        "    # Plot the predictions if they exist\n",
        "    plt.scatter(test_data, predictions, c=\"r\", s=4, label=\"Predictions\")\n",
        "\n",
        "  # Show the legend\n",
        "  plt.legend(prop={\"size\": 14});"
      ],
      "metadata": {
        "id": "u6Jtf0WwB8p7"
      },
      "execution_count": null,
      "outputs": []
    },
    {
      "cell_type": "code",
      "source": [
        "plot_predictions()"
      ],
      "metadata": {
        "colab": {
          "base_uri": "https://localhost:8080/",
          "height": 433
        },
        "id": "g2dASbzYF4At",
        "outputId": "b0ff13a8-082e-4721-b612-dbecc63dff6a"
      },
      "execution_count": null,
      "outputs": [
        {
          "output_type": "display_data",
          "data": {
            "text/plain": [
              "<Figure size 1000x700 with 1 Axes>"
            ],
            "image/png": "[encoded data removed]"
          },
          "metadata": {}
        }
      ]
    },
    {
      "cell_type": "markdown",
      "source": [
        "## 2. Build model, yay!\n",
        "\n",
        "What our model does:\n",
        "* Start with random values (weight & bias)\n",
        "* Look at training data and adjust the random values to better represent (or get closer to) the ideal values (the weight & bias values we used to create the data)\n",
        "\n",
        "How does it do so?\n",
        "\n",
        "Through two main algorithms:\n",
        "1. Gradient descent\n",
        "2. Backpropagation\n",
        "\n",
        "OOP Documentation: https://realpython.com/python3-object-oriented-programming/"
      ],
      "metadata": {
        "id": "a-mvXaf7F7Ak"
      }
    },
    {
      "cell_type": "code",
      "source": [
        "from torch import nn\n",
        "# Create a linear regression model class\n",
        "# it inherits from nn.Module\n",
        "# give it a constructor and define a forward function for the neural network training.\n",
        "class LinearRegressionModel(nn.Module): # Almost everything in PyTorch inherits from nn.Module\n",
        "  def __init__(self):\n",
        "    super().__init__()\n",
        "    self.weights = nn.Parameter(torch.randn(1,\n",
        "                                            requires_grad=True,\n",
        "                                            dtype=torch.float))\n",
        "    self.bias = nn.Parameter(torch.randn(1,\n",
        "                                         requires_grad=True,\n",
        "                                         dtype=torch.float))\n",
        "\n",
        "  # If you are going to inherit from nn.Module, override the Forward Method\n",
        "  # Forward method to define the computation in the model.\n",
        "  def forward(self, x: torch.Tensor) -> torch.Tensor: # <- \"x\"\n",
        "    return self.weights * x + self.bias # linear regression formula"
      ],
      "metadata": {
        "id": "ZAN3UkECGvhk"
      },
      "execution_count": null,
      "outputs": []
    },
    {
      "cell_type": "markdown",
      "source": [
        "### PyTorch model buliding essentials\n",
        "* torch.nn - contains all of the building blocks for computational graphs (a neural network can be considered a computational graph)\n",
        "* torch.nn.Parameter - what parameters should our model try and learn, often a PyTorch layer from torch.nn wil set these for us.\n",
        "* torch.nn.Module - The base class for all neural network modeules, if you subclass it, you should override forward().\n",
        "* torch.optim - this is where the optimizers in PyTorch live, they will help with gradient descent.\n",
        "* def forward() - All nn.Module subclasses require you to override forward(), this method defines what happens in the forward computation.\n",
        "\n",
        "https://docs.pytorch.org/tutorials/index.html"
      ],
      "metadata": {
        "id": "TPMiCNRh_E6_"
      }
    },
    {
      "cell_type": "markdown",
      "source": [
        "###Useful libraries for data prep\n",
        "\n",
        "* torchvision.transforms\n",
        "* torch.utils.data.Dataset\n",
        "* torch.utils.data.DataLoader\n",
        "\n",
        "### Useful libraries for models\n",
        "* torch.nn\n",
        "* torch.nn.Module\n",
        "* torchvision.models\n",
        "\n",
        "### For optimization\n",
        "* torch.optim\n",
        "\n",
        "### For evaluation\n",
        "* torchmetrics\n",
        "\n",
        "### For experimentation / improvements\n",
        "* torch.utils.tensorboard"
      ],
      "metadata": {
        "id": "Pu88NENQBU5S"
      }
    },
    {
      "cell_type": "markdown",
      "source": [
        "### Checking the contents of our PyTorch model\n",
        "\n",
        "Now we've created a model, let's see what's inside...\n",
        "\n",
        "So we can check our model parameters or what's inside our model using .parameters()"
      ],
      "metadata": {
        "id": "dUvPSA8-B9Y7"
      }
    },
    {
      "cell_type": "code",
      "source": [
        "# Create a random seed.\n",
        "# Our models use random values, so here we are using a seed for testing purposes.\n",
        "torch.manual_seed(42) # seed so that we get the same value each time.\n",
        "\n",
        "# Create an instance of the model (this is a subclass of nn.Module)\n",
        "model_0 = LinearRegressionModel()\n",
        "\n",
        "list(model_0.parameters())"
      ],
      "metadata": {
        "colab": {
          "base_uri": "https://localhost:8080/"
        },
        "id": "IGiM9zGPDDET",
        "outputId": "13c4e4db-74a4-4535-87e1-e7c51987a972"
      },
      "execution_count": null,
      "outputs": [
        {
          "output_type": "execute_result",
          "data": {
            "text/plain": [
              "[Parameter containing:\n",
              " tensor([0.3367], requires_grad=True),\n",
              " Parameter containing:\n",
              " tensor([0.1288], requires_grad=True)]"
            ]
          },
          "metadata": {},
          "execution_count": 76
        }
      ]
    },
    {
      "cell_type": "code",
      "source": [
        "# List named parameters\n",
        "model_0.state_dict()"
      ],
      "metadata": {
        "colab": {
          "base_uri": "https://localhost:8080/"
        },
        "id": "j7KeY5H0Djzy",
        "outputId": "64f3ef5e-a95e-4471-dc13-dcf183b972fc"
      },
      "execution_count": null,
      "outputs": [
        {
          "output_type": "execute_result",
          "data": {
            "text/plain": [
              "OrderedDict([('weights', tensor([0.3367])), ('bias', tensor([0.1288]))])"
            ]
          },
          "metadata": {},
          "execution_count": 77
        }
      ]
    },
    {
      "cell_type": "code",
      "source": [
        "weight, bias"
      ],
      "metadata": {
        "colab": {
          "base_uri": "https://localhost:8080/"
        },
        "id": "9Tb5WxrxEpnD",
        "outputId": "5472b38a-8134-4f89-c523-fe7e4d719efb"
      },
      "execution_count": null,
      "outputs": [
        {
          "output_type": "execute_result",
          "data": {
            "text/plain": [
              "(0.7, 0.3)"
            ]
          },
          "metadata": {},
          "execution_count": 78
        }
      ]
    },
    {
      "cell_type": "code",
      "source": [
        "# start with random values and use gradient descent and backpropagation to\n",
        "# adjust the values as close to the ideal values as possible"
      ],
      "metadata": {
        "id": "2Bt6eF1DEzVL"
      },
      "execution_count": null,
      "outputs": []
    },
    {
      "cell_type": "markdown",
      "source": [
        "### Making predictions using `torch.inference_mode()`\n",
        "\n",
        "To check our model's predictive power, let's see how well it predicts `y_test` based on `x_test`\n",
        "\n",
        "When we pass data through our model, it's going to run it through the forward method."
      ],
      "metadata": {
        "id": "fpOohVCiFEQK"
      }
    },
    {
      "cell_type": "code",
      "source": [
        "# Make predictions with model. `with` ensures that resources are properly\n",
        "# cleaned up after execution. inference mode removes the gradient data\n",
        "# thus speeding up the code execution. you can also do something similar\n",
        "# with torch.no_grad(), however inference mode is preferred.\n",
        "with torch.inference_mode():\n",
        "  y_preds = model_0(X_test)\n",
        "\n",
        "y_preds"
      ],
      "metadata": {
        "colab": {
          "base_uri": "https://localhost:8080/"
        },
        "id": "2Zb-GGMDFnjF",
        "outputId": "58b9603c-063d-4fb9-aacf-3accad24ba5f"
      },
      "execution_count": null,
      "outputs": [
        {
          "output_type": "execute_result",
          "data": {
            "text/plain": [
              "tensor([[0.3982],\n",
              "        [0.4049],\n",
              "        [0.4116],\n",
              "        [0.4184],\n",
              "        [0.4251],\n",
              "        [0.4318],\n",
              "        [0.4386],\n",
              "        [0.4453],\n",
              "        [0.4520],\n",
              "        [0.4588]])"
            ]
          },
          "metadata": {},
          "execution_count": 80
        }
      ]
    },
    {
      "cell_type": "markdown",
      "source": [
        "See more on inference mode here - https://x.com/PyTorch/status/1437838231505096708?lang=en"
      ],
      "metadata": {
        "id": "mqxXU678IBpt"
      }
    },
    {
      "cell_type": "code",
      "source": [
        "y_test"
      ],
      "metadata": {
        "colab": {
          "base_uri": "https://localhost:8080/"
        },
        "id": "sX8FNyWnGu5r",
        "outputId": "c041865f-7f4a-462e-dab3-3edc64ede165"
      },
      "execution_count": null,
      "outputs": [
        {
          "output_type": "execute_result",
          "data": {
            "text/plain": [
              "tensor([[0.8600],\n",
              "        [0.8740],\n",
              "        [0.8880],\n",
              "        [0.9020],\n",
              "        [0.9160],\n",
              "        [0.9300],\n",
              "        [0.9440],\n",
              "        [0.9580],\n",
              "        [0.9720],\n",
              "        [0.9860]])"
            ]
          },
          "metadata": {},
          "execution_count": 81
        }
      ]
    },
    {
      "cell_type": "code",
      "source": [
        "plot_predictions(predictions=y_preds)"
      ],
      "metadata": {
        "colab": {
          "base_uri": "https://localhost:8080/",
          "height": 433
        },
        "id": "m5EfIIiDHG-S",
        "outputId": "c0f5b482-133c-457e-b455-90ec38d5db18"
      },
      "execution_count": null,
      "outputs": [
        {
          "output_type": "display_data",
          "data": {
            "text/plain": [
              "<Figure size 1000x700 with 1 Axes>"
            ],
            "image/png": "[encoded data removed]"
          },
          "metadata": {}
        }
      ]
    },
    {
      "cell_type": "markdown",
      "source": [
        "## 3. Train model\n",
        "\n",
        "The whole idea of training is for a model to move from some *unknown* parameters (these may be random) to some *known* parameters.\n",
        "\n",
        "Or in other words from a poor representation of the data to a better representation of the data.\n",
        "\n",
        "One way to measure how poor the model's predictions are is to use a loss function.\n",
        "\n",
        "PyTorch has some built in loss functions. Cost Function, loss function, criterion, etc.\n",
        "\n",
        "This we need to train:\n",
        "\n",
        "** Loss function: ** A function to measure how wrong your model's predictions are when compared to the ideal outputs. (lower is better)\n",
        "** Optimizer:** Takes into account the loss of a model and adjusts the model's parameters (e.g. weight and bias) to improve the loss function.\n",
        "\n",
        "* Inside the optimizer you'll often have to set two parameters:\n",
        "  * `params` - the model parameters you'd like to optimize, for example, params=model_0.parameters\n",
        "  * `lr` (learning rate) - the learning rate is the hyperparameter that defines the rate at which the optimizer adjusts the parameters with each iteration / step. A small lr results in small changes, a big lr results in large changes.\n",
        "\n",
        "Loss functions:\n",
        "https://docs.pytorch.org/docs/stable/nn.html#loss-functions\n",
        "\n",
        "And specifically for PyTorch, we need:\n",
        "* A training loop\n",
        "* A testing loop"
      ],
      "metadata": {
        "id": "T4E48_sGHKzj"
      }
    },
    {
      "cell_type": "code",
      "source": [
        "list(model_0.parameters())"
      ],
      "metadata": {
        "colab": {
          "base_uri": "https://localhost:8080/"
        },
        "id": "cTzlx-f8KvQa",
        "outputId": "227ccf84-1e00-4f08-d410-432c6343c8b7"
      },
      "execution_count": null,
      "outputs": [
        {
          "output_type": "execute_result",
          "data": {
            "text/plain": [
              "[Parameter containing:\n",
              " tensor([0.3367], requires_grad=True),\n",
              " Parameter containing:\n",
              " tensor([0.1288], requires_grad=True)]"
            ]
          },
          "metadata": {},
          "execution_count": 83
        }
      ]
    },
    {
      "cell_type": "markdown",
      "source": [
        "Which loss function should you use? You won't really know until you start working hands on with a specific problem.\n",
        "\n",
        "L1 loss is like the \"mean of the loss\"\n",
        "\n",
        "Optimizer functions: https://docs.pytorch.org/docs/stable/optim.html#module-torch.optim\n"
      ],
      "metadata": {
        "id": "dfefZsGBL6kc"
      }
    },
    {
      "cell_type": "code",
      "source": [
        "# Check out our model's parameters ( a parameter is a value that the model sets itself)\n",
        "model_0.state_dict()"
      ],
      "metadata": {
        "colab": {
          "base_uri": "https://localhost:8080/"
        },
        "id": "Js-WJc7BSXhV",
        "outputId": "1554316b-bf81-4cc5-8752-202ce9a0bb02"
      },
      "execution_count": null,
      "outputs": [
        {
          "output_type": "execute_result",
          "data": {
            "text/plain": [
              "OrderedDict([('weights', tensor([0.3367])), ('bias', tensor([0.1288]))])"
            ]
          },
          "metadata": {},
          "execution_count": 84
        }
      ]
    },
    {
      "cell_type": "code",
      "source": [
        "# Setup a loss function to reduce MAE. Measure how wrong the model is.\n",
        "loss_fn = nn.L1Loss() # mainly for checking the difference between the training / test data and the predictions. see the loop for more details.\n",
        "\n",
        "# Setup an optimizer (stochastic gradient descent).\n",
        "# Optimize the model to reduce the loss.\n",
        "# The higher the learning rate, the more it adjusts each of its pramaters in one hit (one iteration).\n",
        "optimizer = torch.optim.SGD(params=model_0.parameters(),\n",
        "                            lr=0.01) # lr = learning rate = possibly the most important hyperparameter you can set (the params we can set)"
      ],
      "metadata": {
        "id": "2oOZPs0rPH46"
      },
      "execution_count": null,
      "outputs": []
    },
    {
      "cell_type": "markdown",
      "source": [
        "*Q*: Which loss function and optimizer should I use?\n",
        "\n",
        "*A*: This will be problem specific, but with experience, you'll get an idea of what works and what doesn't for your particular problem set.\n",
        "\n",
        "For example, for a regression problem (like ours), a loss function of `nn.L`Loss()` and an optimizer like `torch.optim.SGD()` will suffice.\n",
        "\n",
        "For a classification problem like classifying whether a photo shows a dog or a cat, you'll likely want to use a loss function of `nn.BCELoss()` (binary cross entropy loss)."
      ],
      "metadata": {
        "id": "NimATwtNP_Iq"
      }
    },
    {
      "cell_type": "markdown",
      "source": [
        "### Building a training loop (and a testing loop) in PyTorch\n",
        "\n",
        "A couple of things we need in a training loop:\n",
        "0. Loop through the data\n",
        "1. Forward pass (this involves data moving through our model's `forward()` functions such as the one we wrote for our model. Also called forward propagation) to make predictions on data\n",
        "2. Calculate the loss (compare forward pass predictions to ground truth labels)\n",
        "3. Optimizer zero grad\n",
        "4. Loss backward - move backwards through the network to calculate the gradients of each of the parameters of our model with respect to the loss (**backpropagation**)\n",
        "5. Optimizer step - use the optimizer to adjust our model's parameters to try and improve the loss (**gradient descent**)."
      ],
      "metadata": {
        "id": "g4nPEvNWXP4a"
      }
    },
    {
      "cell_type": "code",
      "source": [
        "# An epoch is one loop through the data...\n",
        "# this is a hyper parameter because we set it ourselves\n",
        "epochs = 1\n",
        "\n",
        "### Training\n",
        "# 0. Loop through the data\n",
        "for epoch in range(epochs):\n",
        "  # Set the model to training mode\n",
        "  model_0.train() # train mode in PyTorch sets all parameters that require gradients to require gradients\n",
        "  # model_0.eval() # turns off gradient tracking\n",
        "\n",
        "  # 1. Forward pass. we learn patterns on the training data to evaluate our model on the test data.\n",
        "  y_pred = model_0(X_train)\n",
        "\n",
        "  # 2. Calculate the loss\n",
        "  loss = loss_fn(y_pred, y_train) # compare prediction data to training data. input vs. target\n",
        "\n",
        "  # 3. Optimizer zero grad\n",
        "  optimizer.zero_grad()\n",
        "\n",
        "  # 4. Perform backpropagation on the loss with respect to the parameters of the model\n",
        "  loss.backward()\n",
        "\n",
        "  # 5. Step the optimizer\n",
        "  # By default how the optimizer changes will accumulate through\n",
        "  # the loop so... we have to zero them above in step three\n",
        "  optimizer.step()\n",
        "\n",
        "\n",
        "\n",
        "\n"
      ],
      "metadata": {
        "id": "KPA1cwbHXtIS"
      },
      "execution_count": null,
      "outputs": []
    },
    {
      "cell_type": "code",
      "source": [
        "## Rewrite the loop for fun!\n",
        "epochs = 200 # hyperparameter\n",
        "\n",
        "# keep track of the training runs (epochs)\n",
        "epoch_count = []\n",
        "loss_values = [] # keep track of MAE: Mean Absolute Error\n",
        "test_loss_values = []\n",
        "\n",
        "for epoch in range(epochs):\n",
        "  model_0.train() # the default mode that the model is in.\n",
        "  y_pred = model_0(X_train) # pass in the training data and generate predictions\n",
        "  loss = loss_fn(y_pred, y_train) # check the difference between the prediction and training data\n",
        "  optimizer.zero_grad() # the gradients acumulate over time in each step so we want to zero them\n",
        "  loss.backward() # compute the gradient of every parameter with `requires_grad=True`\n",
        "  optimizer.step()\n",
        "  ### Testing ### inference_mode() improves performance\n",
        "  model_0.eval() # turns off different setting in the model not needed for evaluation / testing. (dropout / batchnorm layers)\n",
        "  with torch.inference_mode(): #turns off gradient tracking & a couple more things behind the scenes\n",
        "    # 1. Do the forward pass\n",
        "    test_pred = model_0(X_test) # try the model on test data that it hasn't seen yet.\n",
        "    # 2. Calculate the loss\n",
        "    test_loss = loss_fn(test_pred, y_test) # test the model against test data. data that it has never seen before.\n",
        "\n",
        "  # don't print every single epoch, just show every 10,\n",
        "  # and the final iteration, equal to epochs - 1. (count starts from 0)\n",
        "  if epoch % 50 == 0 or epoch == epochs - 1:\n",
        "    epoch_count.append(epoch)\n",
        "    loss_values.append(loss)\n",
        "    test_loss_values.append(test_loss)\n",
        "    print(f\"Epoch: {epoch} | Loss: {loss} | Test loss: {test_loss}\")\n"
      ],
      "metadata": {
        "colab": {
          "base_uri": "https://localhost:8080/"
        },
        "id": "NbuuXCbWhwup",
        "outputId": "58158b01-6c2d-46f6-f8b6-adf32a5e17d0"
      },
      "execution_count": null,
      "outputs": [
        {
          "output_type": "stream",
          "name": "stdout",
          "text": [
            "Epoch: 0 | Loss: 0.3013603389263153 | Test loss: 0.4675942063331604\n",
            "Epoch: 50 | Loss: 0.04132963344454765 | Test loss: 0.09809747338294983\n",
            "Epoch: 100 | Loss: 0.024110013619065285 | Test loss: 0.05536102131009102\n",
            "Epoch: 150 | Loss: 0.006941580679267645 | Test loss: 0.0153720797970891\n",
            "Epoch: 199 | Loss: 0.008932482451200485 | Test loss: 0.005023092031478882\n"
          ]
        }
      ]
    },
    {
      "cell_type": "code",
      "source": [
        "## FYI: y_preds is a Tensor reference, not a value, so it updates when the\n",
        "## model goes through training.\n",
        "plot_predictions(predictions=y_preds)\n",
        "with torch.inference_mode():\n",
        "  y_preds_new = model_0(X_test)\n",
        "plot_predictions(predictions=y_preds_new)"
      ],
      "metadata": {
        "colab": {
          "base_uri": "https://localhost:8080/",
          "height": 848
        },
        "id": "ZRrTG2iEr8YD",
        "outputId": "f0928788-bcdf-43c1-c05b-178362133a2e"
      },
      "execution_count": null,
      "outputs": [
        {
          "output_type": "display_data",
          "data": {
            "text/plain": [
              "<Figure size 1000x700 with 1 Axes>"
            ],
            "image/png": "[encoded data removed]"
          },
          "metadata": {}
        },
        {
          "output_type": "display_data",
          "data": {
            "text/plain": [
              "<Figure size 1000x700 with 1 Axes>"
            ],
            "image/png": "[encoded data removed]"
          },
          "metadata": {}
        }
      ]
    },
    {
      "cell_type": "code",
      "source": [
        "model_0.state_dict()"
      ],
      "metadata": {
        "colab": {
          "base_uri": "https://localhost:8080/"
        },
        "id": "MajELrkrsDLC",
        "outputId": "a5d610f5-050f-4b0d-d566-0b3552889f40"
      },
      "execution_count": null,
      "outputs": [
        {
          "output_type": "execute_result",
          "data": {
            "text/plain": [
              "OrderedDict([('weights', tensor([0.6951])), ('bias', tensor([0.2993]))])"
            ]
          },
          "metadata": {},
          "execution_count": 89
        }
      ]
    },
    {
      "cell_type": "code",
      "source": [
        "plot_predictions(predictions=y_preds_new)"
      ],
      "metadata": {
        "colab": {
          "base_uri": "https://localhost:8080/",
          "height": 433
        },
        "id": "0a4I5V9JLbAB",
        "outputId": "c282b7f2-efba-46e0-cbf0-23a55f3fa0a9"
      },
      "execution_count": null,
      "outputs": [
        {
          "output_type": "display_data",
          "data": {
            "text/plain": [
              "<Figure size 1000x700 with 1 Axes>"
            ],
            "image/png": "[encoded data removed]"
          },
          "metadata": {}
        }
      ]
    },
    {
      "cell_type": "code",
      "source": [
        "type(y_preds)"
      ],
      "metadata": {
        "colab": {
          "base_uri": "https://localhost:8080/"
        },
        "id": "d9L2J6E3LfsR",
        "outputId": "de394a74-986c-4318-8eca-2cabbd137be3"
      },
      "execution_count": null,
      "outputs": [
        {
          "output_type": "execute_result",
          "data": {
            "text/plain": [
              "torch.Tensor"
            ]
          },
          "metadata": {},
          "execution_count": 91
        }
      ]
    },
    {
      "cell_type": "code",
      "source": [
        "# Turn the tensor into a numpy ndarray for graphing purposes.\n",
        "# Matplotlib doesn't play well with the Tensor + grad format.\n",
        "import numpy as np\n",
        "loss_values_numpy = np.array(torch.tensor(loss_values).numpy()) #, test_loss_values\n",
        "# Plot the loss curves\n",
        "plt.plot(epoch_count, loss_values_numpy, label=\"Train loss\")\n",
        "plt.plot(epoch_count, test_loss_values, label=\"Test loss\")\n",
        "plt.title(\"Training and test loss curves\")\n",
        "plt.ylabel(\"Loss\")\n",
        "plt.xlabel(\"Epochs\")\n",
        "plt.legend()"
      ],
      "metadata": {
        "colab": {
          "base_uri": "https://localhost:8080/",
          "height": 489
        },
        "id": "mbWRVRO5M3X6",
        "outputId": "95405dad-6982-45fd-a1ce-12ccdaa1eb8c"
      },
      "execution_count": null,
      "outputs": [
        {
          "output_type": "execute_result",
          "data": {
            "text/plain": [
              "<matplotlib.legend.Legend at 0x7fe45757c680>"
            ]
          },
          "metadata": {},
          "execution_count": 92
        },
        {
          "output_type": "display_data",
          "data": {
            "text/plain": [
              "<Figure size 640x480 with 1 Axes>"
            ],
            "image/png": "[encoded data removed]"
          },
          "metadata": {}
        }
      ]
    },
    {
      "cell_type": "markdown",
      "source": [
        "### Saving a model in PyTorch\n",
        "\n",
        "There are three main methods you should know about for saving and loading models in PyTorch.\n",
        "\n",
        "1. `torch.save()` - allows you to save a PyTorch object in Python's pickle format (Python object serialization).\n",
        "2. `torch.load()` - allows you to load a saved PyTorch object\n",
        "3. `torch.nn.Module.load_state_dict() - this allows you to load a model's saved state dictionary. https://docs.pytorch.org/tutorials/beginner/saving_loading_models.html"
      ],
      "metadata": {
        "id": "yfFjO6SmOyWS"
      }
    },
    {
      "cell_type": "code",
      "source": [
        "# Saving our PyTorch model. It's also possible to save it to Google drive\n",
        "from pathlib import Path # Path from pathlib utils.\n",
        "# 1. Create models directory\n",
        "MODEL_PATH = Path(\"models\")\n",
        "MODEL_PATH.mkdir(parents=True, exist_ok=True)\n",
        "\n",
        "# 2. Create model save path\n",
        "MODEL_NAME = \"01_pytorch_workflow_model_0.pth\"\n",
        "MODEL_SAVE_PATH = MODEL_PATH / MODEL_NAME\n",
        "print(f\"Saving model to: {MODEL_SAVE_PATH}\")\n",
        "torch.save(obj=model_0.state_dict(), f=MODEL_SAVE_PATH)"
      ],
      "metadata": {
        "colab": {
          "base_uri": "https://localhost:8080/"
        },
        "id": "K9j5NKNxcL5O",
        "outputId": "b6e1330b-bf81-49d1-bac6-88d0a62210d3"
      },
      "execution_count": null,
      "outputs": [
        {
          "output_type": "stream",
          "name": "stdout",
          "text": [
            "Saving model to: models/01_pytorch_workflow_model_0.pth\n"
          ]
        }
      ]
    },
    {
      "cell_type": "code",
      "source": [
        "!ls -l models"
      ],
      "metadata": {
        "colab": {
          "base_uri": "https://localhost:8080/"
        },
        "id": "nlstq6dNc-EB",
        "outputId": "45b85cce-2d61-4b70-de4b-dff9cb5b1c0d"
      },
      "execution_count": null,
      "outputs": [
        {
          "output_type": "stream",
          "name": "stdout",
          "text": [
            "total 8\n",
            "-rw-r--r-- 1 root root 2125 Oct  2 01:46 01_pytorch_workflow_model_01.pth\n",
            "-rw-r--r-- 1 root root 2117 Oct  2 03:03 01_pytorch_workflow_model_0.pth\n"
          ]
        }
      ]
    },
    {
      "cell_type": "markdown",
      "source": [
        "### Loading a model in PyTorch"
      ],
      "metadata": {
        "id": "W-wX852rrSYu"
      }
    },
    {
      "cell_type": "code",
      "source": [
        "model_1 = LinearRegressionModel()\n",
        "model_1.load_state_dict(torch.load(f=MODEL_SAVE_PATH))\n",
        "# Test the loaded model. Compare its weights and bias to the original model.\n",
        "model_1.state_dict(), model_0.state_dict()"
      ],
      "metadata": {
        "colab": {
          "base_uri": "https://localhost:8080/"
        },
        "id": "TRBYxk19gcsq",
        "outputId": "f1086a3d-331c-4d38-c702-cec3be04ad24"
      },
      "execution_count": null,
      "outputs": [
        {
          "output_type": "execute_result",
          "data": {
            "text/plain": [
              "(OrderedDict([('weights', tensor([0.6951])), ('bias', tensor([0.2993]))]),\n",
              " OrderedDict([('weights', tensor([0.6951])), ('bias', tensor([0.2993]))]))"
            ]
          },
          "metadata": {},
          "execution_count": 95
        }
      ]
    },
    {
      "cell_type": "code",
      "source": [
        "# Make some predictions with our loaded model\n",
        "model_1.eval()\n",
        "with torch.inference_mode():\n",
        "  loaded_model_preds = model_1(X_test)\n",
        "\n",
        "loaded_model_preds == y_preds ## we found out that the preds must have been modified somewhere above.\n"
      ],
      "metadata": {
        "colab": {
          "base_uri": "https://localhost:8080/"
        },
        "id": "im-73pTBiKnx",
        "outputId": "a562b956-3c63-46de-e842-4afabced1976"
      },
      "execution_count": null,
      "outputs": [
        {
          "output_type": "execute_result",
          "data": {
            "text/plain": [
              "tensor([[False],\n",
              "        [False],\n",
              "        [False],\n",
              "        [False],\n",
              "        [False],\n",
              "        [False],\n",
              "        [False],\n",
              "        [False],\n",
              "        [False],\n",
              "        [False]])"
            ]
          },
          "metadata": {},
          "execution_count": 96
        }
      ]
    },
    {
      "cell_type": "code",
      "source": [
        "model_0.eval()\n",
        "with torch.inference_mode():\n",
        "  y_preds = model_0(X_test)\n",
        "\n",
        "loaded_model_preds == y_preds\n"
      ],
      "metadata": {
        "colab": {
          "base_uri": "https://localhost:8080/"
        },
        "id": "w32ICs8oqx7K",
        "outputId": "a21a7a2e-b005-450a-8c64-9b023888a22d"
      },
      "execution_count": null,
      "outputs": [
        {
          "output_type": "execute_result",
          "data": {
            "text/plain": [
              "tensor([[True],\n",
              "        [True],\n",
              "        [True],\n",
              "        [True],\n",
              "        [True],\n",
              "        [True],\n",
              "        [True],\n",
              "        [True],\n",
              "        [True],\n",
              "        [True]])"
            ]
          },
          "metadata": {},
          "execution_count": 97
        }
      ]
    },
    {
      "cell_type": "markdown",
      "source": [
        "## 6. Putting it all together\n",
        "\n",
        "Let's go back through the steps above and see it all in one place.\n",
        "\n",
        "### 6.0 Import libs"
      ],
      "metadata": {
        "id": "e5a77aqcrFr7"
      }
    },
    {
      "cell_type": "code",
      "source": [
        "# Import PyTorch and other libs\n",
        "import torch\n",
        "from torch import nn\n",
        "import matplotlib.pyplot as plt"
      ],
      "metadata": {
        "id": "5QsErEf8si1_"
      },
      "execution_count": null,
      "outputs": []
    },
    {
      "cell_type": "markdown",
      "source": [
        "Create device-agnostic code. This means that if we've got access to a GPU, our code will use it. If no GPU is available, the code will default to using the CPU."
      ],
      "metadata": {
        "id": "BiAr1WNC7t3_"
      }
    },
    {
      "cell_type": "code",
      "source": [
        "device = \"cuda\" if torch.cuda.is_available() else \"cpu\"\n",
        "print(f\"Using device: {device}\")"
      ],
      "metadata": {
        "colab": {
          "base_uri": "https://localhost:8080/"
        },
        "id": "EtKRKOZS77Be",
        "outputId": "5bc79bdf-3398-4dc2-82d9-e32e9ae14cdf"
      },
      "execution_count": null,
      "outputs": [
        {
          "output_type": "stream",
          "name": "stdout",
          "text": [
            "Using device: cuda\n"
          ]
        }
      ]
    },
    {
      "cell_type": "code",
      "source": [
        "!nvidia-smi"
      ],
      "metadata": {
        "colab": {
          "base_uri": "https://localhost:8080/"
        },
        "id": "E5756i0J8fRv",
        "outputId": "bdebc8bb-ee8f-4087-9232-62560ee104f5"
      },
      "execution_count": null,
      "outputs": [
        {
          "output_type": "stream",
          "name": "stdout",
          "text": [
            "Thu Oct  2 03:03:37 2025       \n",
            "+-----------------------------------------------------------------------------------------+\n",
            "| NVIDIA-SMI 550.54.15              Driver Version: 550.54.15      CUDA Version: 12.4     |\n",
            "|-----------------------------------------+------------------------+----------------------+\n",
            "| GPU  Name                 Persistence-M | Bus-Id          Disp.A | Volatile Uncorr. ECC |\n",
            "| Fan  Temp   Perf          Pwr:Usage/Cap |           Memory-Usage | GPU-Util  Compute M. |\n",
            "|                                         |                        |               MIG M. |\n",
            "|=========================================+========================+======================|\n",
            "|   0  Tesla T4                       Off |   00000000:00:04.0 Off |                    0 |\n",
            "| N/A   78C    P0             34W /   70W |     158MiB /  15360MiB |      0%      Default |\n",
            "|                                         |                        |                  N/A |\n",
            "+-----------------------------------------+------------------------+----------------------+\n",
            "                                                                                         \n",
            "+-----------------------------------------------------------------------------------------+\n",
            "| Processes:                                                                              |\n",
            "|  GPU   GI   CI        PID   Type   Process name                              GPU Memory |\n",
            "|        ID   ID                                                               Usage      |\n",
            "|=========================================================================================|\n",
            "+-----------------------------------------------------------------------------------------+\n"
          ]
        }
      ]
    },
    {
      "cell_type": "markdown",
      "source": [
        "### 6.1 Data"
      ],
      "metadata": {
        "id": "xepO3shUr2Xr"
      }
    },
    {
      "cell_type": "code",
      "source": [
        "# Create *known* parameters\n",
        "weight = 0.7\n",
        "bias = 0.3\n",
        "\n",
        "# Create some data\n",
        "start = 0\n",
        "end = 1\n",
        "step = 0.02\n",
        "X = torch.arange(start, end, step).unsqueeze(dim=1) # typically X refers to a matrix or tensor in ML.\n",
        "y = weight * X + bias # this is the function we are using.\n",
        "\n",
        "# Create a train/test split\n",
        "train_split = int(0.8 * len(X)) # 80% of the samples, which is 40 in this case\n",
        "X_train, y_train = X[:train_split], y[:train_split] # get the first 40 of each\n",
        "X_test, y_test = X[train_split:], y[train_split:] # from index 40 and up which is the last 10"
      ],
      "metadata": {
        "id": "-NlzqGzeshyB"
      },
      "execution_count": null,
      "outputs": []
    },
    {
      "cell_type": "markdown",
      "source": [
        "### 6.2 Model"
      ],
      "metadata": {
        "id": "UGUAKYwHvZou"
      }
    },
    {
      "cell_type": "code",
      "source": [
        "class LinearRegressionModel(nn.Module): # Almost everything in PyTorch inherits from nn.Module\n",
        "  def __init__(self):\n",
        "    super().__init__()\n",
        "    self.weights = nn.Parameter(torch.randn(1,\n",
        "                                            requires_grad=True,\n",
        "                                            dtype=torch.float))\n",
        "    self.bias = nn.Parameter(torch.randn(1,\n",
        "                                         requires_grad=True,\n",
        "                                         dtype=torch.float))\n",
        "\n",
        "  def forward(self, x: torch.Tensor) -> torch.Tensor: # <- \"x\"\n",
        "    return self.weights * x + self.bias # linear regression formula"
      ],
      "metadata": {
        "id": "1-obrkoIvcZZ"
      },
      "execution_count": null,
      "outputs": []
    },
    {
      "cell_type": "code",
      "source": [
        "# Create an instance of the model (this is a subclass of nn.Module)\n",
        "model_01 = LinearRegressionModel()"
      ],
      "metadata": {
        "id": "THAcGG2fv1iW"
      },
      "execution_count": null,
      "outputs": []
    },
    {
      "cell_type": "code",
      "source": [
        "# Setup a loss function to reduce MAE. Measure how wrong the model is.\n",
        "loss_fn = nn.L1Loss()\n",
        "\n",
        "# Setup an optimizer (stochastic gradient descent).\n",
        "# Optimize the model to reduce the loss.\n",
        "# The higher the learning rate, the more it adjusts each of its pramaters in one hit (one iteration).\n",
        "optimizer = torch.optim.SGD(params=model_01.parameters(),\n",
        "                            lr=0.01) # lr = learning rate = possibly the most important hyperparameter you can set (the params we can set)"
      ],
      "metadata": {
        "id": "3CEFGrvFwBp2"
      },
      "execution_count": null,
      "outputs": []
    },
    {
      "cell_type": "code",
      "source": [
        "# Pre-training predictions. Check what the predictions look like before we train the model.\n",
        "with torch.inference_mode():\n",
        "  y_preds = model_01(X_test)\n",
        "\n",
        "plot_predictions(predictions=y_preds)"
      ],
      "metadata": {
        "colab": {
          "base_uri": "https://localhost:8080/",
          "height": 427
        },
        "id": "voeZhTV-wvqf",
        "outputId": "92e4e496-fb46-4ecb-ca8a-01b4b7a449db"
      },
      "execution_count": null,
      "outputs": [
        {
          "output_type": "display_data",
          "data": {
            "text/plain": [
              "<Figure size 1000x700 with 1 Axes>"
            ],
            "image/png": "[encoded data removed]"
          },
          "metadata": {}
        }
      ]
    },
    {
      "cell_type": "markdown",
      "source": [
        "### 6.3 Training loop"
      ],
      "metadata": {
        "id": "sT3nmjdhyQI-"
      }
    },
    {
      "cell_type": "code",
      "source": [
        "# An epoch is one loop through the data. This is a hyper parameter because we set it ourselves.\n",
        "epochs = 300\n",
        "\n",
        "# keep track of the training runs (epochs)\n",
        "epoch_count = []\n",
        "loss_values = [] # keep track of MAE: Mean Absolute Error\n",
        "test_loss_values = []\n",
        "\n",
        "### 0. Training, loop through the data\n",
        "for epoch in range(epochs):\n",
        "  # Set the model to training mode\n",
        "  model_01.train() # train mode in PyTorch sets all parameters that require gradients to require gradients\n",
        "  y_pred = model_01(X_train) # 1. Forward pass. we learn patterns on the training data to evaluate our model on the test data.\n",
        "  loss = loss_fn(y_pred, y_train) # # 2. Calculate the loss. Compare prediction data to training data. input vs. target\n",
        "  optimizer.zero_grad() # 3. Optimizer zero grad\n",
        "  loss.backward() # 4. Perform backpropagation on the loss with respect to the parameters of the model\n",
        "  optimizer.step() # 5. Step the optimizer. By default how the optimizer changes will accumulate through. The loop so... we have to zero them above in step three\n",
        "\n",
        "  ### Testing ### inference_mode() improves performance\n",
        "  model_01.eval() # turns off different setting in the model not needed for evaluation / testing. (dropout / batchnorm layers)\n",
        "  with torch.inference_mode(): #turns off gradient tracking & a couple more things behind the scenes\n",
        "    # 1. Do the forward pass\n",
        "    test_pred = model_01(X_test) # try the model on test data that it hasn't seen yet.\n",
        "    # 2. Calculate the loss\n",
        "    test_loss = loss_fn(test_pred, y_test) # test the model against test data. data that it has never seen before.\n",
        "\n",
        "  # don't print every single epoch, just show every 10,\n",
        "  # and the final iteration, equal to epochs - 1. (count starts from 0)\n",
        "  if epoch % 50 == 0 or epoch == epochs - 1:\n",
        "    epoch_count.append(epoch)\n",
        "    loss_values.append(loss)\n",
        "    test_loss_values.append(test_loss)\n",
        "    print(f\"Epoch: {epoch} | Loss: {loss} | Test loss: {test_loss}\")"
      ],
      "metadata": {
        "colab": {
          "base_uri": "https://localhost:8080/"
        },
        "id": "KvJ3KMbWww-B",
        "outputId": "997565b0-8394-48ff-ae3d-1c327aab485b"
      },
      "execution_count": null,
      "outputs": [
        {
          "output_type": "stream",
          "name": "stdout",
          "text": [
            "Epoch: 0 | Loss: 1.197242259979248 | Test loss: 2.0951993465423584\n",
            "Epoch: 50 | Loss: 0.62235027551651 | Test loss: 1.4226481914520264\n",
            "Epoch: 100 | Loss: 0.3332693576812744 | Test loss: 0.9419782757759094\n",
            "Epoch: 150 | Loss: 0.26441916823387146 | Test loss: 0.7065517902374268\n",
            "Epoch: 200 | Loss: 0.239961177110672 | Test loss: 0.5928755402565002\n",
            "Epoch: 250 | Loss: 0.22207458317279816 | Test loss: 0.5323523879051208\n",
            "Epoch: 299 | Loss: 0.204973503947258 | Test loss: 0.4783555567264557\n"
          ]
        }
      ]
    },
    {
      "cell_type": "markdown",
      "source": [
        "### 6.4 Plot Trained Predictions"
      ],
      "metadata": {
        "id": "6zIKsHil27ee"
      }
    },
    {
      "cell_type": "code",
      "source": [
        "import numpy as np\n",
        "loss_values_numpy = np.array(torch.tensor(loss_values).numpy()) #, test_loss_values\n",
        "# Plot the loss curves\n",
        "plt.plot(epoch_count, loss_values_numpy, label=\"Train loss\")\n",
        "plt.plot(epoch_count, test_loss_values, label=\"Test loss\")\n",
        "plt.title(\"Training and test loss curves\")\n",
        "plt.ylabel(\"Loss\")\n",
        "plt.xlabel(\"Epochs\")\n",
        "plt.legend()"
      ],
      "metadata": {
        "colab": {
          "base_uri": "https://localhost:8080/",
          "height": 489
        },
        "outputId": "46e6d140-6658-4bc1-9cba-a3f9ab54c738",
        "id": "QGuEPN9S3ZS9"
      },
      "execution_count": null,
      "outputs": [
        {
          "output_type": "execute_result",
          "data": {
            "text/plain": [
              "<matplotlib.legend.Legend at 0x7fe42ee99040>"
            ]
          },
          "metadata": {},
          "execution_count": 107
        },
        {
          "output_type": "display_data",
          "data": {
            "text/plain": [
              "<Figure size 640x480 with 1 Axes>"
            ],
            "image/png": "[encoded data removed]"
          },
          "metadata": {}
        }
      ]
    },
    {
      "cell_type": "markdown",
      "source": [
        "### 6.5 Save and load the model"
      ],
      "metadata": {
        "id": "sJCWe9dW4One"
      }
    },
    {
      "cell_type": "code",
      "source": [
        "# Saving our PyTorch model. It's also possible to save it to Google drive\n",
        "from pathlib import Path # Path from pathlib utils.\n",
        "# 1. Create models directory\n",
        "MODEL_PATH = Path(\"models\")\n",
        "MODEL_PATH.mkdir(parents=True, exist_ok=True)\n",
        "\n",
        "# 2. Create model save path\n",
        "MODEL_NAME = \"01_pytorch_workflow_model_01.pth\"\n",
        "MODEL_SAVE_PATH = MODEL_PATH / MODEL_NAME\n",
        "print(f\"Saving model to: {MODEL_SAVE_PATH}\")\n",
        "torch.save(obj=model_01.state_dict(), f=MODEL_SAVE_PATH)\n",
        "\n",
        "# 3. Instantiate a new model to load the Python dict into.\n",
        "model_001 = LinearRegressionModel()\n",
        "model_001.load_state_dict(torch.load(f=MODEL_SAVE_PATH))\n",
        "# Test the loaded model. Compare its weights and bias to the original model.\n",
        "model_001.state_dict(), model_01.state_dict()\n",
        "\n",
        "# 4. Evaluate the loaded model against the model that was saved.\n",
        "model_001.eval() # the loaded model\n",
        "with torch.inference_mode():\n",
        "  loaded_model_preds_review = model_001(X_test)\n",
        "\n",
        "model_01.eval() # the original\n",
        "with torch.inference_mode():\n",
        "  y_preds_review = model_01(X_test)\n",
        "\n",
        "loaded_model_preds_review ==  y_preds_review\n"
      ],
      "metadata": {
        "colab": {
          "base_uri": "https://localhost:8080/"
        },
        "id": "Ev7eYF0i4Stx",
        "outputId": "910684e3-2913-4f84-ec4a-167845cd414d"
      },
      "execution_count": null,
      "outputs": [
        {
          "output_type": "stream",
          "name": "stdout",
          "text": [
            "Saving model to: models/01_pytorch_workflow_model_01.pth\n"
          ]
        },
        {
          "output_type": "execute_result",
          "data": {
            "text/plain": [
              "tensor([[True],\n",
              "        [True],\n",
              "        [True],\n",
              "        [True],\n",
              "        [True],\n",
              "        [True],\n",
              "        [True],\n",
              "        [True],\n",
              "        [True],\n",
              "        [True]])"
            ]
          },
          "metadata": {},
          "execution_count": 108
        }
      ]
    },
    {
      "cell_type": "markdown",
      "source": [
        "# Extra Practice"
      ],
      "metadata": {
        "id": "9zEI4cvg6MZB"
      }
    },
    {
      "cell_type": "code",
      "source": [
        "# Import PyTorch and other libs\n",
        "import torch\n",
        "from torch import nn\n",
        "import matplotlib.pyplot as plt\n",
        "\n",
        "device = \"cuda\" if torch.cuda.is_available() else \"cpu\"\n",
        "print(f\"Using device: {device}\")"
      ],
      "metadata": {
        "colab": {
          "base_uri": "https://localhost:8080/"
        },
        "id": "BSddXoQWi5wQ",
        "outputId": "6bf5ff5b-75f3-45d5-a196-a2aeeeb531a3"
      },
      "execution_count": null,
      "outputs": [
        {
          "output_type": "stream",
          "name": "stdout",
          "text": [
            "Using device: cuda\n"
          ]
        }
      ]
    },
    {
      "cell_type": "code",
      "source": [
        "# Create some data using the linear regression formula of y = weight * X + bias\n",
        "weight = 0.7\n",
        "bias = 0.3\n",
        "\n",
        "# Create range values\n",
        "start = 0\n",
        "end = 1\n",
        "step = 0.02\n",
        "\n",
        "# Create X and y (features and label)\n",
        "X = torch. arange(start, end, step).unsqueeze(dim=1)\n",
        "y = weight * X + bias\n",
        "X[:10], y[:10]"
      ],
      "metadata": {
        "colab": {
          "base_uri": "https://localhost:8080/"
        },
        "id": "AAbNXzWfj6kY",
        "outputId": "82abb29e-9769-42a1-d85f-0e11b4fe9ef0"
      },
      "execution_count": null,
      "outputs": [
        {
          "output_type": "execute_result",
          "data": {
            "text/plain": [
              "(tensor([[0.0000],\n",
              "         [0.0200],\n",
              "         [0.0400],\n",
              "         [0.0600],\n",
              "         [0.0800],\n",
              "         [0.1000],\n",
              "         [0.1200],\n",
              "         [0.1400],\n",
              "         [0.1600],\n",
              "         [0.1800]]),\n",
              " tensor([[0.3000],\n",
              "         [0.3140],\n",
              "         [0.3280],\n",
              "         [0.3420],\n",
              "         [0.3560],\n",
              "         [0.3700],\n",
              "         [0.3840],\n",
              "         [0.3980],\n",
              "         [0.4120],\n",
              "         [0.4260]]))"
            ]
          },
          "metadata": {},
          "execution_count": 110
        }
      ]
    },
    {
      "cell_type": "code",
      "source": [
        "# Split data (80% and round to an int)\n",
        "train_split = int(0.8 * len(X))\n",
        "X_train, y_train = X[:train_split], y[:train_split]\n",
        "X_test, y_test = X[train_split:], y[train_split:]\n",
        "len(X_train), len(y_train), len(X_test), len(y_test)"
      ],
      "metadata": {
        "colab": {
          "base_uri": "https://localhost:8080/"
        },
        "id": "hICO-6UNkrXR",
        "outputId": "d5bd3178-2a56-4fd2-89aa-2217e2df78e8"
      },
      "execution_count": null,
      "outputs": [
        {
          "output_type": "execute_result",
          "data": {
            "text/plain": [
              "(40, 40, 10, 10)"
            ]
          },
          "metadata": {},
          "execution_count": 111
        }
      ]
    },
    {
      "cell_type": "code",
      "source": [
        "# Plot the data\n",
        "# Note: if you don't have the plot_predictions() function loaded, this will error\n",
        "plot_predictions(X_train, y_train, X_test, y_test)"
      ],
      "metadata": {
        "colab": {
          "base_uri": "https://localhost:8080/",
          "height": 433
        },
        "id": "uUnYFPf8lSUx",
        "outputId": "92c7e355-d6ac-4553-c179-bb7fc76adc5a"
      },
      "execution_count": null,
      "outputs": [
        {
          "output_type": "display_data",
          "data": {
            "text/plain": [
              "<Figure size 1000x700 with 1 Axes>"
            ],
            "image/png": "[encoded data removed]"
          },
          "metadata": {}
        }
      ]
    },
    {
      "cell_type": "code",
      "source": [
        "# Create a linear model by subclassing nn.Module\n",
        "class LinearRegressionModelV2(nn.Module):\n",
        "  def __init__(self):\n",
        "    super().__init__()\n",
        "    # Use nn.Linear() for creating the model parameters\n",
        "    # The layers do some of the work for us.\n",
        "    # check TORCH.NN for more layer options.\n",
        "    self.linear_layer = nn.Linear(in_features=1,\n",
        "                                  out_features=1)\n",
        "\n",
        "  def forward(self, x: torch.Tensor) -> torch.Tensor:\n",
        "    # Linear layer will perform the forward computation that we previously\n",
        "    # had to do manually. (mX+b slope formula)\n",
        "    return self.linear_layer(x)\n",
        "\n",
        "# Set the manual seed for reproducability.\n",
        "torch.manual_seed(42)\n",
        "model_1 = LinearRegressionModelV2()\n",
        "# Linear layer has a weight and bias included, which\n",
        "# replaces the weight and bias code we wrote for the original version.\n",
        "model_1, model_1.state_dict()"
      ],
      "metadata": {
        "colab": {
          "base_uri": "https://localhost:8080/"
        },
        "id": "06_q4uNsnYrI",
        "outputId": "a266f4c9-2ea2-44d8-985c-886dbc8a73c3"
      },
      "execution_count": null,
      "outputs": [
        {
          "output_type": "execute_result",
          "data": {
            "text/plain": [
              "(LinearRegressionModelV2(\n",
              "   (linear_layer): Linear(in_features=1, out_features=1, bias=True)\n",
              " ),\n",
              " OrderedDict([('linear_layer.weight', tensor([[0.7645]])),\n",
              "              ('linear_layer.bias', tensor([0.8300]))]))"
            ]
          },
          "metadata": {},
          "execution_count": 113
        }
      ]
    },
    {
      "cell_type": "code",
      "source": [
        "# Check which device the model is running on.\n",
        "# get the next paramater using an iterator and find out\n",
        "# which device that parameter lives on.\n",
        "next(model_1.parameters()).device"
      ],
      "metadata": {
        "colab": {
          "base_uri": "https://localhost:8080/"
        },
        "id": "J-0BWQYVsnMZ",
        "outputId": "d46a2222-573f-42b6-b390-3a3c522b25de"
      },
      "execution_count": null,
      "outputs": [
        {
          "output_type": "execute_result",
          "data": {
            "text/plain": [
              "device(type='cpu')"
            ]
          },
          "metadata": {},
          "execution_count": 114
        }
      ]
    },
    {
      "cell_type": "code",
      "source": [
        "# Set the model to use the target device\n",
        "# send the model to GPU\n",
        "device = \"cuda\" if torch.cuda.is_available() else \"cpu\"\n",
        "model_1.to(device)\n",
        "next(model_1.parameters()).device"
      ],
      "metadata": {
        "colab": {
          "base_uri": "https://localhost:8080/"
        },
        "id": "JFreLVq2q5gB",
        "outputId": "443c174e-2a74-42a9-dd29-913c956a7bbf"
      },
      "execution_count": null,
      "outputs": [
        {
          "output_type": "execute_result",
          "data": {
            "text/plain": [
              "device(type='cuda', index=0)"
            ]
          },
          "metadata": {},
          "execution_count": 115
        }
      ]
    },
    {
      "cell_type": "code",
      "source": [
        "### TRAINING\n",
        "# Loss function - measure how wrong the model is\n",
        "# Optimizer - optimize params to try and reduce error\n",
        "# Training loop - run the functions\n",
        "# Testing loop - test\n",
        "\n",
        "loss_fn = nn.L1Loss() # same as MAE\n",
        "\n",
        "optimizer = torch.optim.SGD(params=model_1.parameters(),\n",
        "                            lr=0.01)\n"
      ],
      "metadata": {
        "id": "f8S1_vFCt7XZ"
      },
      "execution_count": null,
      "outputs": []
    },
    {
      "cell_type": "code",
      "source": [
        "torch.manual_seed(42)\n",
        "\n",
        "epochs = 200\n",
        "\n",
        "# Put the data on target device to avoid errors.\n",
        "X_train = X_train.to(device)\n",
        "y_train = y_train.to(device)\n",
        "X_test = X_test.to(device)\n",
        "y_test = y_test.to(device)\n",
        "\n",
        "for epoch in range(epochs):\n",
        "  model_1.train()\n",
        "  # 1. Forward pass\n",
        "  y_pred = model_1(X_train) # the forward pass now uses the Linear layer.\n",
        "  # 2. Calculate loss - see how bad the model was. haha\n",
        "  loss = loss_fn(y_pred, y_train)\n",
        "\n",
        "  # 3. Optimizer zero grad - zero the gradients. start fresh\n",
        "  optimizer.zero_grad()\n",
        "\n",
        "  # 4. Perform backpropagation\n",
        "  loss.backward() # calculate the loss with respect to each param in the model.\n",
        "\n",
        "  # 5. Optimizer step\n",
        "  optimizer.step()\n",
        "\n",
        "  ### Testing\n",
        "  model_1.eval()\n",
        "  with torch.inference_mode():\n",
        "    test_pred = model_1(X_test)\n",
        "    test_loss = loss_fn(test_pred, y_test)\n",
        "\n",
        "  if epoch % 20 == 0:\n",
        "    print(f\"Epoch: {epoch} | Loss: {loss} | Test loss: {test_loss}\")"
      ],
      "metadata": {
        "colab": {
          "base_uri": "https://localhost:8080/"
        },
        "id": "a0yV5L4PvWYv",
        "outputId": "2978adf5-89c6-430a-fb73-2c6a5656a1e7"
      },
      "execution_count": null,
      "outputs": [
        {
          "output_type": "stream",
          "name": "stdout",
          "text": [
            "Epoch: 0 | Loss: 0.5551779866218567 | Test loss: 0.5739762187004089\n",
            "Epoch: 20 | Loss: 0.3247582018375397 | Test loss: 0.30455657839775085\n",
            "Epoch: 40 | Loss: 0.09433845430612564 | Test loss: 0.03513690456748009\n",
            "Epoch: 60 | Loss: 0.019956795498728752 | Test loss: 0.045803118497133255\n",
            "Epoch: 80 | Loss: 0.013089174404740334 | Test loss: 0.02994490973651409\n",
            "Epoch: 100 | Loss: 0.006215683650225401 | Test loss: 0.014086711220443249\n",
            "Epoch: 120 | Loss: 0.0012645035749301314 | Test loss: 0.013801801018416882\n",
            "Epoch: 140 | Loss: 0.0012645035749301314 | Test loss: 0.013801801018416882\n",
            "Epoch: 160 | Loss: 0.0012645035749301314 | Test loss: 0.013801801018416882\n",
            "Epoch: 180 | Loss: 0.0012645035749301314 | Test loss: 0.013801801018416882\n"
          ]
        }
      ]
    },
    {
      "cell_type": "code",
      "source": [
        "model_1.state_dict()"
      ],
      "metadata": {
        "colab": {
          "base_uri": "https://localhost:8080/"
        },
        "id": "uXIQrfuR24qI",
        "outputId": "0d0e18fd-3820-4d9e-96bc-464ca5a232fb"
      },
      "execution_count": null,
      "outputs": [
        {
          "output_type": "execute_result",
          "data": {
            "text/plain": [
              "OrderedDict([('linear_layer.weight', tensor([[0.6968]], device='cuda:0')),\n",
              "             ('linear_layer.bias', tensor([0.3025], device='cuda:0'))])"
            ]
          },
          "metadata": {},
          "execution_count": 118
        }
      ]
    },
    {
      "cell_type": "code",
      "source": [
        "weight, bias"
      ],
      "metadata": {
        "colab": {
          "base_uri": "https://localhost:8080/"
        },
        "id": "cw2vyOy73BbA",
        "outputId": "43d5c692-6386-4a82-a4f8-d5bf384121cc"
      },
      "execution_count": null,
      "outputs": [
        {
          "output_type": "execute_result",
          "data": {
            "text/plain": [
              "(0.7, 0.3)"
            ]
          },
          "metadata": {},
          "execution_count": 119
        }
      ]
    },
    {
      "cell_type": "markdown",
      "source": [
        "### Make and evaulate some predictions."
      ],
      "metadata": {
        "id": "IcJg3Sr43JEQ"
      }
    },
    {
      "cell_type": "code",
      "source": [
        "model_1.eval()\n",
        "with torch.inference_mode():\n",
        "  test_preds_2 = model_1(X_test)\n",
        "# type(test_preds_2) #Tensor\n",
        "test_preds_2_cpu = test_preds_2.cpu()\n",
        "# type(test_preds_2_cpu) Moved the Tensors to the CPU so that\n",
        "# they play nice with Matplotlib.\n",
        "plot_predictions(predictions=test_preds_2_cpu)"
      ],
      "metadata": {
        "colab": {
          "base_uri": "https://localhost:8080/",
          "height": 433
        },
        "id": "jGE3aRRM7lL_",
        "outputId": "e6f16c57-a839-430e-de05-e144df06a1af"
      },
      "execution_count": null,
      "outputs": [
        {
          "output_type": "display_data",
          "data": {
            "text/plain": [
              "<Figure size 1000x700 with 1 Axes>"
            ],
            "image/png": "[encoded data removed]"
          },
          "metadata": {}
        }
      ]
    },
    {
      "cell_type": "code",
      "source": [
        "# set up a path\n",
        "from pathlib import Path\n",
        "DIRECTORY_NAME = Path(\"test_directory\")\n",
        "# make directory\n",
        "DIRECTORY_NAME.mkdir(parents=True, exist_ok=True)\n",
        "# save the file\n",
        "MODEL_NAME = \"our_amazing_test_model_01.pt\"\n",
        "MODEL_SAVE_PATH = DIRECTORY_NAME / MODEL_NAME\n",
        "print(f\"Saving model to: {MODEL_SAVE_PATH}\")\n",
        "torch.save(obj=model_1.state_dict(), f=MODEL_SAVE_PATH)\n",
        "\n",
        "resurrected_model = LinearRegressionModelV2()\n",
        "resurrected_model.load_state_dict(torch.load(f=MODEL_SAVE_PATH))\n",
        "model_1.state_dict(), resurrected_model.state_dict()\n"
      ],
      "metadata": {
        "colab": {
          "base_uri": "https://localhost:8080/"
        },
        "id": "yP9up2jU9Jip",
        "outputId": "d5103ae9-ec35-4e12-c35f-37222ebfc42f"
      },
      "execution_count": null,
      "outputs": [
        {
          "output_type": "stream",
          "name": "stdout",
          "text": [
            "Saving model to: test_directory/our_amazing_test_model_01.pt\n"
          ]
        },
        {
          "output_type": "execute_result",
          "data": {
            "text/plain": [
              "(OrderedDict([('linear_layer.weight', tensor([[0.6968]], device='cuda:0')),\n",
              "              ('linear_layer.bias', tensor([0.3025], device='cuda:0'))]),\n",
              " OrderedDict([('linear_layer.weight', tensor([[0.6968]])),\n",
              "              ('linear_layer.bias', tensor([0.3025]))]))"
            ]
          },
          "metadata": {},
          "execution_count": 133
        }
      ]
    },
    {
      "cell_type": "code",
      "source": [
        "resurrected_model.eval()\n",
        "with torch.inference_mode():\n",
        "  resurrected_model_preds = resurrected_model(X_test.cpu())\n",
        "\n",
        "plot_predictions(predictions=resurrected_model_preds)"
      ],
      "metadata": {
        "colab": {
          "base_uri": "https://localhost:8080/",
          "height": 433
        },
        "id": "faaly4_jBz05",
        "outputId": "4459403e-3947-49f6-bbab-ed81616c6c0a"
      },
      "execution_count": null,
      "outputs": [
        {
          "output_type": "display_data",
          "data": {
            "text/plain": [
              "<Figure size 1000x700 with 1 Axes>"
            ],
            "image/png": "[encoded data removed]"
          },
          "metadata": {}
        }
      ]
    },
    {
      "cell_type": "markdown",
      "source": [
        "# Exercises and Extra Curricular Stuff\n",
        "\n",
        "https://www.learnpytorch.io/01_pytorch_workflow/#extra-curriculum"
      ],
      "metadata": {
        "id": "QoUSALFJCNBo"
      }
    },
    {
      "cell_type": "code",
      "source": [],
      "metadata": {
        "id": "U_b5iK9ORkBB"
      },
      "execution_count": null,
      "outputs": []
    }
  ]
}